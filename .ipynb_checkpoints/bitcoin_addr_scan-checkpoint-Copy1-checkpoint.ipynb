{
 "cells": [
  {
   "cell_type": "code",
   "execution_count": 54,
   "id": "5d4ed0da",
   "metadata": {
    "scrolled": true
   },
   "outputs": [
    {
     "name": "stdout",
     "output_type": "stream",
     "text": [
      "pandas version:  1.2.4\n"
     ]
    },
    {
     "name": "stderr",
     "output_type": "stream",
     "text": [
      "<ipython-input-54-0f00b66d52cb>:10: FutureWarning: Passing a negative integer is deprecated in version 1.0 and will not be supported in future version. Instead, use None to not limit the column width.\n",
      "  pd.set_option('display.max_colwidth', -1)\n"
     ]
    }
   ],
   "source": [
    "import pandas as pd\n",
    "print(\"pandas version: \", pd.__version__)\n",
    "#pd.set_option('display.max_row', 1000000)\n",
    "pd.set_option('display.max_rows', None)\n",
    "#pd.set_option('display.max_columns', 1000)\n",
    "pd.set_option('display.max_columns', None)\n",
    "pd.set_option('display.width', 1000000)\n",
    "pd.set_option('display.max_seq_items', None)\n",
    "#pd.set_option('display.height', 1000)\n",
    "pd.set_option('display.max_colwidth', -1)"
   ]
  },
  {
   "cell_type": "code",
   "execution_count": 2,
   "id": "7e80ce6b",
   "metadata": {},
   "outputs": [
    {
     "name": "stdout",
     "output_type": "stream",
     "text": [
      "Python 3.8.10\n"
     ]
    }
   ],
   "source": [
    "!Python -V"
   ]
  },
  {
   "cell_type": "code",
   "execution_count": 6,
   "id": "5571b937",
   "metadata": {
    "scrolled": false
   },
   "outputs": [
    {
     "name": "stdout",
     "output_type": "stream",
     "text": [
      "write full path: G:\\mem.lime\n",
      "IOError : File path is invalid\n"
     ]
    },
    {
     "ename": "NameError",
     "evalue": "name 'sys' is not defined",
     "output_type": "error",
     "traceback": [
      "\u001b[1;31m---------------------------------------------------------------------------\u001b[0m",
      "\u001b[1;31mPermissionError\u001b[0m                           Traceback (most recent call last)",
      "\u001b[1;32m<ipython-input-6-027badfbef95>\u001b[0m in \u001b[0;36m<module>\u001b[1;34m\u001b[0m\n\u001b[0;32m      7\u001b[0m \u001b[1;32mtry\u001b[0m\u001b[1;33m:\u001b[0m\u001b[1;33m\u001b[0m\u001b[1;33m\u001b[0m\u001b[0m\n\u001b[1;32m----> 8\u001b[1;33m     \u001b[0mhandle\u001b[0m \u001b[1;33m=\u001b[0m \u001b[0mopen\u001b[0m\u001b[1;33m(\u001b[0m\u001b[0mpath\u001b[0m\u001b[1;33m,\u001b[0m \u001b[1;34m'rb+'\u001b[0m\u001b[1;33m)\u001b[0m\u001b[1;33m\u001b[0m\u001b[1;33m\u001b[0m\u001b[0m\n\u001b[0m\u001b[0;32m      9\u001b[0m \u001b[1;32mexcept\u001b[0m \u001b[0mIOError\u001b[0m\u001b[1;33m:\u001b[0m\u001b[1;33m\u001b[0m\u001b[1;33m\u001b[0m\u001b[0m\n",
      "\u001b[1;31mPermissionError\u001b[0m: [Errno 13] Permission denied: 'G:\\\\mem.lime'",
      "\nDuring handling of the above exception, another exception occurred:\n",
      "\u001b[1;31mNameError\u001b[0m                                 Traceback (most recent call last)",
      "\u001b[1;32m<ipython-input-6-027badfbef95>\u001b[0m in \u001b[0;36m<module>\u001b[1;34m\u001b[0m\n\u001b[0;32m      9\u001b[0m \u001b[1;32mexcept\u001b[0m \u001b[0mIOError\u001b[0m\u001b[1;33m:\u001b[0m\u001b[1;33m\u001b[0m\u001b[1;33m\u001b[0m\u001b[0m\n\u001b[0;32m     10\u001b[0m     \u001b[0mprint\u001b[0m\u001b[1;33m(\u001b[0m\u001b[1;34m'IOError : File path is invalid'\u001b[0m\u001b[1;33m)\u001b[0m\u001b[1;33m\u001b[0m\u001b[1;33m\u001b[0m\u001b[0m\n\u001b[1;32m---> 11\u001b[1;33m     \u001b[0msys\u001b[0m\u001b[1;33m.\u001b[0m\u001b[0mexit\u001b[0m\u001b[1;33m(\u001b[0m\u001b[1;33m)\u001b[0m\u001b[1;33m\u001b[0m\u001b[1;33m\u001b[0m\u001b[0m\n\u001b[0m\u001b[0;32m     12\u001b[0m \u001b[0mprint\u001b[0m\u001b[1;33m(\u001b[0m\u001b[0mpath\u001b[0m\u001b[1;33m)\u001b[0m\u001b[1;33m\u001b[0m\u001b[1;33m\u001b[0m\u001b[0m\n\u001b[0;32m     13\u001b[0m \u001b[1;33m\u001b[0m\u001b[0m\n",
      "\u001b[1;31mNameError\u001b[0m: name 'sys' is not defined"
     ]
    }
   ],
   "source": [
    "import struct\n",
    "import re\n",
    "import os\n",
    "from mmap import ACCESS_READ, mmap\n",
    "\n",
    "path = input(\"write full path: \")\n",
    "try:\n",
    "    handle = open(path, 'rb+')\n",
    "except IOError:\n",
    "    print('IOError : File path is invalid')\n",
    "    sys.exit()\n",
    "print(path)\n",
    "\n",
    "#p = re.compile(rb'0x[a-fA-F0-9]{40}', re.IGNORECASE | re.MULTILINE) #이더리움 주소\n",
    "p = re.compile(rb'^(bc1|[13])[a-zA-HJ-NP-Z0-9]{25,39}', re.IGNORECASE | re.MULTILINE) # 비트코인 주소\n",
    "#p = re.compile(rb'[a-z]+\\s[a-z]+\\s[a-z]+\\s[a-z]+\\s[a-z]+\\s[a-z]+\\s[a-z]+\\s[a-z]+\\s[a-z]+\\s[a-z]+\\s[a-z]+\\s[a-z]+\\s', re.IGNORECASE | re.MULTILINE) # 나모닉 코드\n",
    "with open(path, 'rb') as file, mmap(file.fileno(), length=0, access=ACCESS_READ) as mm:\n",
    "    b=type(mm)\n",
    "    print(b)\n",
    "    #f = open('ethereum_address_scan.csv', mode='w')\n",
    "    f = open('bitcoin_address_scan.csv', mode='w')\n",
    "    #f = open('mnemonic_scan.csv', mode='w')\n",
    "    f.write(\"address\" + \"\\n\")\n",
    "    f.close()\n",
    "    for match in p.finditer(mm):\n",
    "        s = match.start()\n",
    "        e = match.end()\n",
    "        grep_match_found = mm[s:e].decode(\"utf-8\")\n",
    "        address = str(grep_match_found)\n",
    "        #f = open('ethereum_address_scan.csv', mode='+a')\n",
    "        f = open('bitcoin_address_scan.csv', mode='+a')\n",
    "        #f = open('mnemonic_scan.csv', mode='+a')\n",
    "        f.write(address + \"\\n\")\n",
    "        print(address)\n",
    "    f.close()\n",
    "file.close()\n",
    "mm.close()\n",
    "    \n",
    "# H:\\mem_dump\\memdump_C_210504.mem\n",
    "# H:\\mem_dump\\memdump_A_210524.mem\n",
    "# /mnt/h/mem_dump/memdump_C_210504.mem\n",
    "# /mnt/h/mem_dump/memdump_A_210512.mem\n",
    "#0x9ae08d0118e105dce648a7fba6fc12b2c3e9c288"
   ]
  },
  {
   "cell_type": "markdown",
   "id": "50c16725",
   "metadata": {},
   "source": [
    "\n",
    "## 백업"
   ]
  },
  {
   "cell_type": "code",
   "execution_count": null,
   "id": "83bd514b",
   "metadata": {},
   "outputs": [],
   "source": [
    "import struct\n",
    "import re\n",
    "import os\n",
    "from mmap import ACCESS_READ, mmap\n",
    "import pandas as pd\n",
    "from pandas import Series, DataFrame\n",
    "\n",
    "path = input(\"write full path: \")\n",
    "try:\n",
    "    handle = open(path, 'rb+')\n",
    "except IOError:\n",
    "    print('IOError : File path is invalid')\n",
    "    sys.exit()\n",
    "\n",
    "print(path)\n",
    "\n",
    "global df\n",
    "global count\n",
    "global address\n",
    "df = DataFrame(columns=['address'])\n",
    "#count = 1000000000\n",
    "\n",
    "\n",
    "#p = re.compile(rb'0x[a-fA-F0-9]{40}$', re.DOTALL | re.IGNORECASE | re.MULTILINE)\n",
    "p = re.compile(rb'0x[a-fA-F0-9]{40}', re.IGNORECASE | re.MULTILINE)\n",
    "\n",
    "with open(path, 'rb') as file, mmap(file.fileno(), length=0, access=ACCESS_READ) as mm:\n",
    "    #print(mm[0:42])\n",
    "    b=type(mm)\n",
    "    print(b)\n",
    "    f = open('ethereum_address_scan.txt', mode='w')\n",
    "    f.write(\"addr\" + \"\\n\")\n",
    "    f.close()\n",
    "    for match in p.finditer(mm):\n",
    "        s = match.start()\n",
    "        e = match.end()\n",
    "        grep_match_found = mm[s:e].decode(\"utf-8\")\n",
    "        address = str(grep_match_found)\n",
    "        f = open('ethereum_address_scan.txt', mode='+a')\n",
    "        f.write(address)\n",
    "        print(address)\n",
    "        '''\n",
    "        if s:\n",
    "            df = df.append(DataFrame([address], columns=['address']))\n",
    "            df\n",
    "            df.to_csv('ethereum_address_scan.csv')    \n",
    "        elif e:\n",
    "            print(\"finish\")\n",
    "            f.close()\n",
    "        else:\n",
    "            f.close()\n",
    "            break\n",
    "        '''\n",
    "        #g = match.group()\n",
    "        #grep_match_found = mm[g].decode(\"utf-8\")\n",
    "        #print(\"match_found : \", match.group())\n",
    "                          \n",
    "   \n",
    "\n",
    "    print(\"-----result-----\")\n",
    "    f.close()\n",
    "    df\n",
    "file.close()\n",
    "mm.close()\n",
    "    \n",
    "# H:\\mem_dump\\memdump_C_210504.mem\n",
    "# H:\\mem_dump\\memdump_A_210524.mem\n",
    "# /mnt/h/mem_dump/memdump_C_210504.mem\n",
    "# /mnt/h/mem_dump/memdump_A_210512.mem\n",
    "#0x9ae08d0118e105dce648a7fba6fc12b2c3e9c288\n"
   ]
  },
  {
   "cell_type": "code",
   "execution_count": 1,
   "id": "3bd9a05e",
   "metadata": {},
   "outputs": [
    {
     "data": {
      "text/plain": [
       "'little'"
      ]
     },
     "execution_count": 1,
     "metadata": {},
     "output_type": "execute_result"
    }
   ],
   "source": [
    "import sys\n",
    "\n",
    "sys.byteorder"
   ]
  },
  {
   "cell_type": "code",
   "execution_count": 3,
   "id": "f4417fce",
   "metadata": {},
   "outputs": [
    {
     "name": "stdout",
     "output_type": "stream",
     "text": [
      "['F:\\\\ethereum_forensic\\\\ethereum_address_scan']\n",
      "F:\\ethereum_forensic\\ethereum_address_scan 111758\n"
     ]
    }
   ],
   "source": [
    "# csv 행 수 출력하기\n",
    "# https://why2why.tistory.com/116\n",
    "\n",
    "import pandas as pd\n",
    "import os\n",
    "\n",
    "fpath = 'F:\\\\ethereum_forensic\\\\'\n",
    "fall = os.listdir(fpath)\n",
    "fcsv = [fpath + file[:-4] for file in fall if file.endswith('ethereum_address_scan.csv')]\n",
    "#fcsv = 'ethereum_address_scan.csv'\n",
    "print(fcsv)\n",
    "\n",
    "for file in fcsv:\n",
    "    df = pd.read_csv(file + '.csv')\n",
    "    print(file, len(df))\n",
    "    \n"
   ]
  },
  {
   "cell_type": "code",
   "execution_count": 4,
   "id": "3f15b0dc",
   "metadata": {},
   "outputs": [
    {
     "name": "stdout",
     "output_type": "stream",
     "text": [
      "Defaulting to user installation because normal site-packages is not writeable\n",
      "Collecting cryptoaddress\n",
      "  Using cached cryptoaddress-0.2.1-py3-none-any.whl (6.5 kB)\n",
      "Collecting pysha3\n",
      "  Using cached pysha3-1.0.2.tar.gz (829 kB)\n"
     ]
    },
    {
     "name": "stderr",
     "output_type": "stream",
     "text": [
      "    ERROR: Command errored out with exit status 1:\n",
      "     command: 'c:\\program files\\python39\\python.exe' -u -c 'import io, os, sys, setuptools, tokenize; sys.argv[0] = '\"'\"'C:\\\\Users\\\\karas\\\\AppData\\\\Local\\\\Temp\\\\pip-install-9t0tg9lz\\\\pysha3_479f4bf8fb764754bf10e463da80fdea\\\\setup.py'\"'\"'; __file__='\"'\"'C:\\\\Users\\\\karas\\\\AppData\\\\Local\\\\Temp\\\\pip-install-9t0tg9lz\\\\pysha3_479f4bf8fb764754bf10e463da80fdea\\\\setup.py'\"'\"';f = getattr(tokenize, '\"'\"'open'\"'\"', open)(__file__) if os.path.exists(__file__) else io.StringIO('\"'\"'from setuptools import setup; setup()'\"'\"');code = f.read().replace('\"'\"'\\r\\n'\"'\"', '\"'\"'\\n'\"'\"');f.close();exec(compile(code, __file__, '\"'\"'exec'\"'\"'))' install --record 'C:\\Users\\karas\\AppData\\Local\\Temp\\pip-record-gk5at8i1\\install-record.txt' --single-version-externally-managed --user --prefix= --compile --install-headers 'C:\\Users\\karas\\AppData\\Roaming\\Python\\Python39\\Include\\pysha3'\n",
      "         cwd: C:\\Users\\karas\\AppData\\Local\\Temp\\pip-install-9t0tg9lz\\pysha3_479f4bf8fb764754bf10e463da80fdea\\\n",
      "    Complete output (9 lines):\n",
      "    running install\n",
      "    running build\n",
      "    running build_py\n",
      "    creating build\n",
      "    creating build\\lib.win-amd64-3.9\n",
      "    copying sha3.py -> build\\lib.win-amd64-3.9\n"
     ]
    },
    {
     "name": "stdout",
     "output_type": "stream",
     "text": [
      "Using legacy 'setup.py install' for pysha3, since package 'wheel' is not installed.\n",
      "Installing collected packages: pysha3, cryptoaddress\n",
      "    Running setup.py install for pysha3: started\n",
      "    Running setup.py install for pysha3: finished with status 'error'\n"
     ]
    },
    {
     "name": "stderr",
     "output_type": "stream",
     "text": [
      "    running build_ext\n",
      "    building '_pysha3' extension\n",
      "    error: Microsoft Visual C++ 14.0 or greater is required. Get it with \"Microsoft C++ Build Tools\": https://visualstudio.microsoft.com/visual-cpp-build-tools/\n",
      "    ----------------------------------------\n",
      "ERROR: Command errored out with exit status 1: 'c:\\program files\\python39\\python.exe' -u -c 'import io, os, sys, setuptools, tokenize; sys.argv[0] = '\"'\"'C:\\\\Users\\\\karas\\\\AppData\\\\Local\\\\Temp\\\\pip-install-9t0tg9lz\\\\pysha3_479f4bf8fb764754bf10e463da80fdea\\\\setup.py'\"'\"'; __file__='\"'\"'C:\\\\Users\\\\karas\\\\AppData\\\\Local\\\\Temp\\\\pip-install-9t0tg9lz\\\\pysha3_479f4bf8fb764754bf10e463da80fdea\\\\setup.py'\"'\"';f = getattr(tokenize, '\"'\"'open'\"'\"', open)(__file__) if os.path.exists(__file__) else io.StringIO('\"'\"'from setuptools import setup; setup()'\"'\"');code = f.read().replace('\"'\"'\\r\\n'\"'\"', '\"'\"'\\n'\"'\"');f.close();exec(compile(code, __file__, '\"'\"'exec'\"'\"'))' install --record 'C:\\Users\\karas\\AppData\\Local\\Temp\\pip-record-gk5at8i1\\install-record.txt' --single-version-externally-managed --user --prefix= --compile --install-headers 'C:\\Users\\karas\\AppData\\Roaming\\Python\\Python39\\Include\\pysha3' Check the logs for full command output.\n"
     ]
    }
   ],
   "source": [
    "! pip install cryptoaddress"
   ]
  },
  {
   "cell_type": "code",
   "execution_count": 6,
   "id": "c03d4eb2",
   "metadata": {},
   "outputs": [
    {
     "name": "stdout",
     "output_type": "stream",
     "text": [
      "The address \"0x9ae08d0118e105dce648a7fba6fc12b2c3e9c288\" is valid.\n"
     ]
    }
   ],
   "source": [
    "from cryptoaddress import get_crypto_address\n",
    "\n",
    "try:\n",
    "    bitcoin_address = get_crypto_address('ETH', '0x9ae08d0118e105dce648a7fba6fc12b2c3e9c288')\n",
    "    print('The address \"%s\" is valid.' % str(bitcoin_address))\n",
    "except ValueError:\n",
    "    print('The address is invalid.')\n",
    "\n",
    "# Prints 'The address \"17VZNX1SN5NtKa8UQFxwQbFeFc3iqRYhem\" is valid.'"
   ]
  },
  {
   "cell_type": "code",
   "execution_count": 1,
   "id": "e7684f16",
   "metadata": {},
   "outputs": [
    {
     "data": {
      "text/plain": [
       "\"import csv\\n\\ndatafile = open('F:\\\\ethereum_forensic\\\\ethereum_address_scan.csv','r')\\n\\ndatafile_read = csv.reader(datafile)\\nfor line in datafile_read:\\n    print(line)\\n\\ndatafile.close()\\n\""
      ]
     },
     "execution_count": 1,
     "metadata": {},
     "output_type": "execute_result"
    }
   ],
   "source": [
    "'''import csv\n",
    "\n",
    "datafile = open('F:\\\\ethereum_forensic\\\\ethereum_address_scan.csv','r')\n",
    "\n",
    "datafile_read = csv.reader(datafile)\n",
    "for line in datafile_read:\n",
    "    print(line)\n",
    "\n",
    "datafile.close()\n",
    "'''"
   ]
  },
  {
   "cell_type": "code",
   "execution_count": 5,
   "id": "23d81d93",
   "metadata": {},
   "outputs": [
    {
     "ename": "ModuleNotFoundError",
     "evalue": "No module named 'cryptoaddress'",
     "output_type": "error",
     "traceback": [
      "\u001b[1;31m---------------------------------------------------------------------------\u001b[0m",
      "\u001b[1;31mModuleNotFoundError\u001b[0m                       Traceback (most recent call last)",
      "\u001b[1;32m~\\AppData\\Local\\Temp/ipykernel_18864/941819374.py\u001b[0m in \u001b[0;36m<module>\u001b[1;34m\u001b[0m\n\u001b[1;32m----> 1\u001b[1;33m \u001b[1;32mfrom\u001b[0m \u001b[0mcryptoaddress\u001b[0m \u001b[1;32mimport\u001b[0m \u001b[0mget_crypto_address\u001b[0m\u001b[1;33m\u001b[0m\u001b[1;33m\u001b[0m\u001b[0m\n\u001b[0m\u001b[0;32m      2\u001b[0m \u001b[1;32mimport\u001b[0m \u001b[0mcsv\u001b[0m\u001b[1;33m\u001b[0m\u001b[1;33m\u001b[0m\u001b[0m\n\u001b[0;32m      3\u001b[0m \u001b[1;33m\u001b[0m\u001b[0m\n\u001b[0;32m      4\u001b[0m \u001b[1;31m#datafile = open('F:\\\\ethereum_forensic\\\\ethereum_address_scan.csv','r')\u001b[0m\u001b[1;33m\u001b[0m\u001b[1;33m\u001b[0m\u001b[1;33m\u001b[0m\u001b[0m\n\u001b[0;32m      5\u001b[0m \u001b[1;31m#new_file = open('ethereum_address_scan_v2.csv', 'w', newline='')\u001b[0m\u001b[1;33m\u001b[0m\u001b[1;33m\u001b[0m\u001b[1;33m\u001b[0m\u001b[0m\n",
      "\u001b[1;31mModuleNotFoundError\u001b[0m: No module named 'cryptoaddress'"
     ]
    }
   ],
   "source": [
    "from cryptoaddress import get_crypto_address\n",
    "import csv\n",
    "\n",
    "#datafile = open('F:\\\\ethereum_forensic\\\\ethereum_address_scan.csv','r')\n",
    "#new_file = open('ethereum_address_scan_v2.csv', 'w', newline='')\n",
    "#datafile_read = csv.reader(datafile)\n",
    "with open('E:\\\\bitcoin_address.csv', 'r') as f:\n",
    "    while f:\n",
    "        line = f.readline()\n",
    "        #print(line)\n",
    "        try:\n",
    "            bitcoin_address = get_crypto_address('BTC', line)     \n",
    "            #writeresult= csv.writer(new_file)\n",
    "            print('The address \"%s\" is valid.' % str(bitcoin_address))\n",
    "        except ValueError:\n",
    "            #print('The address \"%s\" is invalid.' % str(ethereum_address))\n",
    "            pass\n",
    "\n",
    "#atafile.close()\n",
    "# Prints 'The address \"17VZNX1SN5NtKa8UQFxwQbFeFc3iqRYhem\" is valid.'"
   ]
  },
  {
   "cell_type": "code",
   "execution_count": 10,
   "id": "8b20b8dc",
   "metadata": {},
   "outputs": [
    {
     "name": "stdout",
     "output_type": "stream",
     "text": [
      "Defaulting to user installation because normal site-packages is not writeable\n",
      "Collecting coinaddr\n",
      "  Using cached coinaddr-1.0.1-py2.py3-none-any.whl (10 kB)\n",
      "Requirement already satisfied: attrs>=17.4.0 in c:\\users\\karas\\appdata\\roaming\\python\\python39\\site-packages (from coinaddr) (21.2.0)\n",
      "Collecting pysha3>=1.0.2\n",
      "  Using cached pysha3-1.0.2.tar.gz (829 kB)\n",
      "Requirement already satisfied: zope.interface>=4.4.3 in c:\\users\\karas\\appdata\\roaming\\python\\python39\\site-packages (from coinaddr) (5.4.0)\n",
      "Collecting base58check>=1.0.1\n",
      "  Using cached base58check-1.0.2-py2.py3-none-any.whl (6.0 kB)\n",
      "Requirement already satisfied: setuptools in c:\\program files\\python39\\lib\\site-packages (from zope.interface>=4.4.3->coinaddr) (56.0.0)\n",
      "Using legacy 'setup.py install' for pysha3, since package 'wheel' is not installed.\n",
      "Installing collected packages: pysha3, base58check, coinaddr\n",
      "    Running setup.py install for pysha3: started\n",
      "    Running setup.py install for pysha3: finished with status 'error'\n"
     ]
    },
    {
     "name": "stderr",
     "output_type": "stream",
     "text": [
      "    ERROR: Command errored out with exit status 1:\n",
      "     command: 'c:\\program files\\python39\\python.exe' -u -c 'import io, os, sys, setuptools, tokenize; sys.argv[0] = '\"'\"'C:\\\\Users\\\\karas\\\\AppData\\\\Local\\\\Temp\\\\pip-install-_8qcadlf\\\\pysha3_5d84106fd40941b598d57de2c43ca042\\\\setup.py'\"'\"'; __file__='\"'\"'C:\\\\Users\\\\karas\\\\AppData\\\\Local\\\\Temp\\\\pip-install-_8qcadlf\\\\pysha3_5d84106fd40941b598d57de2c43ca042\\\\setup.py'\"'\"';f = getattr(tokenize, '\"'\"'open'\"'\"', open)(__file__) if os.path.exists(__file__) else io.StringIO('\"'\"'from setuptools import setup; setup()'\"'\"');code = f.read().replace('\"'\"'\\r\\n'\"'\"', '\"'\"'\\n'\"'\"');f.close();exec(compile(code, __file__, '\"'\"'exec'\"'\"'))' install --record 'C:\\Users\\karas\\AppData\\Local\\Temp\\pip-record-3mjjvgxd\\install-record.txt' --single-version-externally-managed --user --prefix= --compile --install-headers 'C:\\Users\\karas\\AppData\\Roaming\\Python\\Python39\\Include\\pysha3'\n",
      "         cwd: C:\\Users\\karas\\AppData\\Local\\Temp\\pip-install-_8qcadlf\\pysha3_5d84106fd40941b598d57de2c43ca042\\\n",
      "    Complete output (9 lines):\n",
      "    running install\n",
      "    running build\n",
      "    running build_py\n",
      "    creating build\n",
      "    creating build\\lib.win-amd64-3.9\n",
      "    copying sha3.py -> build\\lib.win-amd64-3.9\n",
      "    running build_ext\n",
      "    building '_pysha3' extension\n",
      "    error: Microsoft Visual C++ 14.0 or greater is required. Get it with \"Microsoft C++ Build Tools\": https://visualstudio.microsoft.com/visual-cpp-build-tools/\n",
      "    ----------------------------------------\n",
      "ERROR: Command errored out with exit status 1: 'c:\\program files\\python39\\python.exe' -u -c 'import io, os, sys, setuptools, tokenize; sys.argv[0] = '\"'\"'C:\\\\Users\\\\karas\\\\AppData\\\\Local\\\\Temp\\\\pip-install-_8qcadlf\\\\pysha3_5d84106fd40941b598d57de2c43ca042\\\\setup.py'\"'\"'; __file__='\"'\"'C:\\\\Users\\\\karas\\\\AppData\\\\Local\\\\Temp\\\\pip-install-_8qcadlf\\\\pysha3_5d84106fd40941b598d57de2c43ca042\\\\setup.py'\"'\"';f = getattr(tokenize, '\"'\"'open'\"'\"', open)(__file__) if os.path.exists(__file__) else io.StringIO('\"'\"'from setuptools import setup; setup()'\"'\"');code = f.read().replace('\"'\"'\\r\\n'\"'\"', '\"'\"'\\n'\"'\"');f.close();exec(compile(code, __file__, '\"'\"'exec'\"'\"'))' install --record 'C:\\Users\\karas\\AppData\\Local\\Temp\\pip-record-3mjjvgxd\\install-record.txt' --single-version-externally-managed --user --prefix= --compile --install-headers 'C:\\Users\\karas\\AppData\\Roaming\\Python\\Python39\\Include\\pysha3' Check the logs for full command output.\n"
     ]
    }
   ],
   "source": [
    "!pip install coinaddr"
   ]
  }
 ],
 "metadata": {
  "kernelspec": {
   "display_name": "Python 3 (ipykernel)",
   "language": "python",
   "name": "python3"
  },
  "language_info": {
   "codemirror_mode": {
    "name": "ipython",
    "version": 3
   },
   "file_extension": ".py",
   "mimetype": "text/x-python",
   "name": "python",
   "nbconvert_exporter": "python",
   "pygments_lexer": "ipython3",
   "version": "3.9.6"
  }
 },
 "nbformat": 4,
 "nbformat_minor": 5
}

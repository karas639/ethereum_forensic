{
 "cells": [
  {
   "cell_type": "markdown",
   "id": "a58fe2af",
   "metadata": {},
   "source": [
    " ## pandas 설정"
   ]
  },
  {
   "cell_type": "code",
   "execution_count": 1,
   "id": "5d4ed0da",
   "metadata": {
    "scrolled": true
   },
   "outputs": [
    {
     "name": "stdout",
     "output_type": "stream",
     "text": [
      "pandas version:  1.2.4\n"
     ]
    },
    {
     "name": "stderr",
     "output_type": "stream",
     "text": [
      "C:\\Users\\uk0101\\AppData\\Local\\Temp/ipykernel_9740/2241320340.py:10: FutureWarning: Passing a negative integer is deprecated in version 1.0 and will not be supported in future version. Instead, use None to not limit the column width.\n",
      "  pd.set_option('display.max_colwidth', -1)\n"
     ]
    }
   ],
   "source": [
    "import pandas as pd\n",
    "print(\"pandas version: \", pd.__version__)\n",
    "#pd.set_option('display.max_row', 1000000)\n",
    "pd.set_option('display.max_rows', None)\n",
    "#pd.set_option('display.max_columns', 1000)\n",
    "pd.set_option('display.max_columns', None)\n",
    "pd.set_option('display.width', 1000000)\n",
    "pd.set_option('display.max_seq_items', None)\n",
    "#pd.set_option('display.height', 1000)\n",
    "pd.set_option('display.max_colwidth', -1)"
   ]
  },
  {
   "cell_type": "code",
   "execution_count": 4,
   "id": "5ef4c9a2",
   "metadata": {},
   "outputs": [
    {
     "data": {
      "text/html": [
       "<style>.container { width:99% !important; }</style>"
      ],
      "text/plain": [
       "<IPython.core.display.HTML object>"
      ]
     },
     "metadata": {},
     "output_type": "display_data"
    }
   ],
   "source": [
    "#jupyter 넓이 늘리기\n",
    "from IPython.core.display import display, HTML\n",
    "display(HTML(\"<style>.container { width:99% !important; }</style>\"))"
   ]
  },
  {
   "cell_type": "markdown",
   "id": "fb6d15e0",
   "metadata": {},
   "source": [
    "## 메모리 덤프 파일(full path)을 입력받아 이더리움 주소 정규표현식 검색"
   ]
  },
  {
   "cell_type": "code",
   "execution_count": 3,
   "id": "5571b937",
   "metadata": {
    "scrolled": false
   },
   "outputs": [
    {
     "name": "stdout",
     "output_type": "stream",
     "text": [
      "write full path: F:\\memdump_220825.mem\n",
      "F:\\memdump_220825.mem\n",
      "\n",
      "[Ethereum Aritifacts search choose menu]\n",
      "1 . address\n",
      "2 . private key\n",
      "3 . keystore\n",
      "4 . mnemonic code\n",
      "\n",
      "Choose Menu number (Exit 0) : 1\n",
      "============ Next Step ============\n",
      "<class 'mmap.mmap'>\n",
      "https://api.etherscan.io/api?module=account&action=txlist&apikey=WP3JPWBB21D6JRN1AVIE451N4H5YVTJN4M&sort=desc&address=0x9482e42075c25f0b583e84b6717457bf025743cc\n",
      "api status : OK\n",
      "{'blockNumber': '13917792', 'timeStamp': '1641017159', 'hash': '0xa4bff23e2f3a6dcff68ceac70546d1e17f6850fa72214c3568b82a2c45923f23', 'nonce': '7', 'blockHash': '0x83d8d10a9ddd51c83476b00340aeac08e8a00109a47661fa48995c0ded36cbc6', 'transactionIndex': '153', 'from': '0x9482e42075c25f0b583e84b6717457bf025743cc', 'to': '0xf1f3ca6268f330fda08418db12171c3173ee39c9', 'value': '0', 'gas': '80830', 'gasPrice': '67476970151', 'isError': '0', 'txreceipt_status': '1', 'input': '0x1b2ef1ca00000000000000000000000000000000000000000000000000000000000000080000000000000000000000000000000000000000000000000000000000000001', 'contractAddress': '', 'cumulativeGasUsed': '8661410', 'gasUsed': '73482', 'confirmations': '1492323', 'methodId': '0x1b2ef1ca', 'functionName': 'mint(uint256 tokenId, uint256 startingPrice)'}\n",
      "0xf1f3ca6268f330fda08418db12171c3173ee39c9\n",
      "https://api.etherscan.io/api?module=account&action=txlist&apikey=WP3JPWBB21D6JRN1AVIE451N4H5YVTJN4M&sort=desc&address=0xbbf72b0e99cbfde9db2ce741805499e4996ca405\n",
      "0xf1f3ca6268f330fda08418db12171c3173ee39c9\n",
      "https://api.etherscan.io/api?module=account&action=txlist&apikey=WP3JPWBB21D6JRN1AVIE451N4H5YVTJN4M&sort=desc&address=0x94ac599c9a0920f7a356eb68a92b29bd7a68c1dc\n",
      "api status : OK\n",
      "{'blockNumber': '14865537', 'timeStamp': '1653814157', 'hash': '0x5beb38e8bed98f82fdc5c0d9b69a22c0c46c061a3021cba250a450176b30c4bb', 'nonce': '109', 'blockHash': '0x9bb88f1511417cd9966984971a08bb2e11a15848bd3ef736544466544df1f032', 'transactionIndex': '210', 'from': '0x94ac599c9a0920f7a356eb68a92b29bd7a68c1dc', 'to': '0x0f5d2fb29fb7d3cfee444a200298f468908cc942', 'value': '0', 'gas': '59660', 'gasPrice': '12510650694', 'isError': '0', 'txreceipt_status': '1', 'input': '0xa9059cbb00000000000000000000000015a232d5f6d745933a384c151c0e55d466f60acd00000000000000000000000000000000000000000000000393ef1a5127c80000', 'contractAddress': '', 'cumulativeGasUsed': '18375923', 'gasUsed': '49437', 'confirmations': '544578', 'methodId': '0xa9059cbb', 'functionName': 'transfer(address _to, uint256 _value)'}\n",
      "0x0f5d2fb29fb7d3cfee444a200298f468908cc942\n",
      "https://api.etherscan.io/api?module=account&action=txlist&apikey=WP3JPWBB21D6JRN1AVIE451N4H5YVTJN4M&sort=desc&address=0x0772f57753bd860eba470d5d9e5aae5c1e8c27c5\n",
      "0x0f5d2fb29fb7d3cfee444a200298f468908cc942\n",
      "https://api.etherscan.io/api?module=account&action=txlist&apikey=WP3JPWBB21D6JRN1AVIE451N4H5YVTJN4M&sort=desc&address=0x94803d6c3cb805a308b9814202d7d01dcb26049d\n",
      "api status : OK\n",
      "{'blockNumber': '15355879', 'timeStamp': '1660700818', 'hash': '0x75536de560d9307e0d6f9c4f1d669caa492cbab397377bb13c1da0b9aad8baad', 'nonce': '1907', 'blockHash': '0xf2bc54b927e0a946ff0382283167533fc41e42ae4e4464236a24a0df2e6931c5', 'transactionIndex': '261', 'from': '0x94803d6c3cb805a308b9814202d7d01dcb26049d', 'to': '0xb7ec7bbd2d2193b47027247fc666fb342d23c4b5', 'value': '0', 'gas': '47053', 'gasPrice': '15060828359', 'isError': '0', 'txreceipt_status': '1', 'input': '0xa22cb465000000000000000000000000f42aa99f011a1fa7cda90e5e98b277e306bca83e0000000000000000000000000000000000000000000000000000000000000001', 'contractAddress': '', 'cumulativeGasUsed': '19225609', 'gasUsed': '47053', 'confirmations': '54236', 'methodId': '0xa22cb465', 'functionName': 'setApprovalForAll(address operator, bool authorized)'}\n",
      "0xb7ec7bbd2d2193b47027247fc666fb342d23c4b5\n",
      "https://api.etherscan.io/api?module=account&action=txlist&apikey=WP3JPWBB21D6JRN1AVIE451N4H5YVTJN4M&sort=desc&address=0xa73b441a36b7003488be0b4487c0a56b4cdb0c8a\n",
      "0xb7ec7bbd2d2193b47027247fc666fb342d23c4b5\n",
      "https://api.etherscan.io/api?module=account&action=txlist&apikey=WP3JPWBB21D6JRN1AVIE451N4H5YVTJN4M&sort=desc&address=0xa73b441a36b7003488be0b4487c0a56b4cdb0c8a\n",
      "0xb7ec7bbd2d2193b47027247fc666fb342d23c4b5\n",
      "https://api.etherscan.io/api?module=account&action=txlist&apikey=WP3JPWBB21D6JRN1AVIE451N4H5YVTJN4M&sort=desc&address=0x9497ce71e3cf2123e507786e22b67cc367a14eb3\n",
      "api status : OK\n",
      "{'blockNumber': '13580679', 'timeStamp': '1636440340', 'hash': '0x4aa0f42d4210490d1a9866c3c42d6af2f13af236f3bce35d1f09fddfbf5136e8', 'nonce': '48', 'blockHash': '0x67e9bd9bf7b43724b6748f2a0c1fc8eccdb38759b0299ce1396275b59a7fd58f', 'transactionIndex': '406', 'from': '0x9497ce71e3cf2123e507786e22b67cc367a14eb3', 'to': '0x93f5242003420373844339653687c1a6aef501d2', 'value': '52580202796180845', 'gas': '21000', 'gasPrice': '126368344028', 'isError': '0', 'txreceipt_status': '1', 'input': '0x', 'contractAddress': '', 'cumulativeGasUsed': '25924455', 'gasUsed': '21000', 'confirmations': '1829436', 'methodId': '0x', 'functionName': ''}\n",
      "0x93f5242003420373844339653687c1a6aef501d2\n",
      "https://api.etherscan.io/api?module=account&action=txlist&apikey=WP3JPWBB21D6JRN1AVIE451N4H5YVTJN4M&sort=desc&address=0x4f373105ffdad2390f8b906908f59f87e844a088\n",
      "0x93f5242003420373844339653687c1a6aef501d2\n",
      "https://api.etherscan.io/api?module=account&action=txlist&apikey=WP3JPWBB21D6JRN1AVIE451N4H5YVTJN4M&sort=desc&address=0x94da43c587c515ad30ea86a208603a7586d2c25f\n",
      "api status : OK\n",
      "{'blockNumber': '14360065', 'timeStamp': '1646928384', 'hash': '0xfd9741b6819530a091c55497ae9d7cd5d526d64f418edf26ecf6ee0652f110d8', 'nonce': '618', 'blockHash': '0x1b001b37ffc9749a11f918cd1f25b87937af7a8935c56e80278a55abf04b04c6', 'transactionIndex': '169', 'from': '0x94da43c587c515ad30ea86a208603a7586d2c25f', 'to': '0xc18360217d8f7ab5e7c516566761ea12ce7f9d72', 'value': '0', 'gas': '200000', 'gasPrice': '33451166689', 'isError': '0', 'txreceipt_status': '1', 'input': '0x7612290300000000000000000000000000000000000000000000000e810b9ba0d8758000000000000000000000000000839395e20bbb182fa440d08f850e6c7a8f6f078000000000000000000000000000000000000000000000000000000000000000600000000000000000000000000000000000000000000000000000000000000011063c101f74f258404891ecd42afad5820933a87bf4374adccc09618de7e8eab3c21fa14b17e428ec9e9610c983e11b924dc6e368f84090949e6e541ee37996e2a86fe9ec860c47be35b8c256f937ae9a278fd16e4ad863b11835777406f3ca090384753f0a6a214ec73079d439b889dbb2503b32d09c82dcea5c4667ea19e97d3fa4ab64138dcf5a973e653919af0e1f45320872aef6f12761662b32d210887dd614e5882daff53988b4e588747d54f60de3121f844f7674ed62d47428ce7748b931b7c4c5c0fdc093001b736031c4a737bcb9fbf22b68f4406b1fd50ed338a067247ecf4c908b79bf77bb1f61dcb184befeff5721c8970a859550a9ae8b97e4d1f5bc987f693dc8509ca829946db9066d5bfd13921b1103f067b7484848b7ccd392e8b2fa9231989b5484bf24a9d6227d52c0a96dfbd3389465eb68a030b4f689815661ab18cb770c4bc9418d67220d436a41962d393cd748ce09987a03dacaa9fa929891b52c1fe16626333389bdd84ce210070c9bdf97f4ab30f36f93fd93d84ad6270253b0cf1486909e26930a2c0df75b95532136612481dfaf85f01102e835ce17dd30d83cbbc28aace013cc75b561136e815fb7b33dbaa806e1cae143e6c6e562d0bba34ee00df0032e004f4fda98a319fba37d3bacbff1b11b2e0d638954ecdc07c99ac4a862d008e5dd179f19c899c1b923f33cae8eb31910352a450b8e3f753c0ae0482b1980cbad3eac8d727ae0c0f40d9c23f2e8c8b08e4e9d7b', 'contractAddress': '', 'cumulativeGasUsed': '15113581', 'gasUsed': '151122', 'confirmations': '1050050', 'methodId': '0x76122903', 'functionName': 'claimTokens(uint256 amount, address delegate, bytes32[] merkleProof)'}\n",
      "0xc18360217d8f7ab5e7c516566761ea12ce7f9d72\n",
      "https://api.etherscan.io/api?module=account&action=txlist&apikey=WP3JPWBB21D6JRN1AVIE451N4H5YVTJN4M&sort=desc&address=0xd226225e0ec2d65abfd94b19a5846b4931e0b39c\n",
      "0xc18360217d8f7ab5e7c516566761ea12ce7f9d72\n",
      "https://api.etherscan.io/api?module=account&action=txlist&apikey=WP3JPWBB21D6JRN1AVIE451N4H5YVTJN4M&sort=desc&address=0x947fcfa7488257553c461a401bba1453cf12174e\n",
      "api status : OK\n",
      "{'blockNumber': '13581118', 'timeStamp': '1636446453', 'hash': '0x6293c77213d9f9de52f7070066fe11fd111723dcfdc779ad94d6510b19522040', 'nonce': '48', 'blockHash': '0x1720d598300841d20f3c44524808d31309ce190f99ebacd819edf32ec701a58b', 'transactionIndex': '82', 'from': '0x947fcfa7488257553c461a401bba1453cf12174e', 'to': '0xe7445017e7202738f7b0094c3a8e90e6797e6bc9', 'value': '70590238218241389', 'gas': '21000', 'gasPrice': '122177377679', 'isError': '0', 'txreceipt_status': '1', 'input': '0x', 'contractAddress': '', 'cumulativeGasUsed': '4854310', 'gasUsed': '21000', 'confirmations': '1828997', 'methodId': '0x', 'functionName': ''}\n",
      "0xe7445017e7202738f7b0094c3a8e90e6797e6bc9\n",
      "https://api.etherscan.io/api?module=account&action=txlist&apikey=WP3JPWBB21D6JRN1AVIE451N4H5YVTJN4M&sort=desc&address=0x0eb2d1e730c3d5a44d651fec98d8d30ffc1ec993\n"
     ]
    },
    {
     "name": "stdout",
     "output_type": "stream",
     "text": [
      "0xe7445017e7202738f7b0094c3a8e90e6797e6bc9\n",
      "https://api.etherscan.io/api?module=account&action=txlist&apikey=WP3JPWBB21D6JRN1AVIE451N4H5YVTJN4M&sort=desc&address=0x94747774f5b90085988fe6e5a67c3efafbac579c\n",
      "api status : OK\n",
      "{'blockNumber': '15392478', 'timeStamp': '1661201651', 'hash': '0x82f71a8dbec8793d7ae36f41e5d1ba4e10be67b1c5dcf5fcbcc0a0107ccfe49b', 'nonce': '1010', 'blockHash': '0x9fd5995c8fe1a1eec6de7f821157246f7230e15315b1091ec219e4dc14cf36ba', 'transactionIndex': '296', 'from': '0x94747774f5b90085988fe6e5a67c3efafbac579c', 'to': '0x283af0b28c62c092c9727f1ee09c02ca627eb7f5', 'value': '13881725793345938', 'gas': '298356', 'gasPrice': '21521688745', 'isError': '0', 'txreceipt_status': '1', 'input': '0xf7a1696300000000000000000000000000000000000000000000000000000000000000c000000000000000000000000094747774f5b90085988fe6e5a67c3efafbac579c0000000000000000000000000000000000000000000000000000000007861560ceb0361376a1f6c4774dbea67f052cfb33406c616cf1e752f31db60327d368cd0000000000000000000000004976fb03c32e5b8cfe2b6ccb31c09ba78ebaba4100000000000000000000000094747774f5b90085988fe6e5a67c3efafbac579c000000000000000000000000000000000000000000000000000000000000001b636f6d7061676e696562616e636169726568656c766574697175650000000000', 'contractAddress': '', 'cumulativeGasUsed': '25233568', 'gasUsed': '267838', 'confirmations': '17637', 'methodId': '0xf7a16963', 'functionName': 'registerWithConfig(string name, address owner, uint256 duration, bytes32 secret, address resolver, address addr)'}\n",
      "0x283af0b28c62c092c9727f1ee09c02ca627eb7f5\n",
      "https://api.etherscan.io/api?module=account&action=txlist&apikey=WP3JPWBB21D6JRN1AVIE451N4H5YVTJN4M&sort=desc&address=0x27abaf041e4b1aee19acc473d0014177005e1f6f\n",
      "0x283af0b28c62c092c9727f1ee09c02ca627eb7f5\n",
      "https://api.etherscan.io/api?module=account&action=txlist&apikey=WP3JPWBB21D6JRN1AVIE451N4H5YVTJN4M&sort=desc&address=0x94aff6c2c005567aa0e2a27f77701bb1b6679b6b\n",
      "api status : OK\n",
      "{'blockNumber': '15048374', 'timeStamp': '1656560036', 'hash': '0x05ab4e1e11487b9ee51b7c4e71c8a091d72ff31e166993be36b19520dd9b5edd', 'nonce': '1194', 'blockHash': '0x71a28d0c302d7473820d91a362e2b737e24eadf95dc5994b0a8348b0db95dd28', 'transactionIndex': '272', 'from': '0x94aff6c2c005567aa0e2a27f77701bb1b6679b6b', 'to': '0x09535b5c76a7daa3d888b9aff95199aff386afa3', 'value': '67150400637065622', 'gas': '21000', 'gasPrice': '28153980937', 'isError': '0', 'txreceipt_status': '1', 'input': '0x', 'contractAddress': '', 'cumulativeGasUsed': '22042306', 'gasUsed': '21000', 'confirmations': '361742', 'methodId': '0x', 'functionName': ''}\n",
      "0x09535b5c76a7daa3d888b9aff95199aff386afa3\n",
      "https://api.etherscan.io/api?module=account&action=txlist&apikey=WP3JPWBB21D6JRN1AVIE451N4H5YVTJN4M&sort=desc&address=0x4382c3b6262291bd17d9e6299a5719d3fa80fde5\n",
      "0x09535b5c76a7daa3d888b9aff95199aff386afa3\n",
      "https://api.etherscan.io/api?module=account&action=txlist&apikey=WP3JPWBB21D6JRN1AVIE451N4H5YVTJN4M&sort=desc&address=0x4382c3b6262291bd17d9e6299a5719d3fa80fde5\n",
      "0x09535b5c76a7daa3d888b9aff95199aff386afa3\n",
      "https://api.etherscan.io/api?module=account&action=txlist&apikey=WP3JPWBB21D6JRN1AVIE451N4H5YVTJN4M&sort=desc&address=0x943eaeaf113197630c073cc3a791bd7f046ab345\n",
      "api status : OK\n",
      "{'blockNumber': '13828229', 'timeStamp': '1639818237', 'hash': '0xd3314bbca83692bae5a5919905e7dd298f0fde31cc7d861c7bf985ba6bd93023', 'nonce': '31', 'blockHash': '0x42cbd8d77c3f2f1385cb52a31c14f576b69c0ad309ea1f67a4acdcef0394cc85', 'transactionIndex': '132', 'from': '0x943eaeaf113197630c073cc3a791bd7f046ab345', 'to': '0x80cf624c96bada4cf2bfb7ad29820038125bd377', 'value': '25624796603176962', 'gas': '21000', 'gasPrice': '37942642581', 'isError': '0', 'txreceipt_status': '1', 'input': '0x', 'contractAddress': '', 'cumulativeGasUsed': '14431695', 'gasUsed': '21000', 'confirmations': '1581887', 'methodId': '0x', 'functionName': ''}\n",
      "0x80cf624c96bada4cf2bfb7ad29820038125bd377\n",
      "https://api.etherscan.io/api?module=account&action=txlist&apikey=WP3JPWBB21D6JRN1AVIE451N4H5YVTJN4M&sort=desc&address=0x6cef9195ac9aac85da281799a270586e9e219b12\n",
      "0x80cf624c96bada4cf2bfb7ad29820038125bd377\n",
      "https://api.etherscan.io/api?module=account&action=txlist&apikey=WP3JPWBB21D6JRN1AVIE451N4H5YVTJN4M&sort=desc&address=0x94eca01833bff4c0a1eb5ab46e3279a1743374cf\n",
      "api status : OK\n",
      "{'blockNumber': '4593236', 'timeStamp': '1511250111', 'hash': '0x75603c3368320c2d58272d850a7e4e8c3ed4fcdbf45c1136c1ad94591ea9ff3c', 'nonce': '7', 'blockHash': '0x4187659232bc6271aa1d4477d73cdb030563930533614e07e2a990247e42b01a', 'transactionIndex': '0', 'from': '0x94eca01833bff4c0a1eb5ab46e3279a1743374cf', 'to': '0xb4efd85c19999d84251304bda99e90b92300bd93', 'value': '0', 'gas': '52011', 'gasPrice': '21000000000', 'isError': '0', 'txreceipt_status': '1', 'input': '0xa9059cbb0000000000000000000000001474780b0662154bf594ca3b7a68e98edd5d1b3f0000000000000000000000000000000000000000000094ad25f07233d4fa0000', 'contractAddress': '', 'cumulativeGasUsed': '37011', 'gasUsed': '37011', 'confirmations': '10816880', 'methodId': '0xa9059cbb', 'functionName': 'transfer(address _to, uint256 _value)'}\n",
      "0xb4efd85c19999d84251304bda99e90b92300bd93\n",
      "https://api.etherscan.io/api?module=account&action=txlist&apikey=WP3JPWBB21D6JRN1AVIE451N4H5YVTJN4M&sort=desc&address=0xfa4c3a8539e475c6bc87fcc0b726dede85e2dea9\n",
      "0xb4efd85c19999d84251304bda99e90b92300bd93\n",
      "https://api.etherscan.io/api?module=account&action=txlist&apikey=WP3JPWBB21D6JRN1AVIE451N4H5YVTJN4M&sort=desc&address=0x94cd1fe24f60b04c1c4e9c51bbda8d77ac796173\n",
      "api status : OK\n",
      "{'blockNumber': '15387530', 'timeStamp': '1661133371', 'hash': '0xc5e4e72d41a8c355604c86540180c81240b50beb3ff660e16efb9017b744e3ed', 'nonce': '3076', 'blockHash': '0x0b75bb3826cdf387b1172773d0c5365cf1fea9bdd270c0ad7ba309e53fef756c', 'transactionIndex': '65', 'from': '0x94cd1fe24f60b04c1c4e9c51bbda8d77ac796173', 'to': '0xc21d26a60c73ab4ab43603521aaf4ff8ce1c5438', 'value': '9144526873772600', 'gas': '21000', 'gasPrice': '5713933821', 'isError': '0', 'txreceipt_status': '1', 'input': '0x', 'contractAddress': '', 'cumulativeGasUsed': '10043677', 'gasUsed': '21000', 'confirmations': '22586', 'methodId': '0x', 'functionName': ''}\n",
      "0xc21d26a60c73ab4ab43603521aaf4ff8ce1c5438\n",
      "https://api.etherscan.io/api?module=account&action=txlist&apikey=WP3JPWBB21D6JRN1AVIE451N4H5YVTJN4M&sort=desc&address=0xb7e3a888d8191bd21a3d8b7fa20f9f6737b3ba78\n",
      "0xc21d26a60c73ab4ab43603521aaf4ff8ce1c5438\n",
      "https://api.etherscan.io/api?module=account&action=txlist&apikey=WP3JPWBB21D6JRN1AVIE451N4H5YVTJN4M&sort=desc&address=0x0a3993e8ed2ebd859ef0048674c566bfb61595f9\n",
      "0xc21d26a60c73ab4ab43603521aaf4ff8ce1c5438\n",
      "https://api.etherscan.io/api?module=account&action=txlist&apikey=WP3JPWBB21D6JRN1AVIE451N4H5YVTJN4M&sort=desc&address=0x94ca65d615e46265861517ae97ea8cc1210d5b7b\n",
      "api status : OK\n",
      "{'blockNumber': '13628291', 'timeStamp': '1637088952', 'hash': '0x692fb4931815b98216f17c237514bfa0c7a063aabae9cc05f98d154f8f270b8b', 'nonce': '6', 'blockHash': '0xb56dfbb5898285ce426d15863f593e115bd19b8a568f61ebc31ae23058958925', 'transactionIndex': '228', 'from': '0x94ca65d615e46265861517ae97ea8cc1210d5b7b', 'to': '0x881d40237659c251811cec9c364ef91dc08d300c', 'value': '0', 'gas': '337453', 'gasPrice': '122059497400', 'isError': '0', 'txreceipt_status': '1', 'input': '0x5f5755290000000000000000000000000000000000000000000000000000000000000080000000000000000000000000c18360217d8f7ab5e7c516566761ea12ce7f9d7200000000000000000000000000000000000000000000000e11fb8c4ef8a2600000000000000000000000000000000000000000000000000000000000000000c0000000000000000000000000000000000000000000000000000000000000000c307846656544796e616d696300000000000000000000000000000000000000000000000000000000000000000000000000000000000000000000000000000260000000000000000000000000c18360217d8f7ab5e7c516566761ea12ce7f9d72000000000000000000000000000000000000000000000000000000000000000000000000000000000000000000000000000000000000000e11fb8c4ef8a26000000000000000000000000000000000000000000000000000295d70b3f5801d59000000000000000000000000000000000000000000000000000000000000012000000000000000000000000000000000000000000000000000605dd37a20e8c100000000000000000000000011ededebf63bef0ea2d2d071bdf88f71543ec6fb00000000000000000000000000000000000000000000000000000000000000010000000000000000000000000000000000000000000000000000000000000128803ba26d000000000000000000000000000000000000000000000000000000000000008000000000000000000000000000000000000000000000000e11fb8c4ef8a2600000000000000000000000000000000000000000000000000029baea6f2bf7139a0000000000000000000000000000000000000000000000000000000000000000000000000000000000000000000000000000000000000000000000000000002bc18360217d8f7ab5e7c516566761ea12ce7f9d72000bb8c02aaa39b223fe8d0a0e5c4f27ead9083c756cc2000000000000000000000000000000000000000000869584cd00000000000000000000000011ededebf63bef0ea2d2d071bdf88f71543ec6fb00000000000000000000000000000000000000000000007d4d27196f6193fe6a00000000000000000000000000000000000000000000000075', 'contractAddress': '', 'cumulativeGasUsed': '15648819', 'gasUsed': '237520', 'confirmations': '1781825', 'methodId': '0x5f575529', 'functionName': 'swap(string aggregatorId, address tokenFrom, uint256 amount, bytes data)'}\n",
      "0x881d40237659c251811cec9c364ef91dc08d300c\n",
      "https://api.etherscan.io/api?module=account&action=txlist&apikey=WP3JPWBB21D6JRN1AVIE451N4H5YVTJN4M&sort=desc&address=0x315036f0709df038fa5740fb2e25ccbfd47fc668\n"
     ]
    },
    {
     "name": "stdout",
     "output_type": "stream",
     "text": [
      "0x881d40237659c251811cec9c364ef91dc08d300c\n",
      "https://api.etherscan.io/api?module=account&action=txlist&apikey=WP3JPWBB21D6JRN1AVIE451N4H5YVTJN4M&sort=desc&address=0x315036f0709df038fa5740fb2e25ccbfd47fc668\n",
      "0x881d40237659c251811cec9c364ef91dc08d300c\n",
      "https://api.etherscan.io/api?module=account&action=txlist&apikey=WP3JPWBB21D6JRN1AVIE451N4H5YVTJN4M&sort=desc&address=0x947fbe0972737ca3b3ffcbc1fa5c36cf119e80f1\n",
      "api status : OK\n",
      "{'blockNumber': '15402512', 'timeStamp': '1661338682', 'hash': '0x0f794c5c7b97c3b4b2bf778d3b1bb01f5d75dc171c880248078fbbd663948244', 'nonce': '676', 'blockHash': '0xeb984693ce5c8087ea33c2ed208b8c80da4bf01f5a4654b2e95bfb7c8e0167ca', 'transactionIndex': '63', 'from': '0x947fbe0972737ca3b3ffcbc1fa5c36cf119e80f1', 'to': '0x0000000000c2d145a2526bd8c716263bfebe1a72', 'value': '0', 'gas': '175719', 'gasPrice': '11201590016', 'isError': '0', 'txreceipt_status': '1', 'input': '0x32389b7100000000000000000000000000000000000000000000000000000000000000400000007b02230091a7ed01230072f7006a004d60a8d4e71d599b8104250f0000000000000000000000000000000000000000000000000000000000000000000100000000000000000000000000000000000000000000000000000000000000200000000000000000000000000000000000000000000000000000000000000060000000000000000000000000c040155a8c65621befd26c9e4aa0e4bb9d0ef8a2000000000000000000000000000000000000000000000000000000000000000100000000000000000000000000000000000000000000000000000000000000040000000000000000000000000000000000000000000000000000000000000003000000000000000000000000de371dad8d8fe3799b8dc60560341614228c5aaf000000000000000000000000000000000000000000000000000000000000000700000000000000000000000000000000000000000000000000000000000000010000000000000000000000000000000000000000000000000000000000000003000000000000000000000000de371dad8d8fe3799b8dc60560341614228c5aaf00000000000000000000000000000000000000000000000000000000000000050000000000000000000000000000000000000000000000000000000000000001000000000000000000000000000000000000000000000000000000000000000200000000000000000000000080416304142fa37929f8a4eee83ee7d2dac12d7c000000000000000000000000000000000000000000000000000000000000159000000000000000000000000000000000000000000000000000000000000000010000000000000000000000000000000000000000000000000000000000000002000000000000000000000000d2c80a37aaa39f1ba76d5bb9ef809daa06716a0200000000000000000000000000000000000000000000000000000000000015900000000000000000000000000000000000000000000000000000000000000001', 'contractAddress': '', 'cumulativeGasUsed': '4613105', 'gasUsed': '164091', 'confirmations': '7604', 'methodId': '0x32389b71', 'functionName': ''}\n",
      "0x0000000000c2d145a2526bd8c716263bfebe1a72\n",
      "https://api.etherscan.io/api?module=account&action=txlist&apikey=WP3JPWBB21D6JRN1AVIE451N4H5YVTJN4M&sort=desc&address=0x87b27cf06cf5dfb857aa8d9b51e407bb2a89f0ce\n",
      "0x0000000000c2d145a2526bd8c716263bfebe1a72\n",
      "https://api.etherscan.io/api?module=account&action=txlist&apikey=WP3JPWBB21D6JRN1AVIE451N4H5YVTJN4M&sort=desc&address=0x872d9d0e5da57d5ae94f8ad15b7e23fe6d6eb562\n",
      "0x0000000000c2d145a2526bd8c716263bfebe1a72\n",
      "https://api.etherscan.io/api?module=account&action=txlist&apikey=WP3JPWBB21D6JRN1AVIE451N4H5YVTJN4M&sort=desc&address=0x94ef463d9dfe6406aba68ddc65be664349f9082f\n",
      "api status : OK\n",
      "{'blockNumber': '13700247', 'timeStamp': '1638073498', 'hash': '0x220121bce9f7badf30dfb460b4c796448220ec76b61997456229563b56528979', 'nonce': '81', 'blockHash': '0xa9e965df5e45ac22e63e6c36ef581f3efa7fa3dd2116d6eaa24ca1c1abb6d180', 'transactionIndex': '156', 'from': '0x94ef463d9dfe6406aba68ddc65be664349f9082f', 'to': '0xf74a2f45fb4ae86bf07190f5b8ca3f048332aabb', 'value': '14020503882912801', 'gas': '21000', 'gasPrice': '104292707549', 'isError': '0', 'txreceipt_status': '1', 'input': '0x', 'contractAddress': '', 'cumulativeGasUsed': '13890580', 'gasUsed': '21000', 'confirmations': '1709869', 'methodId': '0x', 'functionName': ''}\n",
      "0xf74a2f45fb4ae86bf07190f5b8ca3f048332aabb\n",
      "https://api.etherscan.io/api?module=account&action=txlist&apikey=WP3JPWBB21D6JRN1AVIE451N4H5YVTJN4M&sort=desc&address=0x7f7211795da0d8265dc985b73afdbe936cc64982\n",
      "0xf74a2f45fb4ae86bf07190f5b8ca3f048332aabb\n",
      "https://api.etherscan.io/api?module=account&action=txlist&apikey=WP3JPWBB21D6JRN1AVIE451N4H5YVTJN4M&sort=desc&address=0xc48B1aC1417dB27C4e2C2ed3DAE5a3D2fBB07DC5\n",
      "api status : OK\n",
      "{'blockNumber': '14309172', 'timeStamp': '1646244732', 'hash': '0xb93138f4d4247f7f5db8a7b2c90c5bc1f3f1f2dc3ce62ab8a8e5fc8d35ba1751', 'nonce': '18244', 'blockHash': '0x60194465511e7b3e26f1f223ece62f55b4a58380be951edcfe6f8239c0f312e3', 'transactionIndex': '17', 'from': '0x324cc2c9fb379ea7a0d1c0862c3b48ca28d174a4', 'to': '0xc48b1ac1417db27c4e2c2ed3dae5a3d2fbb07dc5', 'value': '0', 'gas': '150000', 'gasPrice': '60436866275', 'isError': '0', 'txreceipt_status': '1', 'input': '0xa9059cbb000000000000000000000000d65ecdfd14d2bfafd37fb25e20c8a118e4051d0d000000000000000000000000000000000000000000000000000022bbbb80a900', 'contractAddress': '', 'cumulativeGasUsed': '2045856', 'gasUsed': '52719', 'confirmations': '1100945', 'methodId': '0xa9059cbb', 'functionName': 'transfer(address _to, uint256 _value)'}\n",
      "0xc48b1ac1417db27c4e2c2ed3dae5a3d2fbb07dc5\n",
      "https://api.etherscan.io/api?module=account&action=txlist&apikey=WP3JPWBB21D6JRN1AVIE451N4H5YVTJN4M&sort=desc&address=0xc48B1aC1417dB27C4e2C2ed3DAE5a3D2fBB07DC5\n",
      "api status : OK\n",
      "{'blockNumber': '14309172', 'timeStamp': '1646244732', 'hash': '0xb93138f4d4247f7f5db8a7b2c90c5bc1f3f1f2dc3ce62ab8a8e5fc8d35ba1751', 'nonce': '18244', 'blockHash': '0x60194465511e7b3e26f1f223ece62f55b4a58380be951edcfe6f8239c0f312e3', 'transactionIndex': '17', 'from': '0x324cc2c9fb379ea7a0d1c0862c3b48ca28d174a4', 'to': '0xc48b1ac1417db27c4e2c2ed3dae5a3d2fbb07dc5', 'value': '0', 'gas': '150000', 'gasPrice': '60436866275', 'isError': '0', 'txreceipt_status': '1', 'input': '0xa9059cbb000000000000000000000000d65ecdfd14d2bfafd37fb25e20c8a118e4051d0d000000000000000000000000000000000000000000000000000022bbbb80a900', 'contractAddress': '', 'cumulativeGasUsed': '2045856', 'gasUsed': '52719', 'confirmations': '1100945', 'methodId': '0xa9059cbb', 'functionName': 'transfer(address _to, uint256 _value)'}\n",
      "0xc48b1ac1417db27c4e2c2ed3dae5a3d2fbb07dc5\n",
      "https://api.etherscan.io/api?module=account&action=txlist&apikey=WP3JPWBB21D6JRN1AVIE451N4H5YVTJN4M&sort=desc&address=0xc48b1ac1417db27c4e2c2ed3dae5a3d2fbb07dc5\n",
      "api status : OK\n",
      "{'blockNumber': '14309172', 'timeStamp': '1646244732', 'hash': '0xb93138f4d4247f7f5db8a7b2c90c5bc1f3f1f2dc3ce62ab8a8e5fc8d35ba1751', 'nonce': '18244', 'blockHash': '0x60194465511e7b3e26f1f223ece62f55b4a58380be951edcfe6f8239c0f312e3', 'transactionIndex': '17', 'from': '0x324cc2c9fb379ea7a0d1c0862c3b48ca28d174a4', 'to': '0xc48b1ac1417db27c4e2c2ed3dae5a3d2fbb07dc5', 'value': '0', 'gas': '150000', 'gasPrice': '60436866275', 'isError': '0', 'txreceipt_status': '1', 'input': '0xa9059cbb000000000000000000000000d65ecdfd14d2bfafd37fb25e20c8a118e4051d0d000000000000000000000000000000000000000000000000000022bbbb80a900', 'contractAddress': '', 'cumulativeGasUsed': '2045856', 'gasUsed': '52719', 'confirmations': '1100945', 'methodId': '0xa9059cbb', 'functionName': 'transfer(address _to, uint256 _value)'}\n",
      "0xc48b1ac1417db27c4e2c2ed3dae5a3d2fbb07dc5\n",
      "https://api.etherscan.io/api?module=account&action=txlist&apikey=WP3JPWBB21D6JRN1AVIE451N4H5YVTJN4M&sort=desc&address=0x3154da898943fc7151bc77f16e43c0c47b5e452d\n",
      "api status : OK\n",
      "{'blockNumber': '12943195', 'timeStamp': '1627869289', 'hash': '0x6018dc706b3a78c6ef5ae3ec5455b0dbce362242aa079b2bd01514ca858400a5', 'nonce': '594510', 'blockHash': '0x4a722824d726204b07898256291a1f1d3480ae10a78e4c5171a449576909c199', 'transactionIndex': '160', 'from': '0x6a3eb79e1c4023f1610ff046c5dc30f9790d326f', 'to': '0x3154da898943fc7151bc77f16e43c0c47b5e452d', 'value': '0', 'gas': '60000', 'gasPrice': '34000000000', 'isError': '0', 'txreceipt_status': '1', 'input': '0xa9059cbb0000000000000000000000003788539703c1e469fe0eb408095e97b0c247042a000000000000000000000000000000000000000000005d81e4436abac3768000', 'contractAddress': '', 'cumulativeGasUsed': '5566194', 'gasUsed': '36994', 'confirmations': '2466924', 'methodId': '0xa9059cbb', 'functionName': 'transfer(address _to, uint256 _value)'}\n",
      "0x3154da898943fc7151bc77f16e43c0c47b5e452d\n",
      "https://api.etherscan.io/api?module=account&action=txlist&apikey=WP3JPWBB21D6JRN1AVIE451N4H5YVTJN4M&sort=desc&address=0x3154da898943Fc7151bc77F16E43C0C47b5E452d\n"
     ]
    },
    {
     "name": "stdout",
     "output_type": "stream",
     "text": [
      "api status : OK\n",
      "{'blockNumber': '12943195', 'timeStamp': '1627869289', 'hash': '0x6018dc706b3a78c6ef5ae3ec5455b0dbce362242aa079b2bd01514ca858400a5', 'nonce': '594510', 'blockHash': '0x4a722824d726204b07898256291a1f1d3480ae10a78e4c5171a449576909c199', 'transactionIndex': '160', 'from': '0x6a3eb79e1c4023f1610ff046c5dc30f9790d326f', 'to': '0x3154da898943fc7151bc77f16e43c0c47b5e452d', 'value': '0', 'gas': '60000', 'gasPrice': '34000000000', 'isError': '0', 'txreceipt_status': '1', 'input': '0xa9059cbb0000000000000000000000003788539703c1e469fe0eb408095e97b0c247042a000000000000000000000000000000000000000000005d81e4436abac3768000', 'contractAddress': '', 'cumulativeGasUsed': '5566194', 'gasUsed': '36994', 'confirmations': '2466924', 'methodId': '0xa9059cbb', 'functionName': 'transfer(address _to, uint256 _value)'}\n",
      "0x3154da898943fc7151bc77f16e43c0c47b5e452d\n",
      "https://api.etherscan.io/api?module=account&action=txlist&apikey=WP3JPWBB21D6JRN1AVIE451N4H5YVTJN4M&sort=desc&address=0x3154da898943Fc7151bc77F16E43C0C47b5E452d\n",
      "api status : OK\n",
      "{'blockNumber': '12943195', 'timeStamp': '1627869289', 'hash': '0x6018dc706b3a78c6ef5ae3ec5455b0dbce362242aa079b2bd01514ca858400a5', 'nonce': '594510', 'blockHash': '0x4a722824d726204b07898256291a1f1d3480ae10a78e4c5171a449576909c199', 'transactionIndex': '160', 'from': '0x6a3eb79e1c4023f1610ff046c5dc30f9790d326f', 'to': '0x3154da898943fc7151bc77f16e43c0c47b5e452d', 'value': '0', 'gas': '60000', 'gasPrice': '34000000000', 'isError': '0', 'txreceipt_status': '1', 'input': '0xa9059cbb0000000000000000000000003788539703c1e469fe0eb408095e97b0c247042a000000000000000000000000000000000000000000005d81e4436abac3768000', 'contractAddress': '', 'cumulativeGasUsed': '5566194', 'gasUsed': '36994', 'confirmations': '2466927', 'methodId': '0xa9059cbb', 'functionName': 'transfer(address _to, uint256 _value)'}\n",
      "0x3154da898943fc7151bc77f16e43c0c47b5e452d\n",
      "https://api.etherscan.io/api?module=account&action=txlist&apikey=WP3JPWBB21D6JRN1AVIE451N4H5YVTJN4M&sort=desc&address=0x3154da898943fc7151bc77f16e43c0c47b5e452d\n",
      "api status : OK\n",
      "{'blockNumber': '12943195', 'timeStamp': '1627869289', 'hash': '0x6018dc706b3a78c6ef5ae3ec5455b0dbce362242aa079b2bd01514ca858400a5', 'nonce': '594510', 'blockHash': '0x4a722824d726204b07898256291a1f1d3480ae10a78e4c5171a449576909c199', 'transactionIndex': '160', 'from': '0x6a3eb79e1c4023f1610ff046c5dc30f9790d326f', 'to': '0x3154da898943fc7151bc77f16e43c0c47b5e452d', 'value': '0', 'gas': '60000', 'gasPrice': '34000000000', 'isError': '0', 'txreceipt_status': '1', 'input': '0xa9059cbb0000000000000000000000003788539703c1e469fe0eb408095e97b0c247042a000000000000000000000000000000000000000000005d81e4436abac3768000', 'contractAddress': '', 'cumulativeGasUsed': '5566194', 'gasUsed': '36994', 'confirmations': '2466927', 'methodId': '0xa9059cbb', 'functionName': 'transfer(address _to, uint256 _value)'}\n",
      "0x3154da898943fc7151bc77f16e43c0c47b5e452d\n",
      "https://api.etherscan.io/api?module=account&action=txlist&apikey=WP3JPWBB21D6JRN1AVIE451N4H5YVTJN4M&sort=desc&address=0x09bca6ebab05ee2ae945be4eda51393d94bf7b99\n",
      "api status : OK\n",
      "{'blockNumber': '14829543', 'timeStamp': '1653308358', 'hash': '0x4590374b00e1604d7f13ef45216e25d9e5f4a16eb8f371f67ffa4e6b88760575', 'nonce': '1', 'blockHash': '0xbc6da9506a5e953684b6a94396136545e8b6d1ee35fbcc9d1ad19edd34fd88b5', 'transactionIndex': '27', 'from': '0x981e56cabab4b3c9e175885263e0e999b78c0135', 'to': '0x09bca6ebab05ee2ae945be4eda51393d94bf7b99', 'value': '0', 'gas': '150000', 'gasPrice': '24853234847', 'isError': '0', 'txreceipt_status': '1', 'input': '0xa9059cbb000000000000000000000000c8b49c0be7e1993d26dd353306d7f3dd68b77049000000000000000000000000000000000000000000000000000000000019a280', 'contractAddress': '', 'cumulativeGasUsed': '1696791', 'gasUsed': '55416', 'confirmations': '580579', 'methodId': '0xa9059cbb', 'functionName': 'transfer(address _to, uint256 _value)'}\n",
      "0x09bca6ebab05ee2ae945be4eda51393d94bf7b99\n",
      "https://api.etherscan.io/api?module=account&action=txlist&apikey=WP3JPWBB21D6JRN1AVIE451N4H5YVTJN4M&sort=desc&address=0x09BcA6eBAb05Ee2ae945BE4edA51393d94Bf7b99\n",
      "api status : OK\n",
      "{'blockNumber': '14829543', 'timeStamp': '1653308358', 'hash': '0x4590374b00e1604d7f13ef45216e25d9e5f4a16eb8f371f67ffa4e6b88760575', 'nonce': '1', 'blockHash': '0xbc6da9506a5e953684b6a94396136545e8b6d1ee35fbcc9d1ad19edd34fd88b5', 'transactionIndex': '27', 'from': '0x981e56cabab4b3c9e175885263e0e999b78c0135', 'to': '0x09bca6ebab05ee2ae945be4eda51393d94bf7b99', 'value': '0', 'gas': '150000', 'gasPrice': '24853234847', 'isError': '0', 'txreceipt_status': '1', 'input': '0xa9059cbb000000000000000000000000c8b49c0be7e1993d26dd353306d7f3dd68b77049000000000000000000000000000000000000000000000000000000000019a280', 'contractAddress': '', 'cumulativeGasUsed': '1696791', 'gasUsed': '55416', 'confirmations': '580579', 'methodId': '0xa9059cbb', 'functionName': 'transfer(address _to, uint256 _value)'}\n",
      "0x09bca6ebab05ee2ae945be4eda51393d94bf7b99\n",
      "https://api.etherscan.io/api?module=account&action=txlist&apikey=WP3JPWBB21D6JRN1AVIE451N4H5YVTJN4M&sort=desc&address=0x09BcA6eBAb05Ee2ae945BE4edA51393d94Bf7b99\n",
      "api status : OK\n",
      "{'blockNumber': '14829543', 'timeStamp': '1653308358', 'hash': '0x4590374b00e1604d7f13ef45216e25d9e5f4a16eb8f371f67ffa4e6b88760575', 'nonce': '1', 'blockHash': '0xbc6da9506a5e953684b6a94396136545e8b6d1ee35fbcc9d1ad19edd34fd88b5', 'transactionIndex': '27', 'from': '0x981e56cabab4b3c9e175885263e0e999b78c0135', 'to': '0x09bca6ebab05ee2ae945be4eda51393d94bf7b99', 'value': '0', 'gas': '150000', 'gasPrice': '24853234847', 'isError': '0', 'txreceipt_status': '1', 'input': '0xa9059cbb000000000000000000000000c8b49c0be7e1993d26dd353306d7f3dd68b77049000000000000000000000000000000000000000000000000000000000019a280', 'contractAddress': '', 'cumulativeGasUsed': '1696791', 'gasUsed': '55416', 'confirmations': '580579', 'methodId': '0xa9059cbb', 'functionName': 'transfer(address _to, uint256 _value)'}\n",
      "0x09bca6ebab05ee2ae945be4eda51393d94bf7b99\n",
      "https://api.etherscan.io/api?module=account&action=txlist&apikey=WP3JPWBB21D6JRN1AVIE451N4H5YVTJN4M&sort=desc&address=0x09bca6ebab05ee2ae945be4eda51393d94bf7b99\n",
      "api status : OK\n",
      "{'blockNumber': '14829543', 'timeStamp': '1653308358', 'hash': '0x4590374b00e1604d7f13ef45216e25d9e5f4a16eb8f371f67ffa4e6b88760575', 'nonce': '1', 'blockHash': '0xbc6da9506a5e953684b6a94396136545e8b6d1ee35fbcc9d1ad19edd34fd88b5', 'transactionIndex': '27', 'from': '0x981e56cabab4b3c9e175885263e0e999b78c0135', 'to': '0x09bca6ebab05ee2ae945be4eda51393d94bf7b99', 'value': '0', 'gas': '150000', 'gasPrice': '24853234847', 'isError': '0', 'txreceipt_status': '1', 'input': '0xa9059cbb000000000000000000000000c8b49c0be7e1993d26dd353306d7f3dd68b77049000000000000000000000000000000000000000000000000000000000019a280', 'contractAddress': '', 'cumulativeGasUsed': '1696791', 'gasUsed': '55416', 'confirmations': '580579', 'methodId': '0xa9059cbb', 'functionName': 'transfer(address _to, uint256 _value)'}\n",
      "0x09bca6ebab05ee2ae945be4eda51393d94bf7b99\n",
      "https://api.etherscan.io/api?module=account&action=txlist&apikey=WP3JPWBB21D6JRN1AVIE451N4H5YVTJN4M&sort=desc&address=0x965f109d31ccb77005858defae0ebaf7b4381652\n",
      "api status : OK\n",
      "{'blockNumber': '14504104', 'timeStamp': '1648866275', 'hash': '0xc6ca6572578619adbb1ee8db6894f1aaed094b00d5c0af89f48e7ba5a02f22b5', 'nonce': '157', 'blockHash': '0x4f7fb809192075fd264eaa085fc24f053fcb458960d9ca395b5db15c9153ad79', 'transactionIndex': '209', 'from': '0x623af8a8267faa70114e0c62c7a0ba2c2490b68a', 'to': '0x965f109d31ccb77005858defae0ebaf7b4381652', 'value': '0', 'gas': '77866', 'gasPrice': '57837813725', 'isError': '0', 'txreceipt_status': '1', 'input': '0xa9059cbb000000000000000000000000ed5a63f1d6af02a52073aabf88f4667c1794c0f2000000000000000000000000000000000000000000c12d5426cafd7fb320c000', 'contractAddress': '', 'cumulativeGasUsed': '12875298', 'gasUsed': '47111', 'confirmations': '906018', 'methodId': '0xa9059cbb', 'functionName': 'transfer(address _to, uint256 _value)'}\n",
      "0x965f109d31ccb77005858defae0ebaf7b4381652\n",
      "https://api.etherscan.io/api?module=account&action=txlist&apikey=WP3JPWBB21D6JRN1AVIE451N4H5YVTJN4M&sort=desc&address=0x965F109d31CCb77005858DEfaE0Ebaf7B4381652\n",
      "api status : OK\n",
      "{'blockNumber': '14504104', 'timeStamp': '1648866275', 'hash': '0xc6ca6572578619adbb1ee8db6894f1aaed094b00d5c0af89f48e7ba5a02f22b5', 'nonce': '157', 'blockHash': '0x4f7fb809192075fd264eaa085fc24f053fcb458960d9ca395b5db15c9153ad79', 'transactionIndex': '209', 'from': '0x623af8a8267faa70114e0c62c7a0ba2c2490b68a', 'to': '0x965f109d31ccb77005858defae0ebaf7b4381652', 'value': '0', 'gas': '77866', 'gasPrice': '57837813725', 'isError': '0', 'txreceipt_status': '1', 'input': '0xa9059cbb000000000000000000000000ed5a63f1d6af02a52073aabf88f4667c1794c0f2000000000000000000000000000000000000000000c12d5426cafd7fb320c000', 'contractAddress': '', 'cumulativeGasUsed': '12875298', 'gasUsed': '47111', 'confirmations': '906019', 'methodId': '0xa9059cbb', 'functionName': 'transfer(address _to, uint256 _value)'}\n",
      "0x965f109d31ccb77005858defae0ebaf7b4381652\n",
      "https://api.etherscan.io/api?module=account&action=txlist&apikey=WP3JPWBB21D6JRN1AVIE451N4H5YVTJN4M&sort=desc&address=0x965F109d31CCb77005858DEfaE0Ebaf7B4381652\n"
     ]
    },
    {
     "name": "stdout",
     "output_type": "stream",
     "text": [
      "api status : OK\n",
      "{'blockNumber': '14504104', 'timeStamp': '1648866275', 'hash': '0xc6ca6572578619adbb1ee8db6894f1aaed094b00d5c0af89f48e7ba5a02f22b5', 'nonce': '157', 'blockHash': '0x4f7fb809192075fd264eaa085fc24f053fcb458960d9ca395b5db15c9153ad79', 'transactionIndex': '209', 'from': '0x623af8a8267faa70114e0c62c7a0ba2c2490b68a', 'to': '0x965f109d31ccb77005858defae0ebaf7b4381652', 'value': '0', 'gas': '77866', 'gasPrice': '57837813725', 'isError': '0', 'txreceipt_status': '1', 'input': '0xa9059cbb000000000000000000000000ed5a63f1d6af02a52073aabf88f4667c1794c0f2000000000000000000000000000000000000000000c12d5426cafd7fb320c000', 'contractAddress': '', 'cumulativeGasUsed': '12875298', 'gasUsed': '47111', 'confirmations': '906019', 'methodId': '0xa9059cbb', 'functionName': 'transfer(address _to, uint256 _value)'}\n",
      "0x965f109d31ccb77005858defae0ebaf7b4381652\n",
      "https://api.etherscan.io/api?module=account&action=txlist&apikey=WP3JPWBB21D6JRN1AVIE451N4H5YVTJN4M&sort=desc&address=0x965f109d31ccb77005858defae0ebaf7b4381652\n",
      "api status : OK\n",
      "{'blockNumber': '14504104', 'timeStamp': '1648866275', 'hash': '0xc6ca6572578619adbb1ee8db6894f1aaed094b00d5c0af89f48e7ba5a02f22b5', 'nonce': '157', 'blockHash': '0x4f7fb809192075fd264eaa085fc24f053fcb458960d9ca395b5db15c9153ad79', 'transactionIndex': '209', 'from': '0x623af8a8267faa70114e0c62c7a0ba2c2490b68a', 'to': '0x965f109d31ccb77005858defae0ebaf7b4381652', 'value': '0', 'gas': '77866', 'gasPrice': '57837813725', 'isError': '0', 'txreceipt_status': '1', 'input': '0xa9059cbb000000000000000000000000ed5a63f1d6af02a52073aabf88f4667c1794c0f2000000000000000000000000000000000000000000c12d5426cafd7fb320c000', 'contractAddress': '', 'cumulativeGasUsed': '12875298', 'gasUsed': '47111', 'confirmations': '906020', 'methodId': '0xa9059cbb', 'functionName': 'transfer(address _to, uint256 _value)'}\n",
      "0x965f109d31ccb77005858defae0ebaf7b4381652\n",
      "https://api.etherscan.io/api?module=account&action=txlist&apikey=WP3JPWBB21D6JRN1AVIE451N4H5YVTJN4M&sort=desc&address=0x1d7ca62f6af49ec66f6680b8606e634e55ef22c1\n",
      "api status : OK\n",
      "{'blockNumber': '15336845', 'timeStamp': '1660440527', 'hash': '0x9a2be1270e390b1f363d1e03bd61b34720cca237c126f8c9b2a9851b0421d1e9', 'nonce': '938', 'blockHash': '0xe9bb544e53436641602a7870d31f1202018ddc9b1902ceb841b9350560161c96', 'transactionIndex': '66', 'from': '0xb16e3336699a636dd6c8246a3a12b813bfa0a3ad', 'to': '0x1d7ca62f6af49ec66f6680b8606e634e55ef22c1', 'value': '0', 'gas': '90000', 'gasPrice': '5174814623', 'isError': '0', 'txreceipt_status': '1', 'input': '0xec126c77d16579c604d705988887137db568b5c8a902b2af79144209afef54a33d74264e0000000000000000000000008594d8e9483473626908648a5539d9d65ca2fe8d00000000000000000000000000000000000000000000001e111aff280df70d28', 'contractAddress': '', 'cumulativeGasUsed': '5878853', 'gasUsed': '56064', 'confirmations': '73279', 'methodId': '0xec126c77', 'functionName': 'Swapin(bytes32 txhash, address account, uint256 amount)'}\n",
      "0x1d7ca62f6af49ec66f6680b8606e634e55ef22c1\n",
      "https://api.etherscan.io/api?module=account&action=txlist&apikey=WP3JPWBB21D6JRN1AVIE451N4H5YVTJN4M&sort=desc&address=0x1d7Ca62F6Af49ec66f6680b8606E634E55Ef22C1\n",
      "api status : OK\n",
      "{'blockNumber': '15336845', 'timeStamp': '1660440527', 'hash': '0x9a2be1270e390b1f363d1e03bd61b34720cca237c126f8c9b2a9851b0421d1e9', 'nonce': '938', 'blockHash': '0xe9bb544e53436641602a7870d31f1202018ddc9b1902ceb841b9350560161c96', 'transactionIndex': '66', 'from': '0xb16e3336699a636dd6c8246a3a12b813bfa0a3ad', 'to': '0x1d7ca62f6af49ec66f6680b8606e634e55ef22c1', 'value': '0', 'gas': '90000', 'gasPrice': '5174814623', 'isError': '0', 'txreceipt_status': '1', 'input': '0xec126c77d16579c604d705988887137db568b5c8a902b2af79144209afef54a33d74264e0000000000000000000000008594d8e9483473626908648a5539d9d65ca2fe8d00000000000000000000000000000000000000000000001e111aff280df70d28', 'contractAddress': '', 'cumulativeGasUsed': '5878853', 'gasUsed': '56064', 'confirmations': '73279', 'methodId': '0xec126c77', 'functionName': 'Swapin(bytes32 txhash, address account, uint256 amount)'}\n",
      "0x1d7ca62f6af49ec66f6680b8606e634e55ef22c1\n",
      "https://api.etherscan.io/api?module=account&action=txlist&apikey=WP3JPWBB21D6JRN1AVIE451N4H5YVTJN4M&sort=desc&address=0x1d7Ca62F6Af49ec66f6680b8606E634E55Ef22C1\n",
      "api status : OK\n",
      "{'blockNumber': '15336845', 'timeStamp': '1660440527', 'hash': '0x9a2be1270e390b1f363d1e03bd61b34720cca237c126f8c9b2a9851b0421d1e9', 'nonce': '938', 'blockHash': '0xe9bb544e53436641602a7870d31f1202018ddc9b1902ceb841b9350560161c96', 'transactionIndex': '66', 'from': '0xb16e3336699a636dd6c8246a3a12b813bfa0a3ad', 'to': '0x1d7ca62f6af49ec66f6680b8606e634e55ef22c1', 'value': '0', 'gas': '90000', 'gasPrice': '5174814623', 'isError': '0', 'txreceipt_status': '1', 'input': '0xec126c77d16579c604d705988887137db568b5c8a902b2af79144209afef54a33d74264e0000000000000000000000008594d8e9483473626908648a5539d9d65ca2fe8d00000000000000000000000000000000000000000000001e111aff280df70d28', 'contractAddress': '', 'cumulativeGasUsed': '5878853', 'gasUsed': '56064', 'confirmations': '73279', 'methodId': '0xec126c77', 'functionName': 'Swapin(bytes32 txhash, address account, uint256 amount)'}\n",
      "0x1d7ca62f6af49ec66f6680b8606e634e55ef22c1\n",
      "https://api.etherscan.io/api?module=account&action=txlist&apikey=WP3JPWBB21D6JRN1AVIE451N4H5YVTJN4M&sort=desc&address=0x1d7ca62f6af49ec66f6680b8606e634e55ef22c1\n",
      "api status : OK\n",
      "{'blockNumber': '15336845', 'timeStamp': '1660440527', 'hash': '0x9a2be1270e390b1f363d1e03bd61b34720cca237c126f8c9b2a9851b0421d1e9', 'nonce': '938', 'blockHash': '0xe9bb544e53436641602a7870d31f1202018ddc9b1902ceb841b9350560161c96', 'transactionIndex': '66', 'from': '0xb16e3336699a636dd6c8246a3a12b813bfa0a3ad', 'to': '0x1d7ca62f6af49ec66f6680b8606e634e55ef22c1', 'value': '0', 'gas': '90000', 'gasPrice': '5174814623', 'isError': '0', 'txreceipt_status': '1', 'input': '0xec126c77d16579c604d705988887137db568b5c8a902b2af79144209afef54a33d74264e0000000000000000000000008594d8e9483473626908648a5539d9d65ca2fe8d00000000000000000000000000000000000000000000001e111aff280df70d28', 'contractAddress': '', 'cumulativeGasUsed': '5878853', 'gasUsed': '56064', 'confirmations': '73279', 'methodId': '0xec126c77', 'functionName': 'Swapin(bytes32 txhash, address account, uint256 amount)'}\n",
      "0x1d7ca62f6af49ec66f6680b8606e634e55ef22c1\n",
      "https://api.etherscan.io/api?module=account&action=txlist&apikey=WP3JPWBB21D6JRN1AVIE451N4H5YVTJN4M&sort=desc&address=0xc55c2175e90a46602fd42e931f62b3acc1a013ca\n",
      "api status : OK\n",
      "{'blockNumber': '15408621', 'timeStamp': '1661423814', 'hash': '0x157547549608b877b76c620e11a386c1f9853da8d5996402ebade68f8b79ee75', 'nonce': '825', 'blockHash': '0x5087282249b763c157b7984d17f7334225eed36fa2fb52983a5bebb0cdf9c112', 'transactionIndex': '710', 'from': '0x5314003b211ab223d65258015a198dec4067936b', 'to': '0xc55c2175e90a46602fd42e931f62b3acc1a013ca', 'value': '0', 'gas': '55333', 'gasPrice': '8522034625', 'isError': '0', 'txreceipt_status': '1', 'input': '0xa9059cbb00000000000000000000000074a0aa91749bed7ab3e62f6462c14a5e169bbc7200000000000000000000000000000000000000000000093623c5071f54300000', 'contractAddress': '', 'cumulativeGasUsed': '26658577', 'gasUsed': '36889', 'confirmations': '1502', 'methodId': '0xa9059cbb', 'functionName': 'transfer(address _to, uint256 _value)'}\n",
      "0xc55c2175e90a46602fd42e931f62b3acc1a013ca\n",
      "https://api.etherscan.io/api?module=account&action=txlist&apikey=WP3JPWBB21D6JRN1AVIE451N4H5YVTJN4M&sort=desc&address=0xc55c2175E90A46602fD42e931f62B3Acc1A013Ca\n",
      "api status : OK\n",
      "{'blockNumber': '15408621', 'timeStamp': '1661423814', 'hash': '0x157547549608b877b76c620e11a386c1f9853da8d5996402ebade68f8b79ee75', 'nonce': '825', 'blockHash': '0x5087282249b763c157b7984d17f7334225eed36fa2fb52983a5bebb0cdf9c112', 'transactionIndex': '710', 'from': '0x5314003b211ab223d65258015a198dec4067936b', 'to': '0xc55c2175e90a46602fd42e931f62b3acc1a013ca', 'value': '0', 'gas': '55333', 'gasPrice': '8522034625', 'isError': '0', 'txreceipt_status': '1', 'input': '0xa9059cbb00000000000000000000000074a0aa91749bed7ab3e62f6462c14a5e169bbc7200000000000000000000000000000000000000000000093623c5071f54300000', 'contractAddress': '', 'cumulativeGasUsed': '26658577', 'gasUsed': '36889', 'confirmations': '1505', 'methodId': '0xa9059cbb', 'functionName': 'transfer(address _to, uint256 _value)'}\n",
      "0xc55c2175e90a46602fd42e931f62b3acc1a013ca\n",
      "https://api.etherscan.io/api?module=account&action=txlist&apikey=WP3JPWBB21D6JRN1AVIE451N4H5YVTJN4M&sort=desc&address=0xc55c2175E90A46602fD42e931f62B3Acc1A013Ca\n"
     ]
    },
    {
     "name": "stdout",
     "output_type": "stream",
     "text": [
      "api status : OK\n",
      "{'blockNumber': '15408621', 'timeStamp': '1661423814', 'hash': '0x157547549608b877b76c620e11a386c1f9853da8d5996402ebade68f8b79ee75', 'nonce': '825', 'blockHash': '0x5087282249b763c157b7984d17f7334225eed36fa2fb52983a5bebb0cdf9c112', 'transactionIndex': '710', 'from': '0x5314003b211ab223d65258015a198dec4067936b', 'to': '0xc55c2175e90a46602fd42e931f62b3acc1a013ca', 'value': '0', 'gas': '55333', 'gasPrice': '8522034625', 'isError': '0', 'txreceipt_status': '1', 'input': '0xa9059cbb00000000000000000000000074a0aa91749bed7ab3e62f6462c14a5e169bbc7200000000000000000000000000000000000000000000093623c5071f54300000', 'contractAddress': '', 'cumulativeGasUsed': '26658577', 'gasUsed': '36889', 'confirmations': '1505', 'methodId': '0xa9059cbb', 'functionName': 'transfer(address _to, uint256 _value)'}\n",
      "0xc55c2175e90a46602fd42e931f62b3acc1a013ca\n",
      "https://api.etherscan.io/api?module=account&action=txlist&apikey=WP3JPWBB21D6JRN1AVIE451N4H5YVTJN4M&sort=desc&address=0xc55c2175e90a46602fd42e931f62b3acc1a013ca\n",
      "api status : OK\n",
      "{'blockNumber': '15408621', 'timeStamp': '1661423814', 'hash': '0x157547549608b877b76c620e11a386c1f9853da8d5996402ebade68f8b79ee75', 'nonce': '825', 'blockHash': '0x5087282249b763c157b7984d17f7334225eed36fa2fb52983a5bebb0cdf9c112', 'transactionIndex': '710', 'from': '0x5314003b211ab223d65258015a198dec4067936b', 'to': '0xc55c2175e90a46602fd42e931f62b3acc1a013ca', 'value': '0', 'gas': '55333', 'gasPrice': '8522034625', 'isError': '0', 'txreceipt_status': '1', 'input': '0xa9059cbb00000000000000000000000074a0aa91749bed7ab3e62f6462c14a5e169bbc7200000000000000000000000000000000000000000000093623c5071f54300000', 'contractAddress': '', 'cumulativeGasUsed': '26658577', 'gasUsed': '36889', 'confirmations': '1505', 'methodId': '0xa9059cbb', 'functionName': 'transfer(address _to, uint256 _value)'}\n",
      "0xc55c2175e90a46602fd42e931f62b3acc1a013ca\n",
      "https://api.etherscan.io/api?module=account&action=txlist&apikey=WP3JPWBB21D6JRN1AVIE451N4H5YVTJN4M&sort=desc&address=0x8e6cd950ad6ba651f6dd608dc70e5886b1aa6b24\n",
      "api status : OK\n",
      "{'blockNumber': '15409994', 'timeStamp': '1661442917', 'hash': '0x77fb3133d7b93f2ed9bfcb644ef6ad683fbc77c56429c08a2710ab36e1133c57', 'nonce': '4072862', 'blockHash': '0x4355de638ac9c2c74b57d3885f26c42c78535bd3e1e4043b8eb8c365edea6320', 'transactionIndex': '14', 'from': '0x0d0707963952f2fba59dd06f2b425ace40b492fe', 'to': '0x8e6cd950ad6ba651f6dd608dc70e5886b1aa6b24', 'value': '0', 'gas': '1000000', 'gasPrice': '33260370704', 'isError': '0', 'txreceipt_status': '1', 'input': '0xa9059cbb0000000000000000000000006a2affad3e49d5656b70b3abdf2eee5268ddf468000000000000000000000000000000000000000000098a66ebf10f3984ae2000', 'contractAddress': '', 'cumulativeGasUsed': '1017133', 'gasUsed': '35471', 'confirmations': '133', 'methodId': '0xa9059cbb', 'functionName': 'transfer(address _to, uint256 _value)'}\n",
      "0x8e6cd950ad6ba651f6dd608dc70e5886b1aa6b24\n",
      "https://api.etherscan.io/api?module=account&action=txlist&apikey=WP3JPWBB21D6JRN1AVIE451N4H5YVTJN4M&sort=desc&address=0x8E6cd950Ad6ba651F6DD608Dc70e5886B1AA6B24\n"
     ]
    },
    {
     "ename": "KeyboardInterrupt",
     "evalue": "",
     "output_type": "error",
     "traceback": [
      "\u001b[1;31m---------------------------------------------------------------------------\u001b[0m",
      "\u001b[1;31mKeyboardInterrupt\u001b[0m                         Traceback (most recent call last)",
      "\u001b[1;32m~\\AppData\\Local\\Temp/ipykernel_22836/3828715086.py\u001b[0m in \u001b[0;36m<module>\u001b[1;34m\u001b[0m\n\u001b[0;32m     84\u001b[0m         \u001b[1;32melif\u001b[0m\u001b[1;33m(\u001b[0m\u001b[0msel\u001b[0m\u001b[1;33m>=\u001b[0m\u001b[1;36m1\u001b[0m \u001b[1;32mand\u001b[0m \u001b[0msel\u001b[0m \u001b[1;33m<=\u001b[0m \u001b[0mlen\u001b[0m\u001b[1;33m(\u001b[0m\u001b[0mmenu\u001b[0m\u001b[1;33m)\u001b[0m\u001b[1;33m)\u001b[0m\u001b[1;33m:\u001b[0m\u001b[1;33m\u001b[0m\u001b[1;33m\u001b[0m\u001b[0m\n\u001b[0;32m     85\u001b[0m             \u001b[1;31m#transactions(\"\")\u001b[0m\u001b[1;33m\u001b[0m\u001b[1;33m\u001b[0m\u001b[1;33m\u001b[0m\u001b[0m\n\u001b[1;32m---> 86\u001b[1;33m             \u001b[0martifacts\u001b[0m\u001b[1;33m(\u001b[0m\u001b[1;33m)\u001b[0m\u001b[1;33m\u001b[0m\u001b[1;33m\u001b[0m\u001b[0m\n\u001b[0m\u001b[0;32m     87\u001b[0m             \u001b[0mprint\u001b[0m \u001b[1;33m(\u001b[0m\u001b[1;34m\"transaction result print\"\u001b[0m\u001b[1;33m)\u001b[0m\u001b[1;33m\u001b[0m\u001b[1;33m\u001b[0m\u001b[0m\n\u001b[0;32m     88\u001b[0m             \u001b[0msel1\u001b[0m \u001b[1;33m=\u001b[0m \u001b[0mstr\u001b[0m\u001b[1;33m(\u001b[0m\u001b[0minput\u001b[0m\u001b[1;33m(\u001b[0m\u001b[1;34m\"[*] Do you want to continue searching? : 'if you enter 'no' and quit process\"\u001b[0m\u001b[1;33m)\u001b[0m\u001b[1;33m)\u001b[0m\u001b[1;33m\u001b[0m\u001b[1;33m\u001b[0m\u001b[0m\n",
      "\u001b[1;32m~\\AppData\\Local\\Temp/ipykernel_22836/3828715086.py\u001b[0m in \u001b[0;36martifacts\u001b[1;34m()\u001b[0m\n\u001b[0;32m     52\u001b[0m                 \u001b[0mprint\u001b[0m\u001b[1;33m(\u001b[0m\u001b[0mURL\u001b[0m\u001b[1;33m)\u001b[0m\u001b[1;33m\u001b[0m\u001b[1;33m\u001b[0m\u001b[0m\n\u001b[0;32m     53\u001b[0m                 \u001b[0mheaders\u001b[0m \u001b[1;33m=\u001b[0m \u001b[1;33m{\u001b[0m\u001b[1;34m'User-Agent'\u001b[0m\u001b[1;33m:\u001b[0m \u001b[1;34m'Mozilla/5.0'\u001b[0m\u001b[1;33m}\u001b[0m \u001b[1;31m# header 선언, http 요청 브라우저는 Mozilla.\u001b[0m\u001b[1;33m\u001b[0m\u001b[1;33m\u001b[0m\u001b[0m\n\u001b[1;32m---> 54\u001b[1;33m                 \u001b[0mresp\u001b[0m \u001b[1;33m=\u001b[0m \u001b[0mrequests\u001b[0m\u001b[1;33m.\u001b[0m\u001b[0mget\u001b[0m\u001b[1;33m(\u001b[0m\u001b[0mURL\u001b[0m\u001b[1;33m)\u001b[0m\u001b[1;33m.\u001b[0m\u001b[0mjson\u001b[0m\u001b[1;33m(\u001b[0m\u001b[1;33m)\u001b[0m \u001b[1;31m# http get 요청을 resp 변수에 json 형태로 선언\u001b[0m\u001b[1;33m\u001b[0m\u001b[1;33m\u001b[0m\u001b[0m\n\u001b[0m\u001b[0;32m     55\u001b[0m                 \u001b[1;32mfor\u001b[0m \u001b[0mkey\u001b[0m\u001b[1;33m,\u001b[0m \u001b[0mvalue\u001b[0m \u001b[1;32min\u001b[0m \u001b[0mresp\u001b[0m\u001b[1;33m.\u001b[0m\u001b[0mitems\u001b[0m\u001b[1;33m(\u001b[0m\u001b[1;33m)\u001b[0m\u001b[1;33m:\u001b[0m  \u001b[1;31m# apikey error test\u001b[0m\u001b[1;33m\u001b[0m\u001b[1;33m\u001b[0m\u001b[0m\n\u001b[0;32m     56\u001b[0m                     \u001b[1;32mif\u001b[0m \u001b[0mvalue\u001b[0m \u001b[1;33m==\u001b[0m \u001b[1;34m\"1\"\u001b[0m\u001b[1;33m:\u001b[0m\u001b[1;33m\u001b[0m\u001b[1;33m\u001b[0m\u001b[0m\n",
      "\u001b[1;32m~\\AppData\\Roaming\\Python\\Python39\\site-packages\\requests\\api.py\u001b[0m in \u001b[0;36mget\u001b[1;34m(url, params, **kwargs)\u001b[0m\n\u001b[0;32m     73\u001b[0m     \"\"\"\n\u001b[0;32m     74\u001b[0m \u001b[1;33m\u001b[0m\u001b[0m\n\u001b[1;32m---> 75\u001b[1;33m     \u001b[1;32mreturn\u001b[0m \u001b[0mrequest\u001b[0m\u001b[1;33m(\u001b[0m\u001b[1;34m'get'\u001b[0m\u001b[1;33m,\u001b[0m \u001b[0murl\u001b[0m\u001b[1;33m,\u001b[0m \u001b[0mparams\u001b[0m\u001b[1;33m=\u001b[0m\u001b[0mparams\u001b[0m\u001b[1;33m,\u001b[0m \u001b[1;33m**\u001b[0m\u001b[0mkwargs\u001b[0m\u001b[1;33m)\u001b[0m\u001b[1;33m\u001b[0m\u001b[1;33m\u001b[0m\u001b[0m\n\u001b[0m\u001b[0;32m     76\u001b[0m \u001b[1;33m\u001b[0m\u001b[0m\n\u001b[0;32m     77\u001b[0m \u001b[1;33m\u001b[0m\u001b[0m\n",
      "\u001b[1;32m~\\AppData\\Roaming\\Python\\Python39\\site-packages\\requests\\api.py\u001b[0m in \u001b[0;36mrequest\u001b[1;34m(method, url, **kwargs)\u001b[0m\n\u001b[0;32m     59\u001b[0m     \u001b[1;31m# cases, and look like a memory leak in others.\u001b[0m\u001b[1;33m\u001b[0m\u001b[1;33m\u001b[0m\u001b[1;33m\u001b[0m\u001b[0m\n\u001b[0;32m     60\u001b[0m     \u001b[1;32mwith\u001b[0m \u001b[0msessions\u001b[0m\u001b[1;33m.\u001b[0m\u001b[0mSession\u001b[0m\u001b[1;33m(\u001b[0m\u001b[1;33m)\u001b[0m \u001b[1;32mas\u001b[0m \u001b[0msession\u001b[0m\u001b[1;33m:\u001b[0m\u001b[1;33m\u001b[0m\u001b[1;33m\u001b[0m\u001b[0m\n\u001b[1;32m---> 61\u001b[1;33m         \u001b[1;32mreturn\u001b[0m \u001b[0msession\u001b[0m\u001b[1;33m.\u001b[0m\u001b[0mrequest\u001b[0m\u001b[1;33m(\u001b[0m\u001b[0mmethod\u001b[0m\u001b[1;33m=\u001b[0m\u001b[0mmethod\u001b[0m\u001b[1;33m,\u001b[0m \u001b[0murl\u001b[0m\u001b[1;33m=\u001b[0m\u001b[0murl\u001b[0m\u001b[1;33m,\u001b[0m \u001b[1;33m**\u001b[0m\u001b[0mkwargs\u001b[0m\u001b[1;33m)\u001b[0m\u001b[1;33m\u001b[0m\u001b[1;33m\u001b[0m\u001b[0m\n\u001b[0m\u001b[0;32m     62\u001b[0m \u001b[1;33m\u001b[0m\u001b[0m\n\u001b[0;32m     63\u001b[0m \u001b[1;33m\u001b[0m\u001b[0m\n",
      "\u001b[1;32m~\\AppData\\Roaming\\Python\\Python39\\site-packages\\requests\\sessions.py\u001b[0m in \u001b[0;36mrequest\u001b[1;34m(self, method, url, params, data, headers, cookies, files, auth, timeout, allow_redirects, proxies, hooks, stream, verify, cert, json)\u001b[0m\n\u001b[0;32m    540\u001b[0m         }\n\u001b[0;32m    541\u001b[0m         \u001b[0msend_kwargs\u001b[0m\u001b[1;33m.\u001b[0m\u001b[0mupdate\u001b[0m\u001b[1;33m(\u001b[0m\u001b[0msettings\u001b[0m\u001b[1;33m)\u001b[0m\u001b[1;33m\u001b[0m\u001b[1;33m\u001b[0m\u001b[0m\n\u001b[1;32m--> 542\u001b[1;33m         \u001b[0mresp\u001b[0m \u001b[1;33m=\u001b[0m \u001b[0mself\u001b[0m\u001b[1;33m.\u001b[0m\u001b[0msend\u001b[0m\u001b[1;33m(\u001b[0m\u001b[0mprep\u001b[0m\u001b[1;33m,\u001b[0m \u001b[1;33m**\u001b[0m\u001b[0msend_kwargs\u001b[0m\u001b[1;33m)\u001b[0m\u001b[1;33m\u001b[0m\u001b[1;33m\u001b[0m\u001b[0m\n\u001b[0m\u001b[0;32m    543\u001b[0m \u001b[1;33m\u001b[0m\u001b[0m\n\u001b[0;32m    544\u001b[0m         \u001b[1;32mreturn\u001b[0m \u001b[0mresp\u001b[0m\u001b[1;33m\u001b[0m\u001b[1;33m\u001b[0m\u001b[0m\n",
      "\u001b[1;32m~\\AppData\\Roaming\\Python\\Python39\\site-packages\\requests\\sessions.py\u001b[0m in \u001b[0;36msend\u001b[1;34m(self, request, **kwargs)\u001b[0m\n\u001b[0;32m    695\u001b[0m \u001b[1;33m\u001b[0m\u001b[0m\n\u001b[0;32m    696\u001b[0m         \u001b[1;32mif\u001b[0m \u001b[1;32mnot\u001b[0m \u001b[0mstream\u001b[0m\u001b[1;33m:\u001b[0m\u001b[1;33m\u001b[0m\u001b[1;33m\u001b[0m\u001b[0m\n\u001b[1;32m--> 697\u001b[1;33m             \u001b[0mr\u001b[0m\u001b[1;33m.\u001b[0m\u001b[0mcontent\u001b[0m\u001b[1;33m\u001b[0m\u001b[1;33m\u001b[0m\u001b[0m\n\u001b[0m\u001b[0;32m    698\u001b[0m \u001b[1;33m\u001b[0m\u001b[0m\n\u001b[0;32m    699\u001b[0m         \u001b[1;32mreturn\u001b[0m \u001b[0mr\u001b[0m\u001b[1;33m\u001b[0m\u001b[1;33m\u001b[0m\u001b[0m\n",
      "\u001b[1;32m~\\AppData\\Roaming\\Python\\Python39\\site-packages\\requests\\models.py\u001b[0m in \u001b[0;36mcontent\u001b[1;34m(self)\u001b[0m\n\u001b[0;32m    834\u001b[0m                 \u001b[0mself\u001b[0m\u001b[1;33m.\u001b[0m\u001b[0m_content\u001b[0m \u001b[1;33m=\u001b[0m \u001b[1;32mNone\u001b[0m\u001b[1;33m\u001b[0m\u001b[1;33m\u001b[0m\u001b[0m\n\u001b[0;32m    835\u001b[0m             \u001b[1;32melse\u001b[0m\u001b[1;33m:\u001b[0m\u001b[1;33m\u001b[0m\u001b[1;33m\u001b[0m\u001b[0m\n\u001b[1;32m--> 836\u001b[1;33m                 \u001b[0mself\u001b[0m\u001b[1;33m.\u001b[0m\u001b[0m_content\u001b[0m \u001b[1;33m=\u001b[0m \u001b[1;34mb''\u001b[0m\u001b[1;33m.\u001b[0m\u001b[0mjoin\u001b[0m\u001b[1;33m(\u001b[0m\u001b[0mself\u001b[0m\u001b[1;33m.\u001b[0m\u001b[0miter_content\u001b[0m\u001b[1;33m(\u001b[0m\u001b[0mCONTENT_CHUNK_SIZE\u001b[0m\u001b[1;33m)\u001b[0m\u001b[1;33m)\u001b[0m \u001b[1;32mor\u001b[0m \u001b[1;34mb''\u001b[0m\u001b[1;33m\u001b[0m\u001b[1;33m\u001b[0m\u001b[0m\n\u001b[0m\u001b[0;32m    837\u001b[0m \u001b[1;33m\u001b[0m\u001b[0m\n\u001b[0;32m    838\u001b[0m         \u001b[0mself\u001b[0m\u001b[1;33m.\u001b[0m\u001b[0m_content_consumed\u001b[0m \u001b[1;33m=\u001b[0m \u001b[1;32mTrue\u001b[0m\u001b[1;33m\u001b[0m\u001b[1;33m\u001b[0m\u001b[0m\n",
      "\u001b[1;32m~\\AppData\\Roaming\\Python\\Python39\\site-packages\\requests\\models.py\u001b[0m in \u001b[0;36mgenerate\u001b[1;34m()\u001b[0m\n\u001b[0;32m    756\u001b[0m             \u001b[1;32mif\u001b[0m \u001b[0mhasattr\u001b[0m\u001b[1;33m(\u001b[0m\u001b[0mself\u001b[0m\u001b[1;33m.\u001b[0m\u001b[0mraw\u001b[0m\u001b[1;33m,\u001b[0m \u001b[1;34m'stream'\u001b[0m\u001b[1;33m)\u001b[0m\u001b[1;33m:\u001b[0m\u001b[1;33m\u001b[0m\u001b[1;33m\u001b[0m\u001b[0m\n\u001b[0;32m    757\u001b[0m                 \u001b[1;32mtry\u001b[0m\u001b[1;33m:\u001b[0m\u001b[1;33m\u001b[0m\u001b[1;33m\u001b[0m\u001b[0m\n\u001b[1;32m--> 758\u001b[1;33m                     \u001b[1;32mfor\u001b[0m \u001b[0mchunk\u001b[0m \u001b[1;32min\u001b[0m \u001b[0mself\u001b[0m\u001b[1;33m.\u001b[0m\u001b[0mraw\u001b[0m\u001b[1;33m.\u001b[0m\u001b[0mstream\u001b[0m\u001b[1;33m(\u001b[0m\u001b[0mchunk_size\u001b[0m\u001b[1;33m,\u001b[0m \u001b[0mdecode_content\u001b[0m\u001b[1;33m=\u001b[0m\u001b[1;32mTrue\u001b[0m\u001b[1;33m)\u001b[0m\u001b[1;33m:\u001b[0m\u001b[1;33m\u001b[0m\u001b[1;33m\u001b[0m\u001b[0m\n\u001b[0m\u001b[0;32m    759\u001b[0m                         \u001b[1;32myield\u001b[0m \u001b[0mchunk\u001b[0m\u001b[1;33m\u001b[0m\u001b[1;33m\u001b[0m\u001b[0m\n\u001b[0;32m    760\u001b[0m                 \u001b[1;32mexcept\u001b[0m \u001b[0mProtocolError\u001b[0m \u001b[1;32mas\u001b[0m \u001b[0me\u001b[0m\u001b[1;33m:\u001b[0m\u001b[1;33m\u001b[0m\u001b[1;33m\u001b[0m\u001b[0m\n",
      "\u001b[1;32m~\\AppData\\Roaming\\Python\\Python39\\site-packages\\urllib3\\response.py\u001b[0m in \u001b[0;36mstream\u001b[1;34m(self, amt, decode_content)\u001b[0m\n\u001b[0;32m    570\u001b[0m         \"\"\"\n\u001b[0;32m    571\u001b[0m         \u001b[1;32mif\u001b[0m \u001b[0mself\u001b[0m\u001b[1;33m.\u001b[0m\u001b[0mchunked\u001b[0m \u001b[1;32mand\u001b[0m \u001b[0mself\u001b[0m\u001b[1;33m.\u001b[0m\u001b[0msupports_chunked_reads\u001b[0m\u001b[1;33m(\u001b[0m\u001b[1;33m)\u001b[0m\u001b[1;33m:\u001b[0m\u001b[1;33m\u001b[0m\u001b[1;33m\u001b[0m\u001b[0m\n\u001b[1;32m--> 572\u001b[1;33m             \u001b[1;32mfor\u001b[0m \u001b[0mline\u001b[0m \u001b[1;32min\u001b[0m \u001b[0mself\u001b[0m\u001b[1;33m.\u001b[0m\u001b[0mread_chunked\u001b[0m\u001b[1;33m(\u001b[0m\u001b[0mamt\u001b[0m\u001b[1;33m,\u001b[0m \u001b[0mdecode_content\u001b[0m\u001b[1;33m=\u001b[0m\u001b[0mdecode_content\u001b[0m\u001b[1;33m)\u001b[0m\u001b[1;33m:\u001b[0m\u001b[1;33m\u001b[0m\u001b[1;33m\u001b[0m\u001b[0m\n\u001b[0m\u001b[0;32m    573\u001b[0m                 \u001b[1;32myield\u001b[0m \u001b[0mline\u001b[0m\u001b[1;33m\u001b[0m\u001b[1;33m\u001b[0m\u001b[0m\n\u001b[0;32m    574\u001b[0m         \u001b[1;32melse\u001b[0m\u001b[1;33m:\u001b[0m\u001b[1;33m\u001b[0m\u001b[1;33m\u001b[0m\u001b[0m\n",
      "\u001b[1;32m~\\AppData\\Roaming\\Python\\Python39\\site-packages\\urllib3\\response.py\u001b[0m in \u001b[0;36mread_chunked\u001b[1;34m(self, amt, decode_content)\u001b[0m\n\u001b[0;32m    765\u001b[0m                 \u001b[1;32mif\u001b[0m \u001b[0mself\u001b[0m\u001b[1;33m.\u001b[0m\u001b[0mchunk_left\u001b[0m \u001b[1;33m==\u001b[0m \u001b[1;36m0\u001b[0m\u001b[1;33m:\u001b[0m\u001b[1;33m\u001b[0m\u001b[1;33m\u001b[0m\u001b[0m\n\u001b[0;32m    766\u001b[0m                     \u001b[1;32mbreak\u001b[0m\u001b[1;33m\u001b[0m\u001b[1;33m\u001b[0m\u001b[0m\n\u001b[1;32m--> 767\u001b[1;33m                 \u001b[0mchunk\u001b[0m \u001b[1;33m=\u001b[0m \u001b[0mself\u001b[0m\u001b[1;33m.\u001b[0m\u001b[0m_handle_chunk\u001b[0m\u001b[1;33m(\u001b[0m\u001b[0mamt\u001b[0m\u001b[1;33m)\u001b[0m\u001b[1;33m\u001b[0m\u001b[1;33m\u001b[0m\u001b[0m\n\u001b[0m\u001b[0;32m    768\u001b[0m                 decoded = self._decode(\n\u001b[0;32m    769\u001b[0m                     \u001b[0mchunk\u001b[0m\u001b[1;33m,\u001b[0m \u001b[0mdecode_content\u001b[0m\u001b[1;33m=\u001b[0m\u001b[0mdecode_content\u001b[0m\u001b[1;33m,\u001b[0m \u001b[0mflush_decoder\u001b[0m\u001b[1;33m=\u001b[0m\u001b[1;32mFalse\u001b[0m\u001b[1;33m\u001b[0m\u001b[1;33m\u001b[0m\u001b[0m\n",
      "\u001b[1;32m~\\AppData\\Roaming\\Python\\Python39\\site-packages\\urllib3\\response.py\u001b[0m in \u001b[0;36m_handle_chunk\u001b[1;34m(self, amt)\u001b[0m\n\u001b[0;32m    709\u001b[0m             \u001b[0mself\u001b[0m\u001b[1;33m.\u001b[0m\u001b[0mchunk_left\u001b[0m \u001b[1;33m=\u001b[0m \u001b[1;32mNone\u001b[0m\u001b[1;33m\u001b[0m\u001b[1;33m\u001b[0m\u001b[0m\n\u001b[0;32m    710\u001b[0m         \u001b[1;32melif\u001b[0m \u001b[0mamt\u001b[0m \u001b[1;33m<\u001b[0m \u001b[0mself\u001b[0m\u001b[1;33m.\u001b[0m\u001b[0mchunk_left\u001b[0m\u001b[1;33m:\u001b[0m\u001b[1;33m\u001b[0m\u001b[1;33m\u001b[0m\u001b[0m\n\u001b[1;32m--> 711\u001b[1;33m             \u001b[0mvalue\u001b[0m \u001b[1;33m=\u001b[0m \u001b[0mself\u001b[0m\u001b[1;33m.\u001b[0m\u001b[0m_fp\u001b[0m\u001b[1;33m.\u001b[0m\u001b[0m_safe_read\u001b[0m\u001b[1;33m(\u001b[0m\u001b[0mamt\u001b[0m\u001b[1;33m)\u001b[0m\u001b[1;33m\u001b[0m\u001b[1;33m\u001b[0m\u001b[0m\n\u001b[0m\u001b[0;32m    712\u001b[0m             \u001b[0mself\u001b[0m\u001b[1;33m.\u001b[0m\u001b[0mchunk_left\u001b[0m \u001b[1;33m=\u001b[0m \u001b[0mself\u001b[0m\u001b[1;33m.\u001b[0m\u001b[0mchunk_left\u001b[0m \u001b[1;33m-\u001b[0m \u001b[0mamt\u001b[0m\u001b[1;33m\u001b[0m\u001b[1;33m\u001b[0m\u001b[0m\n\u001b[0;32m    713\u001b[0m             \u001b[0mreturned_chunk\u001b[0m \u001b[1;33m=\u001b[0m \u001b[0mvalue\u001b[0m\u001b[1;33m\u001b[0m\u001b[1;33m\u001b[0m\u001b[0m\n",
      "\u001b[1;32mc:\\program files\\python39\\lib\\http\\client.py\u001b[0m in \u001b[0;36m_safe_read\u001b[1;34m(self, amt)\u001b[0m\n\u001b[0;32m    607\u001b[0m         \u001b[0mIncompleteRead\u001b[0m \u001b[0mexception\u001b[0m \u001b[0mcan\u001b[0m \u001b[0mbe\u001b[0m \u001b[0mused\u001b[0m \u001b[0mto\u001b[0m \u001b[0mdetect\u001b[0m \u001b[0mthe\u001b[0m \u001b[0mproblem\u001b[0m\u001b[1;33m.\u001b[0m\u001b[1;33m\u001b[0m\u001b[1;33m\u001b[0m\u001b[0m\n\u001b[0;32m    608\u001b[0m         \"\"\"\n\u001b[1;32m--> 609\u001b[1;33m         \u001b[0mdata\u001b[0m \u001b[1;33m=\u001b[0m \u001b[0mself\u001b[0m\u001b[1;33m.\u001b[0m\u001b[0mfp\u001b[0m\u001b[1;33m.\u001b[0m\u001b[0mread\u001b[0m\u001b[1;33m(\u001b[0m\u001b[0mamt\u001b[0m\u001b[1;33m)\u001b[0m\u001b[1;33m\u001b[0m\u001b[1;33m\u001b[0m\u001b[0m\n\u001b[0m\u001b[0;32m    610\u001b[0m         \u001b[1;32mif\u001b[0m \u001b[0mlen\u001b[0m\u001b[1;33m(\u001b[0m\u001b[0mdata\u001b[0m\u001b[1;33m)\u001b[0m \u001b[1;33m<\u001b[0m \u001b[0mamt\u001b[0m\u001b[1;33m:\u001b[0m\u001b[1;33m\u001b[0m\u001b[1;33m\u001b[0m\u001b[0m\n\u001b[0;32m    611\u001b[0m             \u001b[1;32mraise\u001b[0m \u001b[0mIncompleteRead\u001b[0m\u001b[1;33m(\u001b[0m\u001b[0mdata\u001b[0m\u001b[1;33m,\u001b[0m \u001b[0mamt\u001b[0m\u001b[1;33m-\u001b[0m\u001b[0mlen\u001b[0m\u001b[1;33m(\u001b[0m\u001b[0mdata\u001b[0m\u001b[1;33m)\u001b[0m\u001b[1;33m)\u001b[0m\u001b[1;33m\u001b[0m\u001b[1;33m\u001b[0m\u001b[0m\n",
      "\u001b[1;32mc:\\program files\\python39\\lib\\socket.py\u001b[0m in \u001b[0;36mreadinto\u001b[1;34m(self, b)\u001b[0m\n\u001b[0;32m    702\u001b[0m         \u001b[1;32mwhile\u001b[0m \u001b[1;32mTrue\u001b[0m\u001b[1;33m:\u001b[0m\u001b[1;33m\u001b[0m\u001b[1;33m\u001b[0m\u001b[0m\n\u001b[0;32m    703\u001b[0m             \u001b[1;32mtry\u001b[0m\u001b[1;33m:\u001b[0m\u001b[1;33m\u001b[0m\u001b[1;33m\u001b[0m\u001b[0m\n\u001b[1;32m--> 704\u001b[1;33m                 \u001b[1;32mreturn\u001b[0m \u001b[0mself\u001b[0m\u001b[1;33m.\u001b[0m\u001b[0m_sock\u001b[0m\u001b[1;33m.\u001b[0m\u001b[0mrecv_into\u001b[0m\u001b[1;33m(\u001b[0m\u001b[0mb\u001b[0m\u001b[1;33m)\u001b[0m\u001b[1;33m\u001b[0m\u001b[1;33m\u001b[0m\u001b[0m\n\u001b[0m\u001b[0;32m    705\u001b[0m             \u001b[1;32mexcept\u001b[0m \u001b[0mtimeout\u001b[0m\u001b[1;33m:\u001b[0m\u001b[1;33m\u001b[0m\u001b[1;33m\u001b[0m\u001b[0m\n\u001b[0;32m    706\u001b[0m                 \u001b[0mself\u001b[0m\u001b[1;33m.\u001b[0m\u001b[0m_timeout_occurred\u001b[0m \u001b[1;33m=\u001b[0m \u001b[1;32mTrue\u001b[0m\u001b[1;33m\u001b[0m\u001b[1;33m\u001b[0m\u001b[0m\n",
      "\u001b[1;32mc:\\program files\\python39\\lib\\ssl.py\u001b[0m in \u001b[0;36mrecv_into\u001b[1;34m(self, buffer, nbytes, flags)\u001b[0m\n\u001b[0;32m   1239\u001b[0m                   \u001b[1;34m\"non-zero flags not allowed in calls to recv_into() on %s\"\u001b[0m \u001b[1;33m%\u001b[0m\u001b[1;33m\u001b[0m\u001b[1;33m\u001b[0m\u001b[0m\n\u001b[0;32m   1240\u001b[0m                   self.__class__)\n\u001b[1;32m-> 1241\u001b[1;33m             \u001b[1;32mreturn\u001b[0m \u001b[0mself\u001b[0m\u001b[1;33m.\u001b[0m\u001b[0mread\u001b[0m\u001b[1;33m(\u001b[0m\u001b[0mnbytes\u001b[0m\u001b[1;33m,\u001b[0m \u001b[0mbuffer\u001b[0m\u001b[1;33m)\u001b[0m\u001b[1;33m\u001b[0m\u001b[1;33m\u001b[0m\u001b[0m\n\u001b[0m\u001b[0;32m   1242\u001b[0m         \u001b[1;32melse\u001b[0m\u001b[1;33m:\u001b[0m\u001b[1;33m\u001b[0m\u001b[1;33m\u001b[0m\u001b[0m\n\u001b[0;32m   1243\u001b[0m             \u001b[1;32mreturn\u001b[0m \u001b[0msuper\u001b[0m\u001b[1;33m(\u001b[0m\u001b[1;33m)\u001b[0m\u001b[1;33m.\u001b[0m\u001b[0mrecv_into\u001b[0m\u001b[1;33m(\u001b[0m\u001b[0mbuffer\u001b[0m\u001b[1;33m,\u001b[0m \u001b[0mnbytes\u001b[0m\u001b[1;33m,\u001b[0m \u001b[0mflags\u001b[0m\u001b[1;33m)\u001b[0m\u001b[1;33m\u001b[0m\u001b[1;33m\u001b[0m\u001b[0m\n",
      "\u001b[1;32mc:\\program files\\python39\\lib\\ssl.py\u001b[0m in \u001b[0;36mread\u001b[1;34m(self, len, buffer)\u001b[0m\n\u001b[0;32m   1097\u001b[0m         \u001b[1;32mtry\u001b[0m\u001b[1;33m:\u001b[0m\u001b[1;33m\u001b[0m\u001b[1;33m\u001b[0m\u001b[0m\n\u001b[0;32m   1098\u001b[0m             \u001b[1;32mif\u001b[0m \u001b[0mbuffer\u001b[0m \u001b[1;32mis\u001b[0m \u001b[1;32mnot\u001b[0m \u001b[1;32mNone\u001b[0m\u001b[1;33m:\u001b[0m\u001b[1;33m\u001b[0m\u001b[1;33m\u001b[0m\u001b[0m\n\u001b[1;32m-> 1099\u001b[1;33m                 \u001b[1;32mreturn\u001b[0m \u001b[0mself\u001b[0m\u001b[1;33m.\u001b[0m\u001b[0m_sslobj\u001b[0m\u001b[1;33m.\u001b[0m\u001b[0mread\u001b[0m\u001b[1;33m(\u001b[0m\u001b[0mlen\u001b[0m\u001b[1;33m,\u001b[0m \u001b[0mbuffer\u001b[0m\u001b[1;33m)\u001b[0m\u001b[1;33m\u001b[0m\u001b[1;33m\u001b[0m\u001b[0m\n\u001b[0m\u001b[0;32m   1100\u001b[0m             \u001b[1;32melse\u001b[0m\u001b[1;33m:\u001b[0m\u001b[1;33m\u001b[0m\u001b[1;33m\u001b[0m\u001b[0m\n\u001b[0;32m   1101\u001b[0m                 \u001b[1;32mreturn\u001b[0m \u001b[0mself\u001b[0m\u001b[1;33m.\u001b[0m\u001b[0m_sslobj\u001b[0m\u001b[1;33m.\u001b[0m\u001b[0mread\u001b[0m\u001b[1;33m(\u001b[0m\u001b[0mlen\u001b[0m\u001b[1;33m)\u001b[0m\u001b[1;33m\u001b[0m\u001b[1;33m\u001b[0m\u001b[0m\n",
      "\u001b[1;31mKeyboardInterrupt\u001b[0m: "
     ]
    }
   ],
   "source": [
    "import struct\n",
    "import re\n",
    "import os\n",
    "import requests\n",
    "from mmap import ACCESS_READ, mmap\n",
    "\n",
    "global valid_address\n",
    "path = input(\"write full path: \")\n",
    "try:\n",
    "    handle = open(path, 'rb+')\n",
    "except IOError:\n",
    "    print('IOError : File path is invalid')\n",
    "    sys.exit()\n",
    "print(path)\n",
    "\n",
    "def showmenu():  # 메뉴 선택 함수\n",
    "    print()\n",
    "    print(\"[Ethereum Aritifacts search choose menu]\")\n",
    "    for i in range(0, len(menu)):\n",
    "        print(i+1, \".\", menu[i])\n",
    "    print()\n",
    "    \n",
    "def artifacts():\n",
    "    if sel == 1:\n",
    "        p = re.compile(rb'0x[a-fA-F0-9]{40}', re.IGNORECASE | re.MULTILINE) #이더리움 주소\n",
    "    elif sel == 2:\n",
    "        p = re.compile(rb'[0-f9a-f]{64}', re.IGNORECASE | re.MULTILINE) #이더리움 개인키\n",
    "    elif sel == 3:\n",
    "        p = re.compile(rb'0x[a-fA-F0-9]{40}', re.IGNORECASE | re.MULTILINE) #이더리움 키스토어\n",
    "    elif sel == 4:\n",
    "        p = re.compile(rb'[a-z]+\\s[a-z]+\\s[a-z]+\\s[a-z]+\\s[a-z]+\\s[a-z]+\\s[a-z]+\\s[a-z]+\\s[a-z]+\\s[a-z]+\\s[a-z]+\\s[a-z]+\\s', re.IGNORECASE | re.MULTILINE) # 나모닉 코드\n",
    "    else:\n",
    "        print(\"another artifacts?\")\n",
    "    print(\"============ Next Step ============\")\n",
    "    with open(path, 'rb') as file, mmap(file.fileno(), length=0, access=ACCESS_READ) as mm:\n",
    "        b=type(mm)\n",
    "        print(b)\n",
    "        f = open('ethereum_address_scan.csv', mode='w')\n",
    "        #f = open('bitcoin_address_scan.csv', mode='w')\n",
    "        #f = open('mnemonic_scan.csv', mode='w')\n",
    "        f.write(\"address\" + \"\\n\")\n",
    "        f.close()\n",
    "        for match in p.finditer(mm):\n",
    "            s = match.start()\n",
    "            e = match.end()\n",
    "            grep_match_found = mm[s:e].decode(\"utf-8\")\n",
    "            address = str(grep_match_found)\n",
    "            #여기서 부터 address 한줄 씩 받아서 검증 및 중복값 제거\n",
    "            apikey = \"WP3JPWBB21D6JRN1AVIE451N4H5YVTJN4M\" \n",
    "            URL = f\"https://api.etherscan.io/api?module=account&action=txlist&apikey={apikey}&sort=desc&address={address}\"\n",
    "            if address in URL:\n",
    "                print(URL)\n",
    "                headers = {'User-Agent': 'Mozilla/5.0'} # header 선언, http 요청 브라우저는 Mozilla.\n",
    "                resp = requests.get(URL).json() # http get 요청을 resp 변수에 json 형태로 선언    \n",
    "                for key, value in resp.items():  # apikey error test\n",
    "                    if value == \"1\":\n",
    "                        print(\"api status : {}\".format(resp[\"message\"]))\n",
    "                        data = resp[\"result\"] # result 결과인 value만 변수에 담기\n",
    "                        #print(data[0])\n",
    "                        valid_address = data[0].get('to')\n",
    "                    else:\n",
    "                        exit()\n",
    "                else:\n",
    "                    exit()\n",
    "            f = open('ethereum_address_scan.csv', mode='+a')\n",
    "            #f = open('mnemonic_scan.csv', mode='+a')\n",
    "            f.write(valid_address + \"\\n\")\n",
    "            print(valid_address)\n",
    "        f.close()\n",
    "    file.close()\n",
    "    mm.close()\n",
    "\n",
    "def export_address():\n",
    "    \n",
    "\n",
    "if __name__ == '__main__':\n",
    "    menu = (\"address\", \"private key\", \"keystore\", \"mnemonic code\")\n",
    "    #number = (1, 2, 3, 4)\n",
    "    #money = 0\n",
    "    #money = int( input(\"돈을 투입하세요 : \") )\n",
    "    while True:\n",
    "        showmenu()\n",
    "        sel = int(input(\"Choose Menu number (Exit 0) : \"))\n",
    "        if sel == 0:\n",
    "            break\n",
    "        elif(sel>=1 and sel <= len(menu)):\n",
    "            #transactions(\"\")\n",
    "            artifacts()\n",
    "            print (\"transaction result print\")\n",
    "            sel1 = str(input(\"[*] Do you want to continue searching? : 'if you enter 'no' and quit process\"))\n",
    "            if sel1 == \"no\":\n",
    "                break\n",
    "            elif sel1 == \"yes\":\n",
    "                print (\"keep going\")\n",
    "                artifacts()\n",
    "            else : \n",
    "                print (\"quit\")\n",
    "        else:\n",
    "            print(\"잘못된 메뉴 번호입니다.\")\n",
    "    print (\"complete search\")\n",
    "\n",
    "# H:\\mem_dump\\memdump_C_210504.mem\n",
    "# H:\\mem_dump\\memdump_A_210524.mem\n",
    "# /mnt/h/mem_dump/memdump_C_210504.mem\n",
    "# /mnt/h/mem_dump/memdump_A_210512.mem\n",
    "#0x9ae08d0118e105dce648a7fba6fc12b2c3e9c288"
   ]
  },
  {
   "cell_type": "markdown",
   "id": "50c16725",
   "metadata": {},
   "source": [
    "\n",
    "## 백업 (주피터 노트북 사용 시)"
   ]
  },
  {
   "cell_type": "code",
   "execution_count": null,
   "id": "83bd514b",
   "metadata": {},
   "outputs": [],
   "source": [
    "import struct\n",
    "import re\n",
    "import os\n",
    "from mmap import ACCESS_READ, mmap\n",
    "import pandas as pd\n",
    "from pandas import Series, DataFrame\n",
    "\n",
    "path = input(\"write full path: \")\n",
    "try:\n",
    "    handle = open(path, 'rb+')\n",
    "except IOError:\n",
    "    print('IOError : File path is invalid')\n",
    "    sys.exit()\n",
    "\n",
    "print(path)\n",
    "\n",
    "global df\n",
    "global count\n",
    "global address\n",
    "df = DataFrame(columns=['address'])\n",
    "#count = 1000000000\n",
    "\n",
    "\n",
    "#p = re.compile(rb'0x[a-fA-F0-9]{40}$', re.DOTALL | re.IGNORECASE | re.MULTILINE)\n",
    "p = re.compile(rb'0x[a-fA-F0-9]{40}', re.IGNORECASE | re.MULTILINE)\n",
    "\n",
    "with open(path, 'rb') as file, mmap(file.fileno(), length=0, access=ACCESS_READ) as mm:\n",
    "    #print(mm[0:42])\n",
    "    b=type(mm)\n",
    "    print(b)\n",
    "    f = open('ethereum_address_scan.txt', mode='w')\n",
    "    f.write(\"addr\" + \"\\n\")\n",
    "    f.close()\n",
    "    for match in p.finditer(mm):\n",
    "        s = match.start()\n",
    "        e = match.end()\n",
    "        grep_match_found = mm[s:e].decode(\"utf-8\")\n",
    "        address = str(grep_match_found)\n",
    "        f = open('ethereum_address_scan.txt', mode='+a')\n",
    "        f.write(address)\n",
    "        print(address)\n",
    "        '''# 주피터 노트북 데이터프레임 사용 시\n",
    "        if s:\n",
    "            df = df.append(DataFrame([address], columns=['address']))\n",
    "            df\n",
    "            df.to_csv('ethereum_address_scan.csv')    \n",
    "        elif e:\n",
    "            print(\"finish\")\n",
    "            f.close()\n",
    "        else:\n",
    "            f.close()\n",
    "            break\n",
    "        '''\n",
    "        #g = match.group()\n",
    "        #grep_match_found = mm[g].decode(\"utf-8\")\n",
    "        #print(\"match_found : \", match.group())\n",
    "    print(\"-----result-----\")\n",
    "    f.close()\n",
    "    df\n",
    "file.close()\n",
    "mm.close()\n",
    "    \n",
    "# H:\\mem_dump\\memdump_C_210504.mem\n",
    "# H:\\mem_dump\\memdump_A_210524.mem\n",
    "# /mnt/h/mem_dump/memdump_C_210504.mem\n",
    "# /mnt/h/mem_dump/memdump_A_210512.mem\n",
    "#0x9ae08d0118e105dce648a7fba6fc12b2c3e9c288"
   ]
  },
  {
   "cell_type": "code",
   "execution_count": 1,
   "id": "3bd9a05e",
   "metadata": {},
   "outputs": [
    {
     "data": {
      "text/plain": [
       "'little'"
      ]
     },
     "execution_count": 1,
     "metadata": {},
     "output_type": "execute_result"
    }
   ],
   "source": [
    "import sys\n",
    "\n",
    "sys.byteorder"
   ]
  },
  {
   "cell_type": "markdown",
   "id": "04411217",
   "metadata": {},
   "source": [
    "### 메모리 덤프에서 csv로 추출된 이더리움 주소 정규표현식에 해당하는 데이터 개수"
   ]
  },
  {
   "cell_type": "code",
   "execution_count": 3,
   "id": "f4417fce",
   "metadata": {},
   "outputs": [
    {
     "name": "stdout",
     "output_type": "stream",
     "text": [
      "['F:\\\\ethereum_forensic\\\\ethereum_address_scan']\n",
      "F:\\ethereum_forensic\\ethereum_address_scan 111758\n"
     ]
    }
   ],
   "source": [
    "# csv 행 수 출력하기\n",
    "# https://why2why.tistory.com/116\n",
    "\n",
    "import pandas as pd\n",
    "import os\n",
    "\n",
    "fpath = 'F:\\\\ethereum_forensic\\\\'\n",
    "fall = os.listdir(fpath)\n",
    "fcsv = [fpath + file[:-4] for file in fall if file.endswith('ethereum_address_scan.csv')]\n",
    "#fcsv = 'ethereum_address_scan.csv'\n",
    "print(fcsv)\n",
    "\n",
    "for file in fcsv:\n",
    "    df = pd.read_csv(file + '.csv')\n",
    "    print(file, len(df))\n",
    "    \n"
   ]
  },
  {
   "cell_type": "markdown",
   "id": "f42f8fb5",
   "metadata": {},
   "source": [
    "### cryptoaddress : 암호화폐 주소 검증 파이썬 라이브러리를 통해 이더리움 주소 유효성 검증 진행\n",
    "#### https://pypi.org/project/cryptoaddress/"
   ]
  },
  {
   "cell_type": "code",
   "execution_count": 2,
   "id": "3f15b0dc",
   "metadata": {
    "scrolled": true
   },
   "outputs": [
    {
     "name": "stdout",
     "output_type": "stream",
     "text": [
      "Defaulting to user installation because normal site-packages is not writeable\n",
      "Collecting cryptoaddress\n",
      "  Using cached cryptoaddress-0.2.1-py3-none-any.whl (6.5 kB)\n",
      "Requirement already satisfied: pysha3 in c:\\program files\\python39\\lib\\site-packages (from cryptoaddress) (1.0.2)\n",
      "Installing collected packages: cryptoaddress\n",
      "Successfully installed cryptoaddress-0.2.1\n"
     ]
    }
   ],
   "source": [
    "! pip install cryptoaddress"
   ]
  },
  {
   "cell_type": "code",
   "execution_count": 3,
   "id": "c03d4eb2",
   "metadata": {},
   "outputs": [
    {
     "name": "stdout",
     "output_type": "stream",
     "text": [
      "The address \"0x9ae08d0118e105dce648a7fba6fc12b2c3e9c288\" is valid.\n"
     ]
    }
   ],
   "source": [
    "from cryptoaddress import get_crypto_address\n",
    "\n",
    "try:\n",
    "    bitcoin_address = get_crypto_address('ETH', '0x9ae08d0118e105dce648a7fba6fc12b2c3e9c288')\n",
    "    print('The address \"%s\" is valid.' % str(bitcoin_address))\n",
    "except ValueError:\n",
    "    print('The address is invalid.')\n",
    "\n",
    "# Prints 'The address \"17VZNX1SN5NtKa8UQFxwQbFeFc3iqRYhem\" is valid.'"
   ]
  },
  {
   "cell_type": "code",
   "execution_count": 1,
   "id": "e7684f16",
   "metadata": {},
   "outputs": [
    {
     "data": {
      "text/plain": [
       "\"import csv\\n\\ndatafile = open('F:\\\\ethereum_forensic\\\\ethereum_address_scan.csv','r')\\n\\ndatafile_read = csv.reader(datafile)\\nfor line in datafile_read:\\n    print(line)\\n\\ndatafile.close()\\n\""
      ]
     },
     "execution_count": 1,
     "metadata": {},
     "output_type": "execute_result"
    }
   ],
   "source": [
    "'''import csv\n",
    "\n",
    "datafile = open('F:\\\\ethereum_forensic\\\\ethereum_address_scan.csv','r')\n",
    "\n",
    "datafile_read = csv.reader(datafile)\n",
    "for line in datafile_read:\n",
    "    print(line)\n",
    "\n",
    "datafile.close()\n",
    "'''"
   ]
  },
  {
   "cell_type": "code",
   "execution_count": 4,
   "id": "23d81d93",
   "metadata": {},
   "outputs": [
    {
     "ename": "FileNotFoundError",
     "evalue": "[Errno 2] No such file or directory: 'F:\\\\ethereum_forensic\\\\ethereum_address_scan.csv'",
     "output_type": "error",
     "traceback": [
      "\u001b[1;31m---------------------------------------------------------------------------\u001b[0m",
      "\u001b[1;31mFileNotFoundError\u001b[0m                         Traceback (most recent call last)",
      "\u001b[1;32m~\\AppData\\Local\\Temp/ipykernel_33452/494733353.py\u001b[0m in \u001b[0;36m<module>\u001b[1;34m\u001b[0m\n\u001b[0;32m      5\u001b[0m \u001b[1;31m#new_file = open('ethereum_address_scan_v2.csv', 'w', newline='')\u001b[0m\u001b[1;33m\u001b[0m\u001b[1;33m\u001b[0m\u001b[1;33m\u001b[0m\u001b[0m\n\u001b[0;32m      6\u001b[0m \u001b[1;31m#datafile_read = csv.reader(datafile)\u001b[0m\u001b[1;33m\u001b[0m\u001b[1;33m\u001b[0m\u001b[1;33m\u001b[0m\u001b[0m\n\u001b[1;32m----> 7\u001b[1;33m \u001b[1;32mwith\u001b[0m \u001b[0mopen\u001b[0m\u001b[1;33m(\u001b[0m\u001b[1;34m'F:\\\\ethereum_forensic\\\\ethereum_address_scan.csv'\u001b[0m\u001b[1;33m,\u001b[0m \u001b[1;34m'r'\u001b[0m\u001b[1;33m)\u001b[0m \u001b[1;32mas\u001b[0m \u001b[0mf\u001b[0m\u001b[1;33m:\u001b[0m\u001b[1;33m\u001b[0m\u001b[1;33m\u001b[0m\u001b[0m\n\u001b[0m\u001b[0;32m      8\u001b[0m     \u001b[1;32mwhile\u001b[0m \u001b[0mf\u001b[0m\u001b[1;33m:\u001b[0m\u001b[1;33m\u001b[0m\u001b[1;33m\u001b[0m\u001b[0m\n\u001b[0;32m      9\u001b[0m         \u001b[0mline\u001b[0m \u001b[1;33m=\u001b[0m \u001b[0mf\u001b[0m\u001b[1;33m.\u001b[0m\u001b[0mreadline\u001b[0m\u001b[1;33m(\u001b[0m\u001b[1;33m)\u001b[0m\u001b[1;33m\u001b[0m\u001b[1;33m\u001b[0m\u001b[0m\n",
      "\u001b[1;31mFileNotFoundError\u001b[0m: [Errno 2] No such file or directory: 'F:\\\\ethereum_forensic\\\\ethereum_address_scan.csv'"
     ]
    }
   ],
   "source": [
    "from cryptoaddress import get_crypto_address\n",
    "import csv\n",
    "\n",
    "#datafile = open('F:\\\\ethereum_forensic\\\\ethereum_address_scan.csv','r')\n",
    "#new_file = open('ethereum_address_scan_v2.csv', 'w', newline='')\n",
    "#datafile_read = csv.reader(datafile)\n",
    "with open('F:\\\\ethereum_forensic\\\\ethereum_address_scan.csv', 'r') as f:\n",
    "    while f:\n",
    "        line = f.readline()\n",
    "        #print(line)\n",
    "        try:\n",
    "            ethereum_address = get_crypto_address('ETH', line)     \n",
    "            #writeresult= csv.writer(new_file)\n",
    "            print('The address \"%s\" is valid.' % str(ethereum_address))\n",
    "        except ValueError:\n",
    "            #print('The address \"%s\" is invalid.' % str(ethereum_address))\n",
    "            pass\n",
    "\n",
    "#atafile.close()\n",
    "# Prints 'The address \"17VZNX1SN5NtKa8UQFxwQbFeFc3iqRYhem\" is valid.'"
   ]
  },
  {
   "cell_type": "markdown",
   "id": "8cacff23",
   "metadata": {},
   "source": [
    "### 이더리움 주소 2차 검증 - etherscan.io 크롤링 및 주소 유효성 여부 확인, 트랜잭션이 발생한 주소에 한하여 추출"
   ]
  },
  {
   "cell_type": "code",
   "execution_count": 1,
   "id": "54933b9b",
   "metadata": {},
   "outputs": [
    {
     "name": "stdout",
     "output_type": "stream",
     "text": [
      "\n",
      "[Cryptocurrency address search choose menu]\n",
      "1 . normal transaction\n",
      "2 . internal transaction\n",
      "3 . token\n",
      "\n",
      "Choose Menu number (Exit 0) : 1\n",
      "Search by Address : 0x859a9C0b44cb7066D956a958B0b82e54C9e44b4B\n",
      "============ Next Step ============ \n",
      "https://api.etherscan.io/api?module=account&action=txlist&apikey=WP3JPWBB21D6JRN1AVIE451N4H5YVTJN4M&sort=desc&address=0x859a9c0b44cb7066d956a958b0b82e54c9e44b4b\n",
      "api status : OK\n",
      "{'blockNumber': '15409950', 'timeStamp': '1661442233', 'hash': '0xb914ec98636d0b03f57bb64db8950d8fc585e7f58d48da1d4b1669d4a877ed9f', 'nonce': '1', 'blockHash': '0x497728e9328c5298ab7d0eab118dd46dc67728078122ff2192cc7f4a4d1cd213', 'transactionIndex': '7', 'from': '0x5b6f331291a5517d6cc29181ffcc514207bbc755', 'to': '0x859a9c0b44cb7066d956a958b0b82e54c9e44b4b', 'value': '0', 'gas': '51595', 'gasPrice': '17928980007', 'isError': '0', 'txreceipt_status': '1', 'input': '0xa9059cbb000000000000000000000000c128010d5dab1473c3e4dd40617d62914b3bd9830000000000000000000000000000000000000000000000000000001176592e00', 'contractAddress': '', 'cumulativeGasUsed': '869463', 'gasUsed': '34397', 'confirmations': '143', 'methodId': '0xa9059cbb', 'functionName': 'transfer(address _to, uint256 _value)'}\n",
      "0x859a9c0b44cb7066d956a958b0b82e54c9e44b4b\n",
      "transaction result print\n",
      "[*] Do you want to continue searching? : 'if you enter 'no' and quit processno\n",
      "complete search\n"
     ]
    }
   ],
   "source": [
    "import os\n",
    "import datetime\n",
    "import requests\n",
    "#current_time = print(\"%02d%02d%02d_%02d_%02d\" %(now.tm_year, now.tm_mon, now.tm_mday, now.tm_hour, now.tm_min))\n",
    "now = datetime.datetime.now()\n",
    "nowDate = now.strftime('%Y-%m-%d_%H_%M_%S')\n",
    "apikey = \"WP3JPWBB21D6JRN1AVIE451N4H5YVTJN4M\" \n",
    "\n",
    "def showmenu():  # 메뉴 선택 함수\n",
    "    print()\n",
    "    print(\"[Cryptocurrency address search choose menu]\")\n",
    "    for i in range(0, len(menu)):\n",
    "        print(i+1, \".\", menu[i])\n",
    "    print()\n",
    "\n",
    "def transactions(ethaddr):  # 함수선언 주소 검색 결과 json 데이터에서 result 결과인 value에 대해 data 변수에 담기\n",
    "    global data, addr\n",
    "    addr = input(\"Search by Address : \").lower() # ethereum 주소를 입력받고 소문자 치환\n",
    "    if sel == 1: # normal transaction\n",
    "        URL = f\"https://api.etherscan.io/api?module=account&action=txlist&apikey={apikey}&sort=desc&address={addr}\"\n",
    "    elif sel == 2: # Internal Transaction\n",
    "        URL = f\"https://api.etherscan.io/api?module=account&action=txlistinternal&address={addr}&startblock=0&sort=asc&apikey={apikey}\"\n",
    "    elif sel == 3: # token\n",
    "        URL = f\"https://api.etherscan.io/api?module=token&action=tokeninfo&contractaddress={addr}&apikey={apikey}\"\n",
    "    else:\n",
    "        print(\"research?\")\n",
    "    print(\"============ Next Step ============ \")\n",
    "    if addr in URL:\n",
    "        print(URL)\n",
    "        headers = {'User-Agent': 'Mozilla/5.0'} # header 선언, http 요청 브라우저는 Mozilla.\n",
    "        resp = requests.get(URL).json() # http get 요청을 resp 변수에 json 형태로 선언    \n",
    "        for key, value in resp.items():  # apikey error test\n",
    "            if value == \"1\":\n",
    "                print(\"api status : {}\".format(resp[\"message\"]))\n",
    "                data = resp[\"result\"] # result 결과인 value만 변수에 담아 리스트화\n",
    "                print(data[0]) #data 리스트의 0 요소 출력\n",
    "                print(data[0].get('to')) # 딕셔너리의 특정 값 반환\n",
    "            else:\n",
    "                exit()\n",
    "    else:\n",
    "        exit()\n",
    "        \n",
    "if __name__ == '__main__':\n",
    "    menu = (\"normal transaction\", \"internal transaction\", \"token\")\n",
    "    #number = (1, 2, 3, 4)\n",
    "    #money = 0\n",
    "    #money = int( input(\"돈을 투입하세요 : \") )\n",
    "    while True:\n",
    "        showmenu()\n",
    "        sel = int(input(\"Choose Menu number (Exit 0) : \"))\n",
    "        if sel == 0:\n",
    "            break\n",
    "        elif(sel>=1 and sel <= len(menu)):\n",
    "            #transactions(\"\")\n",
    "            transactions(\"\")\n",
    "            print (\"transaction result print\")\n",
    "            sel1 = str(input(\"[*] Do you want to continue searching? : 'if you enter 'no' and quit process\"))\n",
    "            if sel1 == \"no\":\n",
    "                break\n",
    "            elif sel1 == \"yes\":\n",
    "                print (\"keep going\")\n",
    "                transactions(\"\")\n",
    "                \"\"\"for x in sel1:\n",
    "                    print (sel1)\n",
    "                    if x == \"no\":\n",
    "                        break\n",
    "                    elif x == sel1:\n",
    "                        sel1 = str(input(\"[*] Do you want to continue searching? : \"))\n",
    "                        eth_search(\"\")\n",
    "                        dataframe()\n",
    "                    else:\n",
    "                        print(\"quit\")\"\"\"\n",
    "            else : \n",
    "                print (\"quit\")\n",
    "        else:\n",
    "            print(\"잘못된 메뉴 번호입니다.\")\n",
    "    print (\"complete search\")\n",
    "    \n",
    "#0x859a9C0b44cb7066D956a958B0b82e54C9e44b4B"
   ]
  },
  {
   "cell_type": "code",
   "execution_count": null,
   "id": "1333798c",
   "metadata": {},
   "outputs": [],
   "source": []
  },
  {
   "cell_type": "markdown",
   "id": "27120ba2",
   "metadata": {},
   "source": [
    "### 메모리 덤프에서 개인키 추출하기"
   ]
  },
  {
   "cell_type": "code",
   "execution_count": null,
   "id": "56fb5e19",
   "metadata": {},
   "outputs": [],
   "source": []
  },
  {
   "cell_type": "markdown",
   "id": "1d45a2a3",
   "metadata": {},
   "source": [
    "### 메모리 덤프에서 키스토어 추출하기"
   ]
  },
  {
   "cell_type": "code",
   "execution_count": null,
   "id": "034e2056",
   "metadata": {},
   "outputs": [],
   "source": []
  },
  {
   "cell_type": "markdown",
   "id": "91bdd9c5",
   "metadata": {},
   "source": [
    "### 메모리 덤프에서 니모닉 코드 추출하기"
   ]
  },
  {
   "cell_type": "code",
   "execution_count": null,
   "id": "1a4c947c",
   "metadata": {},
   "outputs": [],
   "source": []
  },
  {
   "cell_type": "markdown",
   "id": "471cf914",
   "metadata": {},
   "source": [
    "### 주소/개인키/키스토어/니모닉코드 추출 -> 학회 논문\n",
    "### 주소/개인키/키스토어/니모닉코드 추출 및 웹 UI 구현, 시각화 표현 -> 학위논문 (다크웹 포함)\n"
   ]
  },
  {
   "cell_type": "markdown",
   "id": "2b6c4c2b",
   "metadata": {},
   "source": [
    "## 22.08.26 백업 (주소 검증 완료)"
   ]
  },
  {
   "cell_type": "code",
   "execution_count": null,
   "id": "5760c40e",
   "metadata": {},
   "outputs": [],
   "source": [
    "import struct\n",
    "import re\n",
    "import os\n",
    "import requests\n",
    "from mmap import ACCESS_READ, mmap\n",
    "\n",
    "global valid_address\n",
    "path = input(\"write full path: \")\n",
    "try:\n",
    "    handle = open(path, 'rb+')\n",
    "except IOError:\n",
    "    print('IOError : File path is invalid')\n",
    "    sys.exit()\n",
    "print(path)\n",
    "\n",
    "def showmenu():  # 메뉴 선택 함수\n",
    "    print()\n",
    "    print(\"[Ethereum Aritifacts search choose menu]\")\n",
    "    for i in range(0, len(menu)):\n",
    "        print(i+1, \".\", menu[i])\n",
    "    print()\n",
    "    \n",
    "def artifacts():\n",
    "    if sel == 1:\n",
    "        p = re.compile(rb'0x[a-fA-F0-9]{40}', re.IGNORECASE | re.MULTILINE) #이더리움 주소\n",
    "    elif sel == 2:\n",
    "        p = re.compile(rb'[0-f9a-f]{64}', re.IGNORECASE | re.MULTILINE) #이더리움 개인키\n",
    "    elif sel == 3:\n",
    "        p = re.compile(rb'0x[a-fA-F0-9]{40}', re.IGNORECASE | re.MULTILINE) #이더리움 키스토어\n",
    "    elif sel == 4:\n",
    "        p = re.compile(rb'[a-z]+\\s[a-z]+\\s[a-z]+\\s[a-z]+\\s[a-z]+\\s[a-z]+\\s[a-z]+\\s[a-z]+\\s[a-z]+\\s[a-z]+\\s[a-z]+\\s[a-z]+\\s', re.IGNORECASE | re.MULTILINE) # 나모닉 코드\n",
    "    else:\n",
    "        print(\"another artifacts?\")\n",
    "    print(\"============ Next Step ============\")\n",
    "    with open(path, 'rb') as file, mmap(file.fileno(), length=0, access=ACCESS_READ) as mm:\n",
    "        b=type(mm)\n",
    "        print(b)\n",
    "        f = open('ethereum_address_scan.csv', mode='w')\n",
    "        #f = open('bitcoin_address_scan.csv', mode='w')\n",
    "        #f = open('mnemonic_scan.csv', mode='w')\n",
    "        f.write(\"address\" + \"\\n\")\n",
    "        f.close()\n",
    "        for match in p.finditer(mm):\n",
    "            s = match.start()\n",
    "            e = match.end()\n",
    "            grep_match_found = mm[s:e].decode(\"utf-8\")\n",
    "            address = str(grep_match_found)\n",
    "            #여기서 부터 address 한줄 씩 받아서 검증 및 중복값 제거\n",
    "            apikey = \"WP3JPWBB21D6JRN1AVIE451N4H5YVTJN4M\" \n",
    "            URL = f\"https://api.etherscan.io/api?module=account&action=txlist&apikey={apikey}&sort=desc&address={address}\"\n",
    "            if address in URL:\n",
    "                print(URL)\n",
    "                headers = {'User-Agent': 'Mozilla/5.0'} # header 선언, http 요청 브라우저는 Mozilla.\n",
    "                resp = requests.get(URL).json() # http get 요청을 resp 변수에 json 형태로 선언    \n",
    "                for key, value in resp.items():  # apikey error test\n",
    "                    if value == \"1\":\n",
    "                        print(\"api status : {}\".format(resp[\"message\"]))\n",
    "                        data = resp[\"result\"] # result 결과인 value만 변수에 담기\n",
    "                        #print(data[0])\n",
    "                        valid_address = data[0].get('to')\n",
    "                    else:\n",
    "                        exit()\n",
    "                else:\n",
    "                    exit()\n",
    "            f = open('ethereum_address_scan.csv', mode='+a')\n",
    "            #f = open('mnemonic_scan.csv', mode='+a')\n",
    "            f.write(valid_address + \"\\n\")\n",
    "            print(valid_address)\n",
    "        f.close()\n",
    "    file.close()\n",
    "    mm.close()\n",
    "\n",
    "def export_address():\n",
    "    \n",
    "\n",
    "if __name__ == '__main__':\n",
    "    menu = (\"address\", \"private key\", \"keystore\", \"mnemonic code\")\n",
    "    #number = (1, 2, 3, 4)\n",
    "    #money = 0\n",
    "    #money = int( input(\"돈을 투입하세요 : \") )\n",
    "    while True:\n",
    "        showmenu()\n",
    "        sel = int(input(\"Choose Menu number (Exit 0) : \"))\n",
    "        if sel == 0:\n",
    "            break\n",
    "        elif(sel>=1 and sel <= len(menu)):\n",
    "            #transactions(\"\")\n",
    "            artifacts()\n",
    "            print (\"transaction result print\")\n",
    "            sel1 = str(input(\"[*] Do you want to continue searching? : 'if you enter 'no' and quit process\"))\n",
    "            if sel1 == \"no\":\n",
    "                break\n",
    "            elif sel1 == \"yes\":\n",
    "                print (\"keep going\")\n",
    "                artifacts()\n",
    "            else : \n",
    "                print (\"quit\")\n",
    "        else:\n",
    "            print(\"잘못된 메뉴 번호입니다.\")\n",
    "    print (\"complete search\")\n",
    "\n",
    "# H:\\mem_dump\\memdump_C_210504.mem\n",
    "# H:\\mem_dump\\memdump_A_210524.mem\n",
    "# /mnt/h/mem_dump/memdump_C_210504.mem\n",
    "# /mnt/h/mem_dump/memdump_A_210512.mem\n",
    "#0x9ae08d0118e105dce648a7fba6fc12b2c3e9c288"
   ]
  }
 ],
 "metadata": {
  "kernelspec": {
   "display_name": "Python 3 (ipykernel)",
   "language": "python",
   "name": "python3"
  },
  "language_info": {
   "codemirror_mode": {
    "name": "ipython",
    "version": 3
   },
   "file_extension": ".py",
   "mimetype": "text/x-python",
   "name": "python",
   "nbconvert_exporter": "python",
   "pygments_lexer": "ipython3",
   "version": "3.9.4"
  }
 },
 "nbformat": 4,
 "nbformat_minor": 5
}

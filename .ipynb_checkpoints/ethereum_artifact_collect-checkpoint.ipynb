{
 "cells": [
  {
   "cell_type": "markdown",
   "id": "a58fe2af",
   "metadata": {},
   "source": [
    " ## pandas 설정"
   ]
  },
  {
   "cell_type": "code",
   "execution_count": 1,
   "id": "5d4ed0da",
   "metadata": {
    "scrolled": true
   },
   "outputs": [
    {
     "name": "stdout",
     "output_type": "stream",
     "text": [
      "pandas version:  1.4.1\n"
     ]
    },
    {
     "name": "stderr",
     "output_type": "stream",
     "text": [
      "C:\\Users\\karas\\AppData\\Local\\Temp/ipykernel_13728/2241320340.py:10: FutureWarning: Passing a negative integer is deprecated in version 1.0 and will not be supported in future version. Instead, use None to not limit the column width.\n",
      "  pd.set_option('display.max_colwidth', -1)\n"
     ]
    }
   ],
   "source": [
    "import pandas as pd\n",
    "print(\"pandas version: \", pd.__version__)\n",
    "#pd.set_option('display.max_row', 1000000)\n",
    "pd.set_option('display.max_rows', None)\n",
    "#pd.set_option('display.max_columns', 1000)\n",
    "pd.set_option('display.max_columns', None)\n",
    "pd.set_option('display.width', 1000000)\n",
    "pd.set_option('display.max_seq_items', None)\n",
    "#pd.set_option('display.height', 1000)\n",
    "pd.set_option('display.max_colwidth', -1)"
   ]
  },
  {
   "cell_type": "code",
   "execution_count": 1,
   "id": "5ef4c9a2",
   "metadata": {},
   "outputs": [
    {
     "name": "stderr",
     "output_type": "stream",
     "text": [
      "C:\\Users\\karas\\AppData\\Local\\Temp\\ipykernel_5412\\2126364666.py:2: DeprecationWarning: Importing display from IPython.core.display is deprecated since IPython 7.14, please import from IPython display\n",
      "  from IPython.core.display import display, HTML\n"
     ]
    },
    {
     "data": {
      "text/html": [
       "<style>.container { width:99% !important; }</style>"
      ],
      "text/plain": [
       "<IPython.core.display.HTML object>"
      ]
     },
     "metadata": {},
     "output_type": "display_data"
    }
   ],
   "source": [
    "#jupyter 넓이 늘리기\n",
    "from IPython.core.display import display, HTML\n",
    "display(HTML(\"<style>.container { width:99% !important; }</style>\"))"
   ]
  },
  {
   "cell_type": "code",
   "execution_count": 2,
   "id": "2fe0a0ee",
   "metadata": {},
   "outputs": [
    {
     "name": "stdout",
     "output_type": "stream",
     "text": [
      "Collecting numpy\n",
      "  Downloading numpy-1.23.3-cp310-cp310-win_amd64.whl (14.6 MB)\n",
      "     ---------------------------------------- 14.6/14.6 MB 3.7 MB/s eta 0:00:00\n",
      "Installing collected packages: numpy\n",
      "Successfully installed numpy-1.23.3\n"
     ]
    }
   ],
   "source": [
    "!pip install numpy"
   ]
  },
  {
   "cell_type": "code",
   "execution_count": 5,
   "id": "a11722d6",
   "metadata": {},
   "outputs": [
    {
     "name": "stdout",
     "output_type": "stream",
     "text": [
      "write full path: G:\\내 드라이브\\mem_dump\\memdump.mem\n",
      "G:\\내 드라이브\\mem_dump\\memdump.mem\n",
      "\n",
      "[Ethereum Aritifacts search choose menu]\n",
      "1 . address\n",
      "2 . private key\n",
      "3 . keystore\n",
      "4 . mnemonic code(12)\n",
      "5 . mnemonic code(24)\n",
      "\n",
      "Choose Menu number (Exit 0) : 4\n",
      "============ Next Step ============\n",
      "1차 검색 완료 emory was accessed during this time that was not properly marked\n",
      "for\n"
     ]
    },
    {
     "ename": "NameError",
     "evalue": "name 'mnemonic_file' is not defined",
     "output_type": "error",
     "traceback": [
      "\u001b[1;31m---------------------------------------------------------------------------\u001b[0m",
      "\u001b[1;31mNameError\u001b[0m                                 Traceback (most recent call last)",
      "Cell \u001b[1;32mIn [5], line 134\u001b[0m\n\u001b[0;32m    131\u001b[0m     \u001b[38;5;28;01mbreak\u001b[39;00m\n\u001b[0;32m    132\u001b[0m \u001b[38;5;28;01melif\u001b[39;00m(sel\u001b[38;5;241m>\u001b[39m\u001b[38;5;241m=\u001b[39m\u001b[38;5;241m1\u001b[39m \u001b[38;5;129;01mand\u001b[39;00m sel \u001b[38;5;241m<\u001b[39m\u001b[38;5;241m=\u001b[39m \u001b[38;5;28mlen\u001b[39m(menu)):\n\u001b[0;32m    133\u001b[0m     \u001b[38;5;66;03m#transactions(\"\")\u001b[39;00m\n\u001b[1;32m--> 134\u001b[0m     \u001b[43martifacts\u001b[49m\u001b[43m(\u001b[49m\u001b[43m)\u001b[49m\n\u001b[0;32m    135\u001b[0m     \u001b[38;5;28mprint\u001b[39m (\u001b[38;5;124m\"\u001b[39m\u001b[38;5;124mtransaction result print\u001b[39m\u001b[38;5;124m\"\u001b[39m)\n\u001b[0;32m    136\u001b[0m     sel1 \u001b[38;5;241m=\u001b[39m \u001b[38;5;28mstr\u001b[39m(\u001b[38;5;28minput\u001b[39m(\u001b[38;5;124m\"\u001b[39m\u001b[38;5;124m[*] Do you want to continue searching? if you enter \u001b[39m\u001b[38;5;124m'\u001b[39m\u001b[38;5;124mno\u001b[39m\u001b[38;5;124m'\u001b[39m\u001b[38;5;124m, quit process : \u001b[39m\u001b[38;5;124m\"\u001b[39m))\n",
      "Cell \u001b[1;32mIn [5], line 104\u001b[0m, in \u001b[0;36martifacts\u001b[1;34m()\u001b[0m\n\u001b[0;32m    101\u001b[0m                 flag \u001b[38;5;241m=\u001b[39m \u001b[38;5;28;01mFalse\u001b[39;00m\n\u001b[0;32m    102\u001b[0m                 \u001b[38;5;66;03m#print(\"not matching\")\u001b[39;00m\n\u001b[0;32m    103\u001b[0m             \u001b[38;5;66;03m#line = mnemonic_file.readline()\u001b[39;00m\n\u001b[1;32m--> 104\u001b[0m             \u001b[43mmnemonic_file\u001b[49m\u001b[38;5;241m.\u001b[39mclose()                              \n\u001b[0;32m    105\u001b[0m file\u001b[38;5;241m.\u001b[39mclose()\n\u001b[0;32m    106\u001b[0m mm\u001b[38;5;241m.\u001b[39mclose()\n",
      "\u001b[1;31mNameError\u001b[0m: name 'mnemonic_file' is not defined"
     ]
    }
   ],
   "source": [
    "# import struct\n",
    "import re\n",
    "import os\n",
    "import csv\n",
    "import datetime\n",
    "import requests\n",
    "import numpy as np\n",
    "from mmap import ACCESS_READ, mmap\n",
    "\n",
    "now = datetime.datetime.now()\n",
    "nowDate = now.strftime('%Y-%m-%d')\n",
    "#nowDate = now.strftime('%Y-%m-%d_%H_%M_%S')\n",
    "path = input(\"write full path: \")\n",
    "try:\n",
    "    handle = open(path, 'rb+')\n",
    "except IOError:\n",
    "    print('IOError : File path is invalid')\n",
    "    sys.exit()\n",
    "print(path)\n",
    "\n",
    "def showmenu():  # 메뉴 선택 함수\n",
    "    print()\n",
    "    print(\"[Ethereum Aritifacts search choose menu]\")\n",
    "    for i in range(0, len(menu)):\n",
    "        print(i+1, \".\", menu[i])\n",
    "    print()\n",
    "    \n",
    "def artifacts():\n",
    "    if sel == 1:\n",
    "        p = re.compile(rb'^0x[a-fA-F0-9]{40}', re.IGNORECASE | re.MULTILINE) #이더리움 주소, 0x[0-9A-Fa-f]{40,44}\n",
    "    elif sel == 2:\n",
    "        p = re.compile(rb'[0-9a-f]{64}', re.IGNORECASE | re.MULTILINE) #이더리움 개인키\n",
    "    elif sel == 3:\n",
    "        p = re.compile(rb'\"([address\"]*)\":\"([a-fA-F0-9]{40})\",\"([crypto\"]*)\":', re.IGNORECASE | re.MULTILINE) #이더리움 키스토어\n",
    "    elif sel == 4:\n",
    "        p = re.compile(rb'[a-z]{3,8}\\s[a-z]{3,8}\\s[a-z]{3,8}\\s[a-z]{3,8}\\s[a-z]{3,8}\\s[a-z]{3,8}\\s[a-z]{3,8}\\s[a-z]{3,8}\\s[a-z]{3,8}\\s[a-z]{3,8}\\s[a-z]{3,8}\\s[a-z]{3,8}', re.MULTILINE) # 나모닉 코드 12자리\n",
    "    elif sel == 5:\n",
    "        p = re.compile(rb'[a-z]{3,8}\\s[a-z]{3,8}\\s[a-z]{3,8}\\s[a-z]{3,8}\\s[a-z]{3,8}\\s[a-z]{3,8}\\s[a-z]{3,8}\\s[a-z]{3,8}\\s[a-z]{3,8}\\s[a-z]{3,8}\\s[a-z]{3,8}\\s[a-z]{3,8}\\s[a-z]{3,8}\\s[a-z]{3,8}\\s[a-z]{3,8}\\s[a-z]{3,8}\\s[a-z]{3,8}\\s[a-z]{3,8}\\s[a-z]{3,8}\\s[a-z]{3,8}\\s[a-z]{3,8}\\s[a-z]{3,8}\\s[a-z]{3,8}\\s[a-z]{3,8}', re.IGNORECASE | re.MULTILINE) # 나모닉 코드 24자리\n",
    "    else:\n",
    "        print(\"another artifacts?\")\n",
    "   \n",
    "    print(\"============ Next Step ============\")\n",
    "\n",
    "    with open(path, 'rb') as file, mmap(file.fileno(), length=0, access=ACCESS_READ) as mm:\n",
    "        b=type(mm)\n",
    "        #print(b)\n",
    "        for match in p.finditer(mm):\n",
    "            s = match.start()\n",
    "            e = match.end()\n",
    "            grep_match_found = mm[s:e].decode(\"utf-8\")\n",
    "            match_result = str(grep_match_found) #결과값 String\n",
    "            with open('c:\\\\temp\\\\'+f'{nowDate}'+'_match_1차_list.txt', '+a') as file:\n",
    "                if sel == 1:\n",
    "                    file.write(match_result+'\\n')\n",
    "                elif sel == 4 and len(match_result.split()) == 12:\n",
    "                    print(\"1차 검색 완료\", match_result)\n",
    "                    file.write(match_result+'\\n')\n",
    "                file.close()\n",
    "        #mm.close()\n",
    "            #여기서 부터 address 한줄 씩 받아서 검증 및 중복값 제거\n",
    "            if sel == 1:\n",
    "                apikey = \"WP3JPWBB21D6JRN1AVIE451N4H5YVTJN4M\" \n",
    "                URL = f\"https://api.etherscan.io/api?module=account&action=txlist&apikey={apikey}&sort=desc&address={match_result}\"\n",
    "                if match_result in URL:\n",
    "                    global csv_file\n",
    "                    csv_file = 'c:\\\\temp\\\\'+f'{nowDate}'+'_ethereum_address_scan_result.csv'\n",
    "                    headers = {'User-Agent': 'Mozilla/5.0'} # header 선언, http 요청 브라우저는 Mozilla.\n",
    "                    resp = requests.get(URL).json() # http get 요청을 resp 변수에 json 형태로 선언\n",
    "                    for key, value in resp.items():  # apikey error test\n",
    "                        if value == \"1\":\n",
    "                            print(URL)\n",
    "                            global api_result, ts_result, to_result, hx_result\n",
    "                            status = resp[\"message\"]\n",
    "                            data = resp[\"result\"] # result 결과인 value만 변수에 담기\n",
    "                            api_result = dict(data[0])\n",
    "                            ts_result = api_result.get('timeStamp')\n",
    "                            to_result = api_result.get('to')\n",
    "                            hx_result = api_result.get('hash')\n",
    "                            csv_print()\n",
    "                            break\n",
    "                break\n",
    "            elif sel == 2:\n",
    "                print(\"sel 2\")\n",
    "            elif sel == 3:\n",
    "                print(match_result)\n",
    "            elif sel == 4:               \n",
    "                with open(\"G:\\\\내 드라이브\\\\04 - Ethereum_study\\\\ethereum_forensic\\\\mnemonic_word.txt\",'r', encoding='UTF8') as file:\n",
    "                    text = file.read() # 니모닉 코드 단어 사전 읽기\n",
    "                    #mnemonic_file = open('c:\\\\temp\\\\'+f'{nowDate}'+'_match_1차_list.txt','r')\n",
    "                    #line = mnemonic_file.readline() # 니모닉 코드 1차 검색 결과 한줄씩\n",
    "                    if match_result in text:\n",
    "                        print(\"a\")\n",
    "                        #print(line) # 여기까지 수행.2022.09.17 새벽 2시\n",
    "                        #if line in text:\n",
    "                        flag = True\n",
    "                        print(line)\n",
    "                        with open('c:\\\\temp\\\\match_2차_list.txt', '+a') as file_second:\n",
    "                            file_second.write(line+'\\n')\n",
    "                            file_second.close()\n",
    "                    else:\n",
    "                        flag = False\n",
    "                        #print(\"not matching\")\n",
    "                    #line = mnemonic_file.readline()\n",
    "                    #mnemonic_file.close()                              \n",
    "        file.close()\n",
    "        mm.close()\n",
    "        \n",
    "def csv_print():\n",
    "    with open(csv_file, '+a', encoding='utf-8-sig') as csvfile:\n",
    "        #writer = csv.writer(csvfile, fieldnames=['timeStamp', 'to', 'hash', 'isError', 'gas', 'methodId', 'blockNumber', 'cumulativeGasUsed', 'blockHash', 'gasPrice', 'contractAddress', 'nonce', 'transactionIndex', 'confirmations', 'value', 'from', 'functionName', 'input', 'txreceipt_status', 'gasUsed'])\n",
    "        writer = csv.writer(csvfile)\n",
    "        #writer.writeheader()\n",
    "        if sel == 1:\n",
    "            writer.writerow([ts_result, to_result, hx_result])\n",
    "        elif sel == 4:\n",
    "            writer.writerow(match_mnemonic)\n",
    "\n",
    "def mnemonic_word():\n",
    "    global MNEM_LIST\n",
    "    dicfile = open(\"G:\\\\내 드라이브\\\\04 - Ethereum_study\\\\ethereum_forensic\\\\mnemonic_word.csv\",'r')\n",
    "    MNEMONIC_DIC = csv.reader(dicfile)\n",
    "    MNEM_LIST = list(MNEMONIC_DIC)\n",
    "    dicfile.close()\n",
    "    \n",
    "if __name__ == '__main__':\n",
    "    menu = (\"address\", \"private key\", \"keystore\", \"mnemonic code(12)\", \"mnemonic code(24)\")\n",
    "    while True:\n",
    "        showmenu()\n",
    "        sel = int(input(\"Choose Menu number (Exit 0) : \"))\n",
    "        if sel == 0:\n",
    "            break\n",
    "        elif(sel>=1 and sel <= len(menu)):\n",
    "            #transactions(\"\")\n",
    "            artifacts()\n",
    "            print (\"transaction result print\")\n",
    "            sel1 = str(input(\"[*] Do you want to continue searching? if you enter 'no', quit process : \"))\n",
    "            if sel1 == \"no\":\n",
    "                break\n",
    "            elif sel1 == \"yes\":\n",
    "                print (\"keep going\")\n",
    "                artifacts()\n",
    "            else : \n",
    "                print (\"quit\")\n",
    "        else:\n",
    "            print(\"잘못된 메뉴 번호입니다.\")\n",
    "    print (\"complete search\")\n",
    "\n",
    "#0x9ae08d0118e105dce648a7fba6fc12b2c3e9c288\n",
    "# G:\\내 드라이브\\mem_dump\\memdump.mem\n",
    "# G:\\내 드라이브\\04 - Ethereum_study\\ethereum_tracking\\051021-8734-01.dmp"
   ]
  },
  {
   "cell_type": "code",
   "execution_count": 49,
   "id": "67c0fe9c",
   "metadata": {},
   "outputs": [
    {
     "name": "stdout",
     "output_type": "stream",
     "text": [
      "input word: are\n",
      "don't exist\n"
     ]
    },
    {
     "data": {
      "text/plain": [
       "'\\nwith open(\"G:\\\\내 드라이브\\\\04 - Ethereum_study\\\\ethereum_forensic\\\\mnemonic_word.txt\",\\'r\\', encoding=\\'UTF8\\') as file:\\n    text = file.read()\\n    print(type(text))\\n    print(text)\\n'"
      ]
     },
     "execution_count": 49,
     "metadata": {},
     "output_type": "execute_result"
    }
   ],
   "source": [
    "#def mnemonic_word():\n",
    "#    global MNEM_LIST\n",
    "dicfile = open(\"G:\\\\내 드라이브\\\\04 - Ethereum_study\\\\ethereum_forensic\\\\mnemonic_word.txt\",'r')\n",
    "MNEMONIC_DIC = csv.reader(dicfile)\n",
    "MNEM_LIST = list(MNEMONIC_DIC)\n",
    "word = input(\"input word: \")\n",
    "if word in MNEM_LIST:\n",
    "    print(word)\n",
    "else:\n",
    "    print(\"don't exist\")\n",
    "#print(MNEM_LIST[1])\n",
    "dicfile.close()\n",
    "'''\n",
    "with open(\"G:\\\\내 드라이브\\\\04 - Ethereum_study\\\\ethereum_forensic\\\\mnemonic_word.txt\",'r', encoding='UTF8') as file:\n",
    "    text = file.read()\n",
    "    print(type(text))\n",
    "    print(text)\n",
    "'''\n"
   ]
  },
  {
   "cell_type": "code",
   "execution_count": 2,
   "id": "ede63b71",
   "metadata": {},
   "outputs": [
    {
     "ename": "NameError",
     "evalue": "name 'nowDate' is not defined",
     "output_type": "error",
     "traceback": [
      "\u001b[1;31m---------------------------------------------------------------------------\u001b[0m",
      "\u001b[1;31mNameError\u001b[0m                                 Traceback (most recent call last)",
      "Cell \u001b[1;32mIn [2], line 1\u001b[0m\n\u001b[1;32m----> 1\u001b[0m mnemonic_file \u001b[38;5;241m=\u001b[39m \u001b[38;5;28mopen\u001b[39m(\u001b[38;5;124m'\u001b[39m\u001b[38;5;124mc:\u001b[39m\u001b[38;5;130;01m\\\\\u001b[39;00m\u001b[38;5;124mtemp\u001b[39m\u001b[38;5;130;01m\\\\\u001b[39;00m\u001b[38;5;124m'\u001b[39m\u001b[38;5;241m+\u001b[39m\u001b[38;5;124mf\u001b[39m\u001b[38;5;124m'\u001b[39m\u001b[38;5;132;01m{\u001b[39;00mnowDate\u001b[38;5;132;01m}\u001b[39;00m\u001b[38;5;124m'\u001b[39m\u001b[38;5;241m+\u001b[39m\u001b[38;5;124m'\u001b[39m\u001b[38;5;124m_match_1차_list.txt\u001b[39m\u001b[38;5;124m'\u001b[39m,\u001b[38;5;124m'\u001b[39m\u001b[38;5;124mr\u001b[39m\u001b[38;5;124m'\u001b[39m)\n\u001b[0;32m      2\u001b[0m line_num \u001b[38;5;241m=\u001b[39m \u001b[38;5;241m1\u001b[39m\n\u001b[0;32m      3\u001b[0m line \u001b[38;5;241m=\u001b[39m mnemonic_file\u001b[38;5;241m.\u001b[39mreadline()\n",
      "\u001b[1;31mNameError\u001b[0m: name 'nowDate' is not defined"
     ]
    }
   ],
   "source": [
    "mnemonic_file = open('c:\\\\temp\\\\'+f'{nowDate}'+'_match_1차_list.txt','r')\n",
    "line_num = 1\n",
    "line = mnemonic_file.readline()\n",
    "while line:\n",
    "    #print(type(line))\n",
    "    print(line)\n",
    "    line = mnemonic_file.readline()"
   ]
  },
  {
   "cell_type": "markdown",
   "id": "04411217",
   "metadata": {},
   "source": [
    "### 메모리 덤프에서 csv로 추출된 이더리움 주소 정규표현식에 해당하는 데이터 개수"
   ]
  },
  {
   "cell_type": "code",
   "execution_count": 3,
   "id": "f4417fce",
   "metadata": {},
   "outputs": [
    {
     "name": "stdout",
     "output_type": "stream",
     "text": [
      "['F:\\\\ethereum_forensic\\\\ethereum_address_scan']\n",
      "F:\\ethereum_forensic\\ethereum_address_scan 111758\n"
     ]
    }
   ],
   "source": [
    "# csv 행 수 출력하기\n",
    "# https://why2why.tistory.com/116\n",
    "\n",
    "import pandas as pd\n",
    "import os\n",
    "\n",
    "fpath = 'F:\\\\ethereum_forensic\\\\'\n",
    "fall = os.listdir(fpath)\n",
    "fcsv = [fpath + file[:-4] for file in fall if file.endswith('ethereum_address_scan.csv')]\n",
    "#fcsv = 'ethereum_address_scan.csv'\n",
    "print(fcsv)\n",
    "\n",
    "for file in fcsv:\n",
    "    df = pd.read_csv(file + '.csv')\n",
    "    print(file, len(df))\n",
    "    \n"
   ]
  },
  {
   "cell_type": "code",
   "execution_count": 1,
   "id": "e7684f16",
   "metadata": {},
   "outputs": [
    {
     "data": {
      "text/plain": [
       "\"import csv\\n\\ndatafile = open('F:\\\\ethereum_forensic\\\\ethereum_address_scan.csv','r')\\n\\ndatafile_read = csv.reader(datafile)\\nfor line in datafile_read:\\n    print(line)\\n\\ndatafile.close()\\n\""
      ]
     },
     "execution_count": 1,
     "metadata": {},
     "output_type": "execute_result"
    }
   ],
   "source": [
    "'''import csv\n",
    "\n",
    "datafile = open('F:\\\\ethereum_forensic\\\\ethereum_address_scan.csv','r')\n",
    "\n",
    "datafile_read = csv.reader(datafile)\n",
    "for line in datafile_read:\n",
    "    print(line)\n",
    "\n",
    "datafile.close()\n",
    "'''"
   ]
  },
  {
   "cell_type": "markdown",
   "id": "471cf914",
   "metadata": {},
   "source": [
    "### 주소/개인키/키스토어/니모닉코드 추출 -> 학회 논문\n",
    "### 주소/개인키/키스토어/니모닉코드 추출 및 웹 UI 구현, 시각화 표현 -> 학위논문 (다크웹 포함)\n"
   ]
  },
  {
   "cell_type": "code",
   "execution_count": 4,
   "id": "6a88ccc0",
   "metadata": {
    "scrolled": false
   },
   "outputs": [
    {
     "name": "stdout",
     "output_type": "stream",
     "text": [
      "Collecting mnemonic\n",
      "  Downloading mnemonic-0.20-py3-none-any.whl (62 kB)\n",
      "     ---------------------------------------- 62.0/62.0 kB ? eta 0:00:00\n",
      "Installing collected packages: mnemonic\n",
      "Successfully installed mnemonic-0.20\n"
     ]
    }
   ],
   "source": [
    "!pip install mnemonic"
   ]
  },
  {
   "cell_type": "code",
   "execution_count": 3,
   "id": "d2893e3b",
   "metadata": {
    "scrolled": true
   },
   "outputs": [
    {
     "name": "stdout",
     "output_type": "stream",
     "text": [
      "0xd8a0734DDB3cF797dC91E80a97D39a6Cee3eF6c6\n"
     ]
    }
   ],
   "source": [
    "#!pip install web3\n",
    "from web3.auto import w3\n",
    "\n",
    "w3.eth.account.enable_unaudited_hdwallet_features()\n",
    "# 니모닉 코드 입력하여 주소 확인\n",
    "account = w3.eth.account.from_mnemonic(\"laundry prize hospital run hammer treat lemon honey boss blanket pave spider\")\n",
    "# 개인키 입력하여 주소 확인\n",
    "#account = w3.eth.account.privateKeyToAccount(\"247c8b5dc83ef1093a6e43ba75a334c74775e61496a445d715a5119fee592618\")\n",
    "\n",
    "print(account.address)\n",
    "\n"
   ]
  },
  {
   "cell_type": "code",
   "execution_count": 6,
   "id": "149b4e7a",
   "metadata": {},
   "outputs": [
    {
     "name": "stdout",
     "output_type": "stream",
     "text": [
      "SAVE BUT DO NOT SHARE THIS: 0x45d6df037f727330157610277ae46a81efafa524313b8d63bf5e116bfc70d556\n",
      "Address: 0x47a7928bCb8024727F580607FA1A8068cf1F02A8\n"
     ]
    }
   ],
   "source": [
    "from eth_account import Account\n",
    "import secrets\n",
    "priv = secrets.token_hex(32)\n",
    "private_key = \"0x\" + priv\n",
    "print(\"SAVE BUT DO NOT SHARE THIS:\", private_key)\n",
    "acct = Account.from_key(private_key)\n",
    "print(\"Address:\",acct.address)"
   ]
  }
 ],
 "metadata": {
  "kernelspec": {
   "display_name": "Python 3 (ipykernel)",
   "language": "python",
   "name": "python3"
  },
  "language_info": {
   "codemirror_mode": {
    "name": "ipython",
    "version": 3
   },
   "file_extension": ".py",
   "mimetype": "text/x-python",
   "name": "python",
   "nbconvert_exporter": "python",
   "pygments_lexer": "ipython3",
   "version": "3.10.7"
  },
  "vscode": {
   "interpreter": {
    "hash": "11938c6bc6919ae2720b4d5011047913343b08a43b18698fd82dedb0d4417594"
   }
  }
 },
 "nbformat": 4,
 "nbformat_minor": 5
}

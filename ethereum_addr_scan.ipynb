{
 "cells": [
  {
   "cell_type": "code",
   "execution_count": 54,
   "id": "5d4ed0da",
   "metadata": {},
   "outputs": [
    {
     "name": "stdout",
     "output_type": "stream",
     "text": [
      "pandas version:  1.2.4\n"
     ]
    },
    {
     "name": "stderr",
     "output_type": "stream",
     "text": [
      "<ipython-input-54-0f00b66d52cb>:10: FutureWarning: Passing a negative integer is deprecated in version 1.0 and will not be supported in future version. Instead, use None to not limit the column width.\n",
      "  pd.set_option('display.max_colwidth', -1)\n"
     ]
    }
   ],
   "source": [
    "import pandas as pd\n",
    "print(\"pandas version: \", pd.__version__)\n",
    "#pd.set_option('display.max_row', 1000000)\n",
    "pd.set_option('display.max_rows', None)\n",
    "#pd.set_option('display.max_columns', 1000)\n",
    "pd.set_option('display.max_columns', None)\n",
    "pd.set_option('display.width', 1000000)\n",
    "pd.set_option('display.max_seq_items', None)\n",
    "#pd.set_option('display.height', 1000)\n",
    "pd.set_option('display.max_colwidth', -1)"
   ]
  },
  {
   "cell_type": "code",
   "execution_count": 67,
   "id": "5571b937",
   "metadata": {},
   "outputs": [
    {
     "name": "stdout",
     "output_type": "stream",
     "text": [
      "write full path : H:\\mem_dump\\memdump_A_210512.mem\n",
      "H:\\mem_dump\\memdump_A_210512.mem\n",
      "<class 'mmap.mmap'>\n"
     ]
    }
   ],
   "source": [
    "import struct, re, os, sys\n",
    "from mmap import ACCESS_READ, mmap\n",
    "import pandas as pd\n",
    "from pandas import Series, DataFrame\n",
    "import numpy as np\n",
    "from tempfile import mkdtemp\n",
    "import json\n",
    "\n",
    "path = input(\"write full path : \")\n",
    "\n",
    "try:\n",
    "    handle = open(path, 'rb+')\n",
    "except IOError:\n",
    "    print('IOError : File path is invalid')\n",
    "    sys.exit()\n",
    "\n",
    "print(path)\n",
    "\n",
    "p = re.compile(rb'^0x[a-fA-F0-9]{40}$', re.DOTALL | re.IGNORECASE | re.MULTILINE)\n",
    "\n",
    "with open(path, 'rb') as f, mmap(f.fileno(), 0, access=ACCESS_READ) as mm:\n",
    "    #print(mm[0:1000])\n",
    "    #print(mm[::2])\n",
    "    b=type(mm)\n",
    "    print(b)\n",
    "    for match in p.finditer(mm):\n",
    "        s = match.start()\n",
    "        e = match.end()\n",
    "        grep_match_found = mm[s:e].decode(\"utf-8\")\n",
    "        print(str(grep_match_found))\n",
    "        \n",
    "#f.close()\n",
    "#mm.close()\n",
    "    \n",
    "# H:\\mem_dump\\memdump_C_210504.mem\n",
    "# H:\\mem_dump\\memdump_A_210512.mem\n",
    "# /mnt/h/mem_dump/memdump_C_210504.mem\n",
    "# /mnt/h/mem_dump/memdump_A_210512.mem\n",
    "0x9ae08d0118e105dce648a7fba6fc12b2c3e9c288\n",
    "0x9Ae08d0118E105Dce648A7fBA6fc12b2c3e9c288"
   ]
  },
  {
   "cell_type": "code",
   "execution_count": null,
   "id": "83bd514b",
   "metadata": {},
   "outputs": [],
   "source": [
    "a = input(\": \")\n",
    "print(a)\n",
    "with open(a, \"rb+\") as f:\n",
    "    b = f.read()\n",
    "    #b = f.seek(1,0)\n",
    "    print(b)"
   ]
  },
  {
   "cell_type": "code",
   "execution_count": null,
   "id": "3bd9a05e",
   "metadata": {},
   "outputs": [],
   "source": [
    "import sys\n",
    "\n",
    "sys.byteorder"
   ]
  }
 ],
 "metadata": {
  "kernelspec": {
   "display_name": "Python 3",
   "language": "python",
   "name": "python3"
  },
  "language_info": {
   "codemirror_mode": {
    "name": "ipython",
    "version": 3
   },
   "file_extension": ".py",
   "mimetype": "text/x-python",
   "name": "python",
   "nbconvert_exporter": "python",
   "pygments_lexer": "ipython3",
   "version": "3.8.8"
  }
 },
 "nbformat": 4,
 "nbformat_minor": 5
}

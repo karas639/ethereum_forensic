{
 "cells": [
  {
   "cell_type": "code",
   "execution_count": 2,
   "id": "5571b937",
   "metadata": {},
   "outputs": [
    {
     "name": "stdout",
     "output_type": "stream",
     "text": [
      "write full path : H:\\mem_dump\\memdump_210512.mem\n",
      "H:\\mem_dump\\memdump_210512.mem\n"
     ]
    },
    {
     "ename": "MemoryError",
     "evalue": "",
     "output_type": "error",
     "traceback": [
      "\u001b[1;31m---------------------------------------------------------------------------\u001b[0m",
      "\u001b[1;31mMemoryError\u001b[0m                               Traceback (most recent call last)",
      "\u001b[1;32m<ipython-input-2-f5c756f39a4a>\u001b[0m in \u001b[0;36m<module>\u001b[1;34m\u001b[0m\n\u001b[0;32m     26\u001b[0m \u001b[1;33m\u001b[0m\u001b[0m\n\u001b[0;32m     27\u001b[0m \u001b[1;32mwith\u001b[0m \u001b[0mopen\u001b[0m\u001b[1;33m(\u001b[0m\u001b[0mpath\u001b[0m\u001b[1;33m,\u001b[0m \u001b[1;34m'rb'\u001b[0m\u001b[1;33m)\u001b[0m \u001b[1;32mas\u001b[0m \u001b[0mf\u001b[0m\u001b[1;33m,\u001b[0m \u001b[0mmmap\u001b[0m\u001b[1;33m(\u001b[0m\u001b[0mf\u001b[0m\u001b[1;33m.\u001b[0m\u001b[0mfileno\u001b[0m\u001b[1;33m(\u001b[0m\u001b[1;33m)\u001b[0m\u001b[1;33m,\u001b[0m \u001b[1;36m0\u001b[0m\u001b[1;33m,\u001b[0m \u001b[0maccess\u001b[0m\u001b[1;33m=\u001b[0m\u001b[0mACCESS_READ\u001b[0m\u001b[1;33m)\u001b[0m \u001b[1;32mas\u001b[0m \u001b[0mmm\u001b[0m\u001b[1;33m:\u001b[0m\u001b[1;33m\u001b[0m\u001b[1;33m\u001b[0m\u001b[0m\n\u001b[1;32m---> 28\u001b[1;33m     \u001b[0mprint\u001b[0m\u001b[1;33m(\u001b[0m\u001b[0mmm\u001b[0m\u001b[1;33m[\u001b[0m\u001b[1;36m0\u001b[0m\u001b[1;33m:\u001b[0m\u001b[1;33m]\u001b[0m\u001b[1;33m)\u001b[0m\u001b[1;33m\u001b[0m\u001b[1;33m\u001b[0m\u001b[0m\n\u001b[0m\u001b[0;32m     29\u001b[0m     \u001b[1;32mfor\u001b[0m \u001b[0mmatch\u001b[0m \u001b[1;32min\u001b[0m \u001b[0mp\u001b[0m\u001b[1;33m.\u001b[0m\u001b[0mfinditer\u001b[0m\u001b[1;33m(\u001b[0m\u001b[0mmm\u001b[0m\u001b[1;33m)\u001b[0m\u001b[1;33m:\u001b[0m\u001b[1;33m\u001b[0m\u001b[1;33m\u001b[0m\u001b[0m\n\u001b[0;32m     30\u001b[0m         \u001b[1;31m#if not (match.end() == len(mm) and len(match.group()) < max_length and length == chunk_size):\u001b[0m\u001b[1;33m\u001b[0m\u001b[1;33m\u001b[0m\u001b[1;33m\u001b[0m\u001b[0m\n",
      "\u001b[1;31mMemoryError\u001b[0m: "
     ]
    }
   ],
   "source": [
    "import struct, re, os, sys\n",
    "from mmap import ACCESS_READ, mmap\n",
    "\n",
    "\n",
    "path = input(\"write full path : \")\n",
    "\n",
    "try:\n",
    "    handle = open(path, 'rb+')\n",
    "except IOError:\n",
    "    print('IOError : File path is invalid')\n",
    "    sys.exit()\n",
    "\n",
    "print(path)\n",
    "\n",
    "chunk_size = 2**32\n",
    "matches = []\n",
    "#pattern_group = [b,'^0x[a-fA-F0-9]{40}$']\n",
    "p = re.compile(b'^0x[a-fA-F0-9]{40}$')\n",
    "max_length = 42\n",
    "#p1 = re.compile(b'0x9Ae08d0118E105Dce648A7fBA6fc12b2c3e9c288')\n",
    "#m = p.match('0x9Ae08d0118E105Dce648A7fBA6fc12b2c3e9c288')\n",
    "#m = p.search(data)\n",
    "#print(m) # 내용없음\n",
    "#m = re.finditer(p, data)\n",
    "#print(m)\n",
    "\n",
    "with open(path, 'rb') as f, mmap(f.fileno(), 0, access=ACCESS_READ) as mm:\n",
    "    print(mm[0:])\n",
    "    for match in p.finditer(mm):\n",
    "        #if not (match.end() == len(mm) and len(match.group()) < max_length and length == chunk_size):\n",
    "        #    matches.append(match.group())\n",
    "    #mm.close()\n",
    "#f.close()\n",
    "        #print(\"------result------\")\n",
    "        print(match)\n",
    "        #print(match.decode(\"utf-8\"))\n",
    "\n",
    "#if m:\n",
    "#    print(\"found a match: \", m.group(1))\n",
    "#    print(\"match offset: \", m.start())\n"
   ]
  },
  {
   "cell_type": "code",
   "execution_count": null,
   "id": "83bd514b",
   "metadata": {},
   "outputs": [],
   "source": [
    "a = input(\": \")\n",
    "print(a)\n",
    "with open(a, \"rb+\") as f:\n",
    "    b = f.read()\n",
    "    #b = f.seek(1,0)\n",
    "    print(b)"
   ]
  },
  {
   "cell_type": "code",
   "execution_count": null,
   "id": "3bd9a05e",
   "metadata": {},
   "outputs": [],
   "source": [
    "import sys\n",
    "\n",
    "sys.byteorder"
   ]
  }
 ],
 "metadata": {
  "kernelspec": {
   "display_name": "Python 3",
   "language": "python",
   "name": "python3"
  },
  "language_info": {
   "codemirror_mode": {
    "name": "ipython",
    "version": 3
   },
   "file_extension": ".py",
   "mimetype": "text/x-python",
   "name": "python",
   "nbconvert_exporter": "python",
   "pygments_lexer": "ipython3",
   "version": "3.8.8"
  }
 },
 "nbformat": 4,
 "nbformat_minor": 5
}

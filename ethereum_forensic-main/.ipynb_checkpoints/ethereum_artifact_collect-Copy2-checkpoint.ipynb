{
 "cells": [
  {
   "cell_type": "markdown",
   "id": "a58fe2af",
   "metadata": {},
   "source": [
    " ## pandas 설정"
   ]
  },
  {
   "cell_type": "code",
   "execution_count": 1,
   "id": "5d4ed0da",
   "metadata": {
    "scrolled": true
   },
   "outputs": [
    {
     "name": "stdout",
     "output_type": "stream",
     "text": [
      "pandas version:  1.2.4\n"
     ]
    },
    {
     "name": "stderr",
     "output_type": "stream",
     "text": [
      "C:\\Users\\uk0101\\AppData\\Local\\Temp/ipykernel_9740/2241320340.py:10: FutureWarning: Passing a negative integer is deprecated in version 1.0 and will not be supported in future version. Instead, use None to not limit the column width.\n",
      "  pd.set_option('display.max_colwidth', -1)\n"
     ]
    }
   ],
   "source": [
    "import pandas as pd\n",
    "print(\"pandas version: \", pd.__version__)\n",
    "#pd.set_option('display.max_row', 1000000)\n",
    "pd.set_option('display.max_rows', None)\n",
    "#pd.set_option('display.max_columns', 1000)\n",
    "pd.set_option('display.max_columns', None)\n",
    "pd.set_option('display.width', 1000000)\n",
    "pd.set_option('display.max_seq_items', None)\n",
    "#pd.set_option('display.height', 1000)\n",
    "pd.set_option('display.max_colwidth', -1)"
   ]
  },
  {
   "cell_type": "code",
   "execution_count": 1,
   "id": "5ef4c9a2",
   "metadata": {},
   "outputs": [
    {
     "data": {
      "text/html": [
       "<style>.container { width:99% !important; }</style>"
      ],
      "text/plain": [
       "<IPython.core.display.HTML object>"
      ]
     },
     "metadata": {},
     "output_type": "display_data"
    }
   ],
   "source": [
    "#jupyter 넓이 늘리기\n",
    "from IPython.core.display import display, HTML\n",
    "display(HTML(\"<style>.container { width:99% !important; }</style>\"))"
   ]
  },
  {
   "cell_type": "markdown",
   "id": "fb6d15e0",
   "metadata": {},
   "source": [
    "## 메모리 덤프 파일(full path)을 입력받아 이더리움 주소 정규표현식 검색"
   ]
  },
  {
   "cell_type": "code",
   "execution_count": 2,
   "id": "5571b937",
   "metadata": {
    "scrolled": false
   },
   "outputs": [
    {
     "name": "stdout",
     "output_type": "stream",
     "text": [
      "write full path: G:\\내 드라이브\\memdump.mem\n",
      "G:\\내 드라이브\\memdump.mem\n",
      "\n",
      "[Ethereum Aritifacts search choose menu]\n",
      "1 . address\n",
      "2 . private key\n",
      "3 . keystore\n",
      "4 . mnemonic code\n",
      "\n",
      "Choose Menu number (Exit 0) : 1\n",
      "============ Next Step ============\n",
      "<class 'mmap.mmap'>\n",
      "https://api.etherscan.io/api?module=account&action=txlist&apikey=WP3JPWBB21D6JRN1AVIE451N4H5YVTJN4M&sort=desc&address=0xfffffffffffff800000000000000000000000000\n"
     ]
    },
    {
     "ename": "UnboundLocalError",
     "evalue": "local variable 'valid_address' referenced before assignment",
     "output_type": "error",
     "traceback": [
      "\u001b[1;31m---------------------------------------------------------------------------\u001b[0m",
      "\u001b[1;31mUnboundLocalError\u001b[0m                         Traceback (most recent call last)",
      "\u001b[1;32m~\\AppData\\Local\\Temp/ipykernel_29888/2619516471.py\u001b[0m in \u001b[0;36m<module>\u001b[1;34m\u001b[0m\n\u001b[0;32m     85\u001b[0m         \u001b[1;32melif\u001b[0m\u001b[1;33m(\u001b[0m\u001b[0msel\u001b[0m\u001b[1;33m>=\u001b[0m\u001b[1;36m1\u001b[0m \u001b[1;32mand\u001b[0m \u001b[0msel\u001b[0m \u001b[1;33m<=\u001b[0m \u001b[0mlen\u001b[0m\u001b[1;33m(\u001b[0m\u001b[0mmenu\u001b[0m\u001b[1;33m)\u001b[0m\u001b[1;33m)\u001b[0m\u001b[1;33m:\u001b[0m\u001b[1;33m\u001b[0m\u001b[1;33m\u001b[0m\u001b[0m\n\u001b[0;32m     86\u001b[0m             \u001b[1;31m#transactions(\"\")\u001b[0m\u001b[1;33m\u001b[0m\u001b[1;33m\u001b[0m\u001b[1;33m\u001b[0m\u001b[0m\n\u001b[1;32m---> 87\u001b[1;33m             \u001b[0martifacts\u001b[0m\u001b[1;33m(\u001b[0m\u001b[1;33m)\u001b[0m\u001b[1;33m\u001b[0m\u001b[1;33m\u001b[0m\u001b[0m\n\u001b[0m\u001b[0;32m     88\u001b[0m             \u001b[0mprint\u001b[0m \u001b[1;33m(\u001b[0m\u001b[1;34m\"transaction result print\"\u001b[0m\u001b[1;33m)\u001b[0m\u001b[1;33m\u001b[0m\u001b[1;33m\u001b[0m\u001b[0m\n\u001b[0;32m     89\u001b[0m             \u001b[0msel1\u001b[0m \u001b[1;33m=\u001b[0m \u001b[0mstr\u001b[0m\u001b[1;33m(\u001b[0m\u001b[0minput\u001b[0m\u001b[1;33m(\u001b[0m\u001b[1;34m\"[*] Do you want to continue searching? : 'if you enter 'no' and quit process\"\u001b[0m\u001b[1;33m)\u001b[0m\u001b[1;33m)\u001b[0m\u001b[1;33m\u001b[0m\u001b[1;33m\u001b[0m\u001b[0m\n",
      "\u001b[1;32m~\\AppData\\Local\\Temp/ipykernel_29888/2619516471.py\u001b[0m in \u001b[0;36martifacts\u001b[1;34m()\u001b[0m\n\u001b[0;32m     57\u001b[0m                 \u001b[0mf\u001b[0m \u001b[1;33m=\u001b[0m \u001b[0mopen\u001b[0m\u001b[1;33m(\u001b[0m\u001b[1;34m'ethereum_address_scan.csv'\u001b[0m\u001b[1;33m,\u001b[0m \u001b[0mmode\u001b[0m\u001b[1;33m=\u001b[0m\u001b[1;34m'+a'\u001b[0m\u001b[1;33m)\u001b[0m\u001b[1;33m\u001b[0m\u001b[1;33m\u001b[0m\u001b[0m\n\u001b[0;32m     58\u001b[0m                 \u001b[1;31m#f = open('mnemonic_scan.csv', mode='+a')\u001b[0m\u001b[1;33m\u001b[0m\u001b[1;33m\u001b[0m\u001b[1;33m\u001b[0m\u001b[0m\n\u001b[1;32m---> 59\u001b[1;33m                 \u001b[0mf\u001b[0m\u001b[1;33m.\u001b[0m\u001b[0mwrite\u001b[0m\u001b[1;33m(\u001b[0m\u001b[0mvalid_address\u001b[0m \u001b[1;33m+\u001b[0m \u001b[1;34m\"\\n\"\u001b[0m\u001b[1;33m)\u001b[0m\u001b[1;33m\u001b[0m\u001b[1;33m\u001b[0m\u001b[0m\n\u001b[0m\u001b[0;32m     60\u001b[0m                 \u001b[0mprint\u001b[0m\u001b[1;33m(\u001b[0m\u001b[0mvalid_address\u001b[0m\u001b[1;33m)\u001b[0m\u001b[1;33m\u001b[0m\u001b[1;33m\u001b[0m\u001b[0m\n\u001b[0;32m     61\u001b[0m             \u001b[0mf\u001b[0m\u001b[1;33m.\u001b[0m\u001b[0mclose\u001b[0m\u001b[1;33m(\u001b[0m\u001b[1;33m)\u001b[0m\u001b[1;33m\u001b[0m\u001b[1;33m\u001b[0m\u001b[0m\n",
      "\u001b[1;31mUnboundLocalError\u001b[0m: local variable 'valid_address' referenced before assignment"
     ]
    }
   ],
   "source": [
    "import struct\n",
    "import re\n",
    "import os\n",
    "import requests\n",
    "from mmap import ACCESS_READ, mmap\n",
    "\n",
    "global valid_address\n",
    "path = input(\"write full path: \")\n",
    "try:\n",
    "    handle = open(path, 'rb+')\n",
    "except IOError:\n",
    "    print('IOError : File path is invalid')\n",
    "    sys.exit()\n",
    "print(path)\n",
    "\n",
    "def showmenu():  # 메뉴 선택 함수\n",
    "    print()\n",
    "    print(\"[Ethereum Aritifacts search choose menu]\")\n",
    "    for i in range(0, len(menu)):\n",
    "        print(i+1, \".\", menu[i])\n",
    "    print()\n",
    "    \n",
    "def artifacts():\n",
    "    if sel == 1:\n",
    "        p = re.compile(rb'0x[a-fA-F0-9]{40}', re.IGNORECASE | re.MULTILINE) #이더리움 주소\n",
    "        print(\"============ Next Step ============\")\n",
    "        with open(path, 'rb') as file, mmap(file.fileno(), length=0, access=ACCESS_READ) as mm:\n",
    "            b=type(mm)\n",
    "            print(b)\n",
    "            f = open('ethereum_address_scan.csv', mode='w')\n",
    "            #f = open('bitcoin_address_scan.csv', mode='w')\n",
    "            #f = open('mnemonic_scan.csv', mode='w')\n",
    "            f.write(\"address\" + \"\\n\")\n",
    "            f.close()\n",
    "            for match in p.finditer(mm):\n",
    "                s = match.start()\n",
    "                e = match.end()\n",
    "                grep_match_found = mm[s:e].decode(\"utf-8\")\n",
    "                address = str(grep_match_found)\n",
    "                #여기서 부터 address 한줄 씩 받아서 검증 및 중복값 제거\n",
    "                apikey = \"WP3JPWBB21D6JRN1AVIE451N4H5YVTJN4M\" \n",
    "                URL = f\"https://api.etherscan.io/api?module=account&action=txlist&apikey={apikey}&sort=desc&address={address}\"\n",
    "                if address in URL:\n",
    "                    print(URL)\n",
    "                    headers = {'User-Agent': 'Mozilla/5.0'} # header 선언, http 요청 브라우저는 Mozilla.\n",
    "                    resp = requests.get(URL).json() # http get 요청을 resp 변수에 json 형태로 선언    \n",
    "                    for key, value in resp.items():  # apikey error test\n",
    "                        if value == \"1\":\n",
    "                            print(\"api status : {}\".format(resp[\"message\"]))\n",
    "                            data = resp[\"result\"] # result 결과인 value만 변수에 담기\n",
    "                            #print(data[0])\n",
    "                            valid_address = data[0].get('to')\n",
    "                        else:\n",
    "                            exit()\n",
    "                else:\n",
    "                    exit()\n",
    "                f = open('ethereum_address_scan.csv', mode='+a')\n",
    "                #f = open('mnemonic_scan.csv', mode='+a')\n",
    "                f.write(valid_address + \"\\n\")\n",
    "                print(valid_address)\n",
    "            f.close()\n",
    "        file.close()\n",
    "        mm.close()\n",
    "    elif sel == 2:\n",
    "        p = re.compile(rb'[0-f9a-f]{64}', re.IGNORECASE | re.MULTILINE) #이더리움 개인키\n",
    "    elif sel == 3:\n",
    "        p = re.compile(rb'0x[a-fA-F0-9]{40}', re.IGNORECASE | re.MULTILINE) #이더리움 키스토어\n",
    "    elif sel == 4:\n",
    "        p = re.compile(rb'[a-z]+\\s[a-z]+\\s[a-z]+\\s[a-z]+\\s[a-z]+\\s[a-z]+\\s[a-z]+\\s[a-z]+\\s[a-z]+\\s[a-z]+\\s[a-z]+\\s[a-z]+\\s', re.IGNORECASE | re.MULTILINE) # 나모닉 코드\n",
    "    else:\n",
    "        print(\"another artifacts?\")\n",
    "\n",
    "    \n",
    "\n",
    "if __name__ == '__main__':\n",
    "    menu = (\"address\", \"private key\", \"keystore\", \"mnemonic code\")\n",
    "    #number = (1, 2, 3, 4)\n",
    "    #money = 0\n",
    "    #money = int( input(\"돈을 투입하세요 : \") )\n",
    "    while True:\n",
    "        showmenu()\n",
    "        sel = int(input(\"Choose Menu number (Exit 0) : \"))\n",
    "        if sel == 0:\n",
    "            break\n",
    "        elif(sel>=1 and sel <= len(menu)):\n",
    "            #transactions(\"\")\n",
    "            artifacts()\n",
    "            print (\"transaction result print\")\n",
    "            sel1 = str(input(\"[*] Do you want to continue searching? : 'if you enter 'no' and quit process\"))\n",
    "            if sel1 == \"no\":\n",
    "                break\n",
    "            elif sel1 == \"yes\":\n",
    "                print (\"keep going\")\n",
    "                artifacts()\n",
    "            else : \n",
    "                print (\"quit\")\n",
    "        else:\n",
    "            print(\"잘못된 메뉴 번호입니다.\")\n",
    "    print (\"complete search\")\n",
    "\n",
    "# H:\\mem_dump\\memdump_C_210504.mem\n",
    "# H:\\mem_dump\\memdump_A_210524.mem\n",
    "# /mnt/h/mem_dump/memdump_C_210504.mem\n",
    "# /mnt/h/mem_dump/memdump_A_210512.mem\n",
    "#0x9ae08d0118e105dce648a7fba6fc12b2c3e9c288"
   ]
  },
  {
   "cell_type": "markdown",
   "id": "50c16725",
   "metadata": {},
   "source": [
    "\n",
    "## 백업 (주피터 노트북 사용 시)"
   ]
  },
  {
   "cell_type": "code",
   "execution_count": null,
   "id": "83bd514b",
   "metadata": {},
   "outputs": [],
   "source": [
    "import struct\n",
    "import re\n",
    "import os\n",
    "from mmap import ACCESS_READ, mmap\n",
    "import pandas as pd\n",
    "from pandas import Series, DataFrame\n",
    "\n",
    "path = input(\"write full path: \")\n",
    "try:\n",
    "    handle = open(path, 'rb+')\n",
    "except IOError:\n",
    "    print('IOError : File path is invalid')\n",
    "    sys.exit()\n",
    "\n",
    "print(path)\n",
    "\n",
    "global df\n",
    "global count\n",
    "global address\n",
    "df = DataFrame(columns=['address'])\n",
    "#count = 1000000000\n",
    "\n",
    "\n",
    "#p = re.compile(rb'0x[a-fA-F0-9]{40}$', re.DOTALL | re.IGNORECASE | re.MULTILINE)\n",
    "p = re.compile(rb'0x[a-fA-F0-9]{40}', re.IGNORECASE | re.MULTILINE)\n",
    "\n",
    "with open(path, 'rb') as file, mmap(file.fileno(), length=0, access=ACCESS_READ) as mm:\n",
    "    #print(mm[0:42])\n",
    "    b=type(mm)\n",
    "    print(b)\n",
    "    f = open('ethereum_address_scan.txt', mode='w')\n",
    "    f.write(\"addr\" + \"\\n\")\n",
    "    f.close()\n",
    "    for match in p.finditer(mm):\n",
    "        s = match.start()\n",
    "        e = match.end()\n",
    "        grep_match_found = mm[s:e].decode(\"utf-8\")\n",
    "        address = str(grep_match_found)\n",
    "        f = open('ethereum_address_scan.txt', mode='+a')\n",
    "        f.write(address)\n",
    "        print(address)\n",
    "        '''# 주피터 노트북 데이터프레임 사용 시\n",
    "        if s:\n",
    "            df = df.append(DataFrame([address], columns=['address']))\n",
    "            df\n",
    "            df.to_csv('ethereum_address_scan.csv')    \n",
    "        elif e:\n",
    "            print(\"finish\")\n",
    "            f.close()\n",
    "        else:\n",
    "            f.close()\n",
    "            break\n",
    "        '''\n",
    "        #g = match.group()\n",
    "        #grep_match_found = mm[g].decode(\"utf-8\")\n",
    "        #print(\"match_found : \", match.group())\n",
    "    print(\"-----result-----\")\n",
    "    f.close()\n",
    "    df\n",
    "file.close()\n",
    "mm.close()\n",
    "    \n",
    "# H:\\mem_dump\\memdump_C_210504.mem\n",
    "# H:\\mem_dump\\memdump_A_210524.mem\n",
    "# /mnt/h/mem_dump/memdump_C_210504.mem\n",
    "# /mnt/h/mem_dump/memdump_A_210512.mem\n",
    "#0x9ae08d0118e105dce648a7fba6fc12b2c3e9c288"
   ]
  },
  {
   "cell_type": "code",
   "execution_count": 1,
   "id": "3bd9a05e",
   "metadata": {},
   "outputs": [
    {
     "data": {
      "text/plain": [
       "'little'"
      ]
     },
     "execution_count": 1,
     "metadata": {},
     "output_type": "execute_result"
    }
   ],
   "source": [
    "import sys\n",
    "\n",
    "sys.byteorder"
   ]
  },
  {
   "cell_type": "markdown",
   "id": "04411217",
   "metadata": {},
   "source": [
    "### 메모리 덤프에서 csv로 추출된 이더리움 주소 정규표현식에 해당하는 데이터 개수"
   ]
  },
  {
   "cell_type": "code",
   "execution_count": 3,
   "id": "f4417fce",
   "metadata": {},
   "outputs": [
    {
     "name": "stdout",
     "output_type": "stream",
     "text": [
      "['F:\\\\ethereum_forensic\\\\ethereum_address_scan']\n",
      "F:\\ethereum_forensic\\ethereum_address_scan 111758\n"
     ]
    }
   ],
   "source": [
    "# csv 행 수 출력하기\n",
    "# https://why2why.tistory.com/116\n",
    "\n",
    "import pandas as pd\n",
    "import os\n",
    "\n",
    "fpath = 'F:\\\\ethereum_forensic\\\\'\n",
    "fall = os.listdir(fpath)\n",
    "fcsv = [fpath + file[:-4] for file in fall if file.endswith('ethereum_address_scan.csv')]\n",
    "#fcsv = 'ethereum_address_scan.csv'\n",
    "print(fcsv)\n",
    "\n",
    "for file in fcsv:\n",
    "    df = pd.read_csv(file + '.csv')\n",
    "    print(file, len(df))\n",
    "    \n"
   ]
  },
  {
   "cell_type": "markdown",
   "id": "f42f8fb5",
   "metadata": {},
   "source": [
    "### cryptoaddress : 암호화폐 주소 검증 파이썬 라이브러리를 통해 이더리움 주소 유효성 검증 진행\n",
    "#### https://pypi.org/project/cryptoaddress/"
   ]
  },
  {
   "cell_type": "code",
   "execution_count": 2,
   "id": "3f15b0dc",
   "metadata": {
    "scrolled": true
   },
   "outputs": [
    {
     "name": "stdout",
     "output_type": "stream",
     "text": [
      "Defaulting to user installation because normal site-packages is not writeable\n",
      "Collecting cryptoaddress\n",
      "  Using cached cryptoaddress-0.2.1-py3-none-any.whl (6.5 kB)\n",
      "Requirement already satisfied: pysha3 in c:\\program files\\python39\\lib\\site-packages (from cryptoaddress) (1.0.2)\n",
      "Installing collected packages: cryptoaddress\n",
      "Successfully installed cryptoaddress-0.2.1\n"
     ]
    }
   ],
   "source": [
    "! pip install cryptoaddress"
   ]
  },
  {
   "cell_type": "code",
   "execution_count": 3,
   "id": "c03d4eb2",
   "metadata": {},
   "outputs": [
    {
     "name": "stdout",
     "output_type": "stream",
     "text": [
      "The address \"0x9ae08d0118e105dce648a7fba6fc12b2c3e9c288\" is valid.\n"
     ]
    }
   ],
   "source": [
    "from cryptoaddress import get_crypto_address\n",
    "\n",
    "try:\n",
    "    bitcoin_address = get_crypto_address('ETH', '0x9ae08d0118e105dce648a7fba6fc12b2c3e9c288')\n",
    "    print('The address \"%s\" is valid.' % str(bitcoin_address))\n",
    "except ValueError:\n",
    "    print('The address is invalid.')\n",
    "\n",
    "# Prints 'The address \"17VZNX1SN5NtKa8UQFxwQbFeFc3iqRYhem\" is valid.'"
   ]
  },
  {
   "cell_type": "code",
   "execution_count": 1,
   "id": "e7684f16",
   "metadata": {},
   "outputs": [
    {
     "data": {
      "text/plain": [
       "\"import csv\\n\\ndatafile = open('F:\\\\ethereum_forensic\\\\ethereum_address_scan.csv','r')\\n\\ndatafile_read = csv.reader(datafile)\\nfor line in datafile_read:\\n    print(line)\\n\\ndatafile.close()\\n\""
      ]
     },
     "execution_count": 1,
     "metadata": {},
     "output_type": "execute_result"
    }
   ],
   "source": [
    "'''import csv\n",
    "\n",
    "datafile = open('F:\\\\ethereum_forensic\\\\ethereum_address_scan.csv','r')\n",
    "\n",
    "datafile_read = csv.reader(datafile)\n",
    "for line in datafile_read:\n",
    "    print(line)\n",
    "\n",
    "datafile.close()\n",
    "'''"
   ]
  },
  {
   "cell_type": "code",
   "execution_count": 4,
   "id": "23d81d93",
   "metadata": {},
   "outputs": [
    {
     "ename": "FileNotFoundError",
     "evalue": "[Errno 2] No such file or directory: 'F:\\\\ethereum_forensic\\\\ethereum_address_scan.csv'",
     "output_type": "error",
     "traceback": [
      "\u001b[1;31m---------------------------------------------------------------------------\u001b[0m",
      "\u001b[1;31mFileNotFoundError\u001b[0m                         Traceback (most recent call last)",
      "\u001b[1;32m~\\AppData\\Local\\Temp/ipykernel_33452/494733353.py\u001b[0m in \u001b[0;36m<module>\u001b[1;34m\u001b[0m\n\u001b[0;32m      5\u001b[0m \u001b[1;31m#new_file = open('ethereum_address_scan_v2.csv', 'w', newline='')\u001b[0m\u001b[1;33m\u001b[0m\u001b[1;33m\u001b[0m\u001b[1;33m\u001b[0m\u001b[0m\n\u001b[0;32m      6\u001b[0m \u001b[1;31m#datafile_read = csv.reader(datafile)\u001b[0m\u001b[1;33m\u001b[0m\u001b[1;33m\u001b[0m\u001b[1;33m\u001b[0m\u001b[0m\n\u001b[1;32m----> 7\u001b[1;33m \u001b[1;32mwith\u001b[0m \u001b[0mopen\u001b[0m\u001b[1;33m(\u001b[0m\u001b[1;34m'F:\\\\ethereum_forensic\\\\ethereum_address_scan.csv'\u001b[0m\u001b[1;33m,\u001b[0m \u001b[1;34m'r'\u001b[0m\u001b[1;33m)\u001b[0m \u001b[1;32mas\u001b[0m \u001b[0mf\u001b[0m\u001b[1;33m:\u001b[0m\u001b[1;33m\u001b[0m\u001b[1;33m\u001b[0m\u001b[0m\n\u001b[0m\u001b[0;32m      8\u001b[0m     \u001b[1;32mwhile\u001b[0m \u001b[0mf\u001b[0m\u001b[1;33m:\u001b[0m\u001b[1;33m\u001b[0m\u001b[1;33m\u001b[0m\u001b[0m\n\u001b[0;32m      9\u001b[0m         \u001b[0mline\u001b[0m \u001b[1;33m=\u001b[0m \u001b[0mf\u001b[0m\u001b[1;33m.\u001b[0m\u001b[0mreadline\u001b[0m\u001b[1;33m(\u001b[0m\u001b[1;33m)\u001b[0m\u001b[1;33m\u001b[0m\u001b[1;33m\u001b[0m\u001b[0m\n",
      "\u001b[1;31mFileNotFoundError\u001b[0m: [Errno 2] No such file or directory: 'F:\\\\ethereum_forensic\\\\ethereum_address_scan.csv'"
     ]
    }
   ],
   "source": [
    "from cryptoaddress import get_crypto_address\n",
    "import csv\n",
    "\n",
    "#datafile = open('F:\\\\ethereum_forensic\\\\ethereum_address_scan.csv','r')\n",
    "#new_file = open('ethereum_address_scan_v2.csv', 'w', newline='')\n",
    "#datafile_read = csv.reader(datafile)\n",
    "with open('F:\\\\ethereum_forensic\\\\ethereum_address_scan.csv', 'r') as f:\n",
    "    while f:\n",
    "        line = f.readline()\n",
    "        #print(line)\n",
    "        try:\n",
    "            ethereum_address = get_crypto_address('ETH', line)     \n",
    "            #writeresult= csv.writer(new_file)\n",
    "            print('The address \"%s\" is valid.' % str(ethereum_address))\n",
    "        except ValueError:\n",
    "            #print('The address \"%s\" is invalid.' % str(ethereum_address))\n",
    "            pass\n",
    "\n",
    "#atafile.close()\n",
    "# Prints 'The address \"17VZNX1SN5NtKa8UQFxwQbFeFc3iqRYhem\" is valid.'"
   ]
  },
  {
   "cell_type": "markdown",
   "id": "8cacff23",
   "metadata": {},
   "source": [
    "### 이더리움 주소 2차 검증 - etherscan.io 크롤링 및 주소 유효성 여부 확인, 트랜잭션이 발생한 주소에 한하여 추출"
   ]
  },
  {
   "cell_type": "code",
   "execution_count": 1,
   "id": "54933b9b",
   "metadata": {},
   "outputs": [
    {
     "name": "stdout",
     "output_type": "stream",
     "text": [
      "\n",
      "[Cryptocurrency address search choose menu]\n",
      "1 . normal transaction\n",
      "2 . internal transaction\n",
      "3 . token\n",
      "\n",
      "Choose Menu number (Exit 0) : 1\n",
      "Search by Address : 0x859a9C0b44cb7066D956a958B0b82e54C9e44b4B\n",
      "============ Next Step ============ \n",
      "https://api.etherscan.io/api?module=account&action=txlist&apikey=WP3JPWBB21D6JRN1AVIE451N4H5YVTJN4M&sort=desc&address=0x859a9c0b44cb7066d956a958b0b82e54c9e44b4b\n",
      "api status : OK\n",
      "{'blockNumber': '15409950', 'timeStamp': '1661442233', 'hash': '0xb914ec98636d0b03f57bb64db8950d8fc585e7f58d48da1d4b1669d4a877ed9f', 'nonce': '1', 'blockHash': '0x497728e9328c5298ab7d0eab118dd46dc67728078122ff2192cc7f4a4d1cd213', 'transactionIndex': '7', 'from': '0x5b6f331291a5517d6cc29181ffcc514207bbc755', 'to': '0x859a9c0b44cb7066d956a958b0b82e54c9e44b4b', 'value': '0', 'gas': '51595', 'gasPrice': '17928980007', 'isError': '0', 'txreceipt_status': '1', 'input': '0xa9059cbb000000000000000000000000c128010d5dab1473c3e4dd40617d62914b3bd9830000000000000000000000000000000000000000000000000000001176592e00', 'contractAddress': '', 'cumulativeGasUsed': '869463', 'gasUsed': '34397', 'confirmations': '143', 'methodId': '0xa9059cbb', 'functionName': 'transfer(address _to, uint256 _value)'}\n",
      "0x859a9c0b44cb7066d956a958b0b82e54c9e44b4b\n",
      "transaction result print\n",
      "[*] Do you want to continue searching? : 'if you enter 'no' and quit processno\n",
      "complete search\n"
     ]
    }
   ],
   "source": [
    "import os\n",
    "import datetime\n",
    "import requests\n",
    "#current_time = print(\"%02d%02d%02d_%02d_%02d\" %(now.tm_year, now.tm_mon, now.tm_mday, now.tm_hour, now.tm_min))\n",
    "now = datetime.datetime.now()\n",
    "nowDate = now.strftime('%Y-%m-%d_%H_%M_%S')\n",
    "apikey = \"WP3JPWBB21D6JRN1AVIE451N4H5YVTJN4M\" \n",
    "\n",
    "def showmenu():  # 메뉴 선택 함수\n",
    "    print()\n",
    "    print(\"[Cryptocurrency address search choose menu]\")\n",
    "    for i in range(0, len(menu)):\n",
    "        print(i+1, \".\", menu[i])\n",
    "    print()\n",
    "\n",
    "def transactions(ethaddr):  # 함수선언 주소 검색 결과 json 데이터에서 result 결과인 value에 대해 data 변수에 담기\n",
    "    global data, addr\n",
    "    addr = input(\"Search by Address : \").lower() # ethereum 주소를 입력받고 소문자 치환\n",
    "    if sel == 1: # normal transaction\n",
    "        URL = f\"https://api.etherscan.io/api?module=account&action=txlist&apikey={apikey}&sort=desc&address={addr}\"\n",
    "    elif sel == 2: # Internal Transaction\n",
    "        URL = f\"https://api.etherscan.io/api?module=account&action=txlistinternal&address={addr}&startblock=0&sort=asc&apikey={apikey}\"\n",
    "    elif sel == 3: # token\n",
    "        URL = f\"https://api.etherscan.io/api?module=token&action=tokeninfo&contractaddress={addr}&apikey={apikey}\"\n",
    "    else:\n",
    "        print(\"research?\")\n",
    "    print(\"============ Next Step ============ \")\n",
    "    if addr in URL:\n",
    "        print(URL)\n",
    "        headers = {'User-Agent': 'Mozilla/5.0'} # header 선언, http 요청 브라우저는 Mozilla.\n",
    "        resp = requests.get(URL).json() # http get 요청을 resp 변수에 json 형태로 선언    \n",
    "        for key, value in resp.items():  # apikey error test\n",
    "            if value == \"1\":\n",
    "                print(\"api status : {}\".format(resp[\"message\"]))\n",
    "                data = resp[\"result\"] # result 결과인 value만 변수에 담아 리스트화\n",
    "                print(data[0]) #data 리스트의 0 요소 출력\n",
    "                print(data[0].get('to')) # 딕셔너리의 특정 값 반환\n",
    "            else:\n",
    "                exit()\n",
    "    else:\n",
    "        exit()\n",
    "        \n",
    "if __name__ == '__main__':\n",
    "    menu = (\"normal transaction\", \"internal transaction\", \"token\")\n",
    "    #number = (1, 2, 3, 4)\n",
    "    #money = 0\n",
    "    #money = int( input(\"돈을 투입하세요 : \") )\n",
    "    while True:\n",
    "        showmenu()\n",
    "        sel = int(input(\"Choose Menu number (Exit 0) : \"))\n",
    "        if sel == 0:\n",
    "            break\n",
    "        elif(sel>=1 and sel <= len(menu)):\n",
    "            #transactions(\"\")\n",
    "            transactions(\"\")\n",
    "            print (\"transaction result print\")\n",
    "            sel1 = str(input(\"[*] Do you want to continue searching? : 'if you enter 'no' and quit process\"))\n",
    "            if sel1 == \"no\":\n",
    "                break\n",
    "            elif sel1 == \"yes\":\n",
    "                print (\"keep going\")\n",
    "                transactions(\"\")\n",
    "                \"\"\"for x in sel1:\n",
    "                    print (sel1)\n",
    "                    if x == \"no\":\n",
    "                        break\n",
    "                    elif x == sel1:\n",
    "                        sel1 = str(input(\"[*] Do you want to continue searching? : \"))\n",
    "                        eth_search(\"\")\n",
    "                        dataframe()\n",
    "                    else:\n",
    "                        print(\"quit\")\"\"\"\n",
    "            else : \n",
    "                print (\"quit\")\n",
    "        else:\n",
    "            print(\"잘못된 메뉴 번호입니다.\")\n",
    "    print (\"complete search\")\n",
    "    \n",
    "#0x859a9C0b44cb7066D956a958B0b82e54C9e44b4B"
   ]
  },
  {
   "cell_type": "code",
   "execution_count": null,
   "id": "1333798c",
   "metadata": {},
   "outputs": [],
   "source": []
  },
  {
   "cell_type": "markdown",
   "id": "27120ba2",
   "metadata": {},
   "source": [
    "### 메모리 덤프에서 개인키 추출하기"
   ]
  },
  {
   "cell_type": "code",
   "execution_count": null,
   "id": "56fb5e19",
   "metadata": {},
   "outputs": [],
   "source": []
  },
  {
   "cell_type": "markdown",
   "id": "1d45a2a3",
   "metadata": {},
   "source": [
    "### 메모리 덤프에서 키스토어 추출하기"
   ]
  },
  {
   "cell_type": "code",
   "execution_count": null,
   "id": "034e2056",
   "metadata": {},
   "outputs": [],
   "source": []
  },
  {
   "cell_type": "markdown",
   "id": "91bdd9c5",
   "metadata": {},
   "source": [
    "### 메모리 덤프에서 니모닉 코드 추출하기"
   ]
  },
  {
   "cell_type": "code",
   "execution_count": null,
   "id": "1a4c947c",
   "metadata": {},
   "outputs": [],
   "source": []
  },
  {
   "cell_type": "markdown",
   "id": "471cf914",
   "metadata": {},
   "source": [
    "### 주소/개인키/키스토어/니모닉코드 추출 -> 학회 논문\n",
    "### 주소/개인키/키스토어/니모닉코드 추출 및 웹 UI 구현, 시각화 표현 -> 학위논문 (다크웹 포함)\n"
   ]
  },
  {
   "cell_type": "markdown",
   "id": "2b6c4c2b",
   "metadata": {},
   "source": [
    "## 22.08.26 백업 (주소 검증 완료)"
   ]
  },
  {
   "cell_type": "code",
   "execution_count": null,
   "id": "5760c40e",
   "metadata": {},
   "outputs": [],
   "source": [
    "import struct\n",
    "import re\n",
    "import os\n",
    "import requests\n",
    "from mmap import ACCESS_READ, mmap\n",
    "\n",
    "global valid_address\n",
    "path = input(\"write full path: \")\n",
    "try:\n",
    "    handle = open(path, 'rb+')\n",
    "except IOError:\n",
    "    print('IOError : File path is invalid')\n",
    "    sys.exit()\n",
    "print(path)\n",
    "\n",
    "def showmenu():  # 메뉴 선택 함수\n",
    "    print()\n",
    "    print(\"[Ethereum Aritifacts search choose menu]\")\n",
    "    for i in range(0, len(menu)):\n",
    "        print(i+1, \".\", menu[i])\n",
    "    print()\n",
    "    \n",
    "def artifacts():\n",
    "    if sel == 1:\n",
    "        p = re.compile(rb'0x[a-fA-F0-9]{40}', re.IGNORECASE | re.MULTILINE) #이더리움 주소\n",
    "    elif sel == 2:\n",
    "        p = re.compile(rb'[0-f9a-f]{64}', re.IGNORECASE | re.MULTILINE) #이더리움 개인키\n",
    "    elif sel == 3:\n",
    "        p = re.compile(rb'0x[a-fA-F0-9]{40}', re.IGNORECASE | re.MULTILINE) #이더리움 키스토어\n",
    "    elif sel == 4:\n",
    "        p = re.compile(rb'[a-z]+\\s[a-z]+\\s[a-z]+\\s[a-z]+\\s[a-z]+\\s[a-z]+\\s[a-z]+\\s[a-z]+\\s[a-z]+\\s[a-z]+\\s[a-z]+\\s[a-z]+\\s', re.IGNORECASE | re.MULTILINE) # 나모닉 코드\n",
    "    else:\n",
    "        print(\"another artifacts?\")\n",
    "    print(\"============ Next Step ============\")\n",
    "    with open(path, 'rb') as file, mmap(file.fileno(), length=0, access=ACCESS_READ) as mm:\n",
    "        b=type(mm)\n",
    "        print(b)\n",
    "        f = open('ethereum_address_scan.csv', mode='w')\n",
    "        #f = open('bitcoin_address_scan.csv', mode='w')\n",
    "        #f = open('mnemonic_scan.csv', mode='w')\n",
    "        f.write(\"address\" + \"\\n\")\n",
    "        f.close()\n",
    "        for match in p.finditer(mm):\n",
    "            s = match.start()\n",
    "            e = match.end()\n",
    "            grep_match_found = mm[s:e].decode(\"utf-8\")\n",
    "            address = str(grep_match_found)\n",
    "            #여기서 부터 address 한줄 씩 받아서 검증 및 중복값 제거\n",
    "            apikey = \"WP3JPWBB21D6JRN1AVIE451N4H5YVTJN4M\" \n",
    "            URL = f\"https://api.etherscan.io/api?module=account&action=txlist&apikey={apikey}&sort=desc&address={address}\"\n",
    "            if address in URL:\n",
    "                print(URL)\n",
    "                headers = {'User-Agent': 'Mozilla/5.0'} # header 선언, http 요청 브라우저는 Mozilla.\n",
    "                resp = requests.get(URL).json() # http get 요청을 resp 변수에 json 형태로 선언    \n",
    "                for key, value in resp.items():  # apikey error test\n",
    "                    if value == \"1\":\n",
    "                        print(\"api status : {}\".format(resp[\"message\"]))\n",
    "                        data = resp[\"result\"] # result 결과인 value만 변수에 담기\n",
    "                        #print(data[0])\n",
    "                        valid_address = data[0].get('to')\n",
    "                        print(valid_address)\n",
    "                        f = open('ethereum_address_scan.csv', mode='+a')\n",
    "                        f.write(valid_address + \"\\n\")\n",
    "                    else:\n",
    "                        exit()\n",
    "                    break\n",
    "            #f = open('ethereum_address_scan.csv', mode='+a')\n",
    "            #f = open('mnemonic_scan.csv', mode='+a')\n",
    "            #f.write(valid_address + \"\\n\")\n",
    "            #print(valid_address)\n",
    "        f.close()\n",
    "    file.close()\n",
    "    mm.close()\n",
    "\n",
    "    \n",
    "\n",
    "if __name__ == '__main__':\n",
    "    menu = (\"address\", \"private key\", \"keystore\", \"mnemonic code\")\n",
    "    #number = (1, 2, 3, 4)\n",
    "    #money = 0\n",
    "    #money = int( input(\"돈을 투입하세요 : \") )\n",
    "    while True:\n",
    "        showmenu()\n",
    "        sel = int(input(\"Choose Menu number (Exit 0) : \"))\n",
    "        if sel == 0:\n",
    "            break\n",
    "        elif(sel>=1 and sel <= len(menu)):\n",
    "            #transactions(\"\")\n",
    "            artifacts()\n",
    "            print (\"transaction result print\")\n",
    "            sel1 = str(input(\"[*] Do you want to continue searching? : 'if you enter 'no' and quit process\"))\n",
    "            if sel1 == \"no\":\n",
    "                break\n",
    "            elif sel1 == \"yes\":\n",
    "                print (\"keep going\")\n",
    "                artifacts()\n",
    "            else : \n",
    "                print (\"quit\")\n",
    "        else:\n",
    "            print(\"잘못된 메뉴 번호입니다.\")\n",
    "    print (\"complete search\")\n",
    "\n",
    "# H:\\mem_dump\\memdump_C_210504.mem\n",
    "# H:\\mem_dump\\memdump_A_210524.mem\n",
    "# /mnt/h/mem_dump/memdump_C_210504.mem\n",
    "# /mnt/h/mem_dump/memdump_A_210512.mem\n",
    "#0x9ae08d0118e105dce648a7fba6fc12b2c3e9c288"
   ]
  }
 ],
 "metadata": {
  "kernelspec": {
   "display_name": "Python 3 (ipykernel)",
   "language": "python",
   "name": "python3"
  },
  "language_info": {
   "codemirror_mode": {
    "name": "ipython",
    "version": 3
   },
   "file_extension": ".py",
   "mimetype": "text/x-python",
   "name": "python",
   "nbconvert_exporter": "python",
   "pygments_lexer": "ipython3",
   "version": "3.10.7"
  }
 },
 "nbformat": 4,
 "nbformat_minor": 5
}
